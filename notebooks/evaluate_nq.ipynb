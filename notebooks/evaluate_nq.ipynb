{
  "nbformat": 4,
  "nbformat_minor": 0,
  "metadata": {
    "colab": {
      "name": "evaluate_nq.ipynb",
      "provenance": [],
      "collapsed_sections": [],
      "authorship_tag": "ABX9TyMubPl0/6HRtqx9Cwzsxrww",
      "include_colab_link": true
    },
    "kernelspec": {
      "name": "python3",
      "display_name": "Python 3"
    },
    "language_info": {
      "name": "python"
    },
    "accelerator": "GPU",
    "widgets": {
      "application/vnd.jupyter.widget-state+json": {
        "010dcc27fb64430ca50c74f76b3f1f41": {
          "model_module": "@jupyter-widgets/controls",
          "model_name": "HBoxModel",
          "state": {
            "_view_name": "HBoxView",
            "_dom_classes": [],
            "_model_name": "HBoxModel",
            "_view_module": "@jupyter-widgets/controls",
            "_model_module_version": "1.5.0",
            "_view_count": null,
            "_view_module_version": "1.5.0",
            "box_style": "",
            "layout": "IPY_MODEL_5e0186594eb4424c86336102b95a309a",
            "_model_module": "@jupyter-widgets/controls",
            "children": [
              "IPY_MODEL_96b565c3408444a89ff1146a4e52ed38",
              "IPY_MODEL_6da18b70338b4b029f44b330f0461ef9"
            ]
          }
        },
        "5e0186594eb4424c86336102b95a309a": {
          "model_module": "@jupyter-widgets/base",
          "model_name": "LayoutModel",
          "state": {
            "_view_name": "LayoutView",
            "grid_template_rows": null,
            "right": null,
            "justify_content": null,
            "_view_module": "@jupyter-widgets/base",
            "overflow": null,
            "_model_module_version": "1.2.0",
            "_view_count": null,
            "flex_flow": null,
            "width": null,
            "min_width": null,
            "border": null,
            "align_items": null,
            "bottom": null,
            "_model_module": "@jupyter-widgets/base",
            "top": null,
            "grid_column": null,
            "overflow_y": null,
            "overflow_x": null,
            "grid_auto_flow": null,
            "grid_area": null,
            "grid_template_columns": null,
            "flex": null,
            "_model_name": "LayoutModel",
            "justify_items": null,
            "grid_row": null,
            "max_height": null,
            "align_content": null,
            "visibility": null,
            "align_self": null,
            "height": null,
            "min_height": null,
            "padding": null,
            "grid_auto_rows": null,
            "grid_gap": null,
            "max_width": null,
            "order": null,
            "_view_module_version": "1.2.0",
            "grid_template_areas": null,
            "object_position": null,
            "object_fit": null,
            "grid_auto_columns": null,
            "margin": null,
            "display": null,
            "left": null
          }
        },
        "96b565c3408444a89ff1146a4e52ed38": {
          "model_module": "@jupyter-widgets/controls",
          "model_name": "FloatProgressModel",
          "state": {
            "_view_name": "ProgressView",
            "style": "IPY_MODEL_907b6c6497ef459aa972590eb16baa0c",
            "_dom_classes": [],
            "description": "100%",
            "_model_name": "FloatProgressModel",
            "bar_style": "success",
            "max": 6,
            "_view_module": "@jupyter-widgets/controls",
            "_model_module_version": "1.5.0",
            "value": 6,
            "_view_count": null,
            "_view_module_version": "1.5.0",
            "orientation": "horizontal",
            "min": 0,
            "description_tooltip": null,
            "_model_module": "@jupyter-widgets/controls",
            "layout": "IPY_MODEL_1a6ec46ad532422098aaaa7d88a96a7f"
          }
        },
        "6da18b70338b4b029f44b330f0461ef9": {
          "model_module": "@jupyter-widgets/controls",
          "model_name": "HTMLModel",
          "state": {
            "_view_name": "HTMLView",
            "style": "IPY_MODEL_98dc5d6741524bc88cf64b751994c468",
            "_dom_classes": [],
            "description": "",
            "_model_name": "HTMLModel",
            "placeholder": "​",
            "_view_module": "@jupyter-widgets/controls",
            "_model_module_version": "1.5.0",
            "value": " 6/6 [00:07&lt;00:00,  1.25s/ba]",
            "_view_count": null,
            "_view_module_version": "1.5.0",
            "description_tooltip": null,
            "_model_module": "@jupyter-widgets/controls",
            "layout": "IPY_MODEL_a3fa6fff5067413ab5cdf7c3ede5da81"
          }
        },
        "907b6c6497ef459aa972590eb16baa0c": {
          "model_module": "@jupyter-widgets/controls",
          "model_name": "ProgressStyleModel",
          "state": {
            "_view_name": "StyleView",
            "_model_name": "ProgressStyleModel",
            "description_width": "initial",
            "_view_module": "@jupyter-widgets/base",
            "_model_module_version": "1.5.0",
            "_view_count": null,
            "_view_module_version": "1.2.0",
            "bar_color": null,
            "_model_module": "@jupyter-widgets/controls"
          }
        },
        "1a6ec46ad532422098aaaa7d88a96a7f": {
          "model_module": "@jupyter-widgets/base",
          "model_name": "LayoutModel",
          "state": {
            "_view_name": "LayoutView",
            "grid_template_rows": null,
            "right": null,
            "justify_content": null,
            "_view_module": "@jupyter-widgets/base",
            "overflow": null,
            "_model_module_version": "1.2.0",
            "_view_count": null,
            "flex_flow": null,
            "width": null,
            "min_width": null,
            "border": null,
            "align_items": null,
            "bottom": null,
            "_model_module": "@jupyter-widgets/base",
            "top": null,
            "grid_column": null,
            "overflow_y": null,
            "overflow_x": null,
            "grid_auto_flow": null,
            "grid_area": null,
            "grid_template_columns": null,
            "flex": null,
            "_model_name": "LayoutModel",
            "justify_items": null,
            "grid_row": null,
            "max_height": null,
            "align_content": null,
            "visibility": null,
            "align_self": null,
            "height": null,
            "min_height": null,
            "padding": null,
            "grid_auto_rows": null,
            "grid_gap": null,
            "max_width": null,
            "order": null,
            "_view_module_version": "1.2.0",
            "grid_template_areas": null,
            "object_position": null,
            "object_fit": null,
            "grid_auto_columns": null,
            "margin": null,
            "display": null,
            "left": null
          }
        },
        "98dc5d6741524bc88cf64b751994c468": {
          "model_module": "@jupyter-widgets/controls",
          "model_name": "DescriptionStyleModel",
          "state": {
            "_view_name": "StyleView",
            "_model_name": "DescriptionStyleModel",
            "description_width": "",
            "_view_module": "@jupyter-widgets/base",
            "_model_module_version": "1.5.0",
            "_view_count": null,
            "_view_module_version": "1.2.0",
            "_model_module": "@jupyter-widgets/controls"
          }
        },
        "a3fa6fff5067413ab5cdf7c3ede5da81": {
          "model_module": "@jupyter-widgets/base",
          "model_name": "LayoutModel",
          "state": {
            "_view_name": "LayoutView",
            "grid_template_rows": null,
            "right": null,
            "justify_content": null,
            "_view_module": "@jupyter-widgets/base",
            "overflow": null,
            "_model_module_version": "1.2.0",
            "_view_count": null,
            "flex_flow": null,
            "width": null,
            "min_width": null,
            "border": null,
            "align_items": null,
            "bottom": null,
            "_model_module": "@jupyter-widgets/base",
            "top": null,
            "grid_column": null,
            "overflow_y": null,
            "overflow_x": null,
            "grid_auto_flow": null,
            "grid_area": null,
            "grid_template_columns": null,
            "flex": null,
            "_model_name": "LayoutModel",
            "justify_items": null,
            "grid_row": null,
            "max_height": null,
            "align_content": null,
            "visibility": null,
            "align_self": null,
            "height": null,
            "min_height": null,
            "padding": null,
            "grid_auto_rows": null,
            "grid_gap": null,
            "max_width": null,
            "order": null,
            "_view_module_version": "1.2.0",
            "grid_template_areas": null,
            "object_position": null,
            "object_fit": null,
            "grid_auto_columns": null,
            "margin": null,
            "display": null,
            "left": null
          }
        }
      }
    }
  },
  "cells": [
    {
      "cell_type": "markdown",
      "metadata": {
        "id": "view-in-github",
        "colab_type": "text"
      },
      "source": [
        "<a href=\"https://colab.research.google.com/github/vasudevgupta7/bigbird/blob/main/notebooks/evaluate_nq.ipynb\" target=\"_parent\"><img src=\"https://colab.research.google.com/assets/colab-badge.svg\" alt=\"Open In Colab\"/></a>"
      ]
    },
    {
      "cell_type": "code",
      "metadata": {
        "colab": {
          "base_uri": "https://localhost:8080/"
        },
        "id": "XZmucHS1ND0g",
        "outputId": "d427b1a2-97a2-434c-f36d-f8a153625bc8"
      },
      "source": [
        "!nvidia-smi"
      ],
      "execution_count": null,
      "outputs": [
        {
          "output_type": "stream",
          "text": [
            "Tue May  4 07:08:22 2021       \n",
            "+-----------------------------------------------------------------------------+\n",
            "| NVIDIA-SMI 465.19.01    Driver Version: 460.32.03    CUDA Version: 11.2     |\n",
            "|-------------------------------+----------------------+----------------------+\n",
            "| GPU  Name        Persistence-M| Bus-Id        Disp.A | Volatile Uncorr. ECC |\n",
            "| Fan  Temp  Perf  Pwr:Usage/Cap|         Memory-Usage | GPU-Util  Compute M. |\n",
            "|                               |                      |               MIG M. |\n",
            "|===============================+======================+======================|\n",
            "|   0  Tesla T4            Off  | 00000000:00:04.0 Off |                    0 |\n",
            "| N/A   39C    P8     9W /  70W |      0MiB / 15109MiB |      0%      Default |\n",
            "|                               |                      |                  N/A |\n",
            "+-------------------------------+----------------------+----------------------+\n",
            "                                                                               \n",
            "+-----------------------------------------------------------------------------+\n",
            "| Processes:                                                                  |\n",
            "|  GPU   GI   CI        PID   Type   Process name                  GPU Memory |\n",
            "|        ID   ID                                                   Usage      |\n",
            "|=============================================================================|\n",
            "|  No running processes found                                                 |\n",
            "+-----------------------------------------------------------------------------+\n"
          ],
          "name": "stdout"
        }
      ]
    },
    {
      "cell_type": "code",
      "metadata": {
        "id": "gKcvuGzhJVUq"
      },
      "source": [
        "%%capture\n",
        "!git clone https://github.com/vasudevgupta7/bigbird\n",
        "!cd bigbird/natural-questions && pip3 install -r requirements.txt"
      ],
      "execution_count": null,
      "outputs": []
    },
    {
      "cell_type": "code",
      "metadata": {
        "colab": {
          "base_uri": "https://localhost:8080/"
        },
        "id": "UF8nh3uYJlhn",
        "outputId": "009cdcbe-87bd-4970-8950-c5d58e09a378"
      },
      "source": [
        "cd bigbird/natural-questions"
      ],
      "execution_count": null,
      "outputs": [
        {
          "output_type": "stream",
          "text": [
            "/content/bigbird/natural-questions\n"
          ],
          "name": "stdout"
        }
      ]
    },
    {
      "cell_type": "code",
      "metadata": {
        "colab": {
          "base_uri": "https://localhost:8080/"
        },
        "id": "JgSRGx3mKA8d",
        "outputId": "f2ca550c-4316-4c9f-df45-e849f20466f2"
      },
      "source": [
        "!wget https://huggingface.co/datasets/vasudevgupta/bigbird-tokenized-natural-questions/resolve/main/nq-val.zip\n",
        "!unzip nq-val.zip"
      ],
      "execution_count": null,
      "outputs": [
        {
          "output_type": "stream",
          "text": [
            "--2021-05-04 07:09:04--  https://huggingface.co/datasets/vasudevgupta/bigbird-tokenized-natural-questions/resolve/main/nq-val.zip\n",
            "Resolving huggingface.co (huggingface.co)... 34.201.172.85\n",
            "Connecting to huggingface.co (huggingface.co)|34.201.172.85|:443... connected.\n",
            "HTTP request sent, awaiting response... 302 Found\n",
            "Location: https://cdn-lfs.huggingface.co/datasets/vasudevgupta/bigbird-tokenized-natural-questions/7209e971aef2261347768a33938ea3b1d7d741bd0bb8aa3dc803679f60ec076a [following]\n",
            "--2021-05-04 07:09:04--  https://cdn-lfs.huggingface.co/datasets/vasudevgupta/bigbird-tokenized-natural-questions/7209e971aef2261347768a33938ea3b1d7d741bd0bb8aa3dc803679f60ec076a\n",
            "Resolving cdn-lfs.huggingface.co (cdn-lfs.huggingface.co)... 52.85.144.72, 52.85.144.70, 52.85.144.56, ...\n",
            "Connecting to cdn-lfs.huggingface.co (cdn-lfs.huggingface.co)|52.85.144.72|:443... connected.\n",
            "HTTP request sent, awaiting response... 200 OK\n",
            "Length: 50599510 (48M) [application/zip]\n",
            "Saving to: ‘nq-val.zip’\n",
            "\n",
            "nq-val.zip          100%[===================>]  48.25M  97.2MB/s    in 0.5s    \n",
            "\n",
            "2021-05-04 07:09:05 (97.2 MB/s) - ‘nq-val.zip’ saved [50599510/50599510]\n",
            "\n",
            "Archive:  nq-val.zip\n",
            "  inflating: nq-validation.jsonl     \n"
          ],
          "name": "stdout"
        }
      ]
    },
    {
      "cell_type": "code",
      "metadata": {
        "colab": {
          "base_uri": "https://localhost:8080/"
        },
        "id": "VGiPE3jSKVoV",
        "outputId": "5c5b9b6a-bec2-4d0d-950f-cbb270c25bad"
      },
      "source": [
        "ls"
      ],
      "execution_count": null,
      "outputs": [
        {
          "output_type": "stream",
          "text": [
            "evaluate_nq.py       nq-val.zip  prepare_nq.py     train_nq.py\n",
            "nq-validation.jsonl  params.py   requirements.txt\n"
          ],
          "name": "stdout"
        }
      ]
    },
    {
      "cell_type": "code",
      "metadata": {
        "id": "wHCF-6xNI7ju"
      },
      "source": [
        "import torch\n",
        "import numpy as np\n",
        "from transformers import BigBirdTokenizer\n",
        "from datasets import load_dataset\n",
        "\n",
        "from params import CATEGORY_MAPPING\n",
        "from train_nq import BigBirdForNaturalQuestions\n",
        "\n",
        "CATEGORY_MAPPING = {v: k for k, v in CATEGORY_MAPPING.items()}"
      ],
      "execution_count": null,
      "outputs": []
    },
    {
      "cell_type": "code",
      "metadata": {
        "id": "-rSFgoWeKXyj"
      },
      "source": [
        "def evaluate(example, print_output=False):\n",
        "    input_ids = example[\"input_ids\"]\n",
        "    input_ids = torch.tensor(input_ids, device=device, dtype=torch.long)\n",
        "    input_ids.unsqueeze_(0)\n",
        "\n",
        "    with torch.no_grad():\n",
        "        outputs = model(input_ids=input_ids)\n",
        "        _, start = outputs[\"start_logits\"].max(dim=-1)\n",
        "        _, end = outputs[\"end_logits\"].max(dim=-1)\n",
        "        start, end = start.item(), end.item()\n",
        "        _, category = outputs[\"cls_out\"].max(dim=-1)\n",
        "\n",
        "    predicted_category = CATEGORY_MAPPING[category.item()]\n",
        "    original_category = CATEGORY_MAPPING[example['category']]\n",
        "\n",
        "    input_ids = input_ids[0].cpu().tolist()\n",
        "    answer = tokenizer.decode(input_ids[start: end+1])\n",
        "    orig_answer = tokenizer.decode(input_ids[example[\"start_token\"]: example[\"end_token\"]+1])\n",
        "\n",
        "    if print_output:\n",
        "        print(tokenizer.decode(input_ids[1:input_ids.index(tokenizer.sep_token_id)]))\n",
        "        print(\"original_category:\", original_category)\n",
        "        print(\"predicted_category:\", predicted_category)\n",
        "        if original_category in ['long', 'short']:\n",
        "            print(\"original_answer:\", orig_answer)\n",
        "            print(\"predicted_answer:\", answer, end=\"\\n\\n\")\n",
        "\n",
        "    example[\"orig_answer\"] = orig_answer\n",
        "    example[\"answer\"] = answer\n",
        "    if predicted_category in ['yes', 'no', 'null']:\n",
        "        example['match'] = 1 if predicted_category == original_category else 0\n",
        "    else:\n",
        "        example['match'] = 1 if answer == orig_answer else 0 # exact match\n",
        "    return example"
      ],
      "execution_count": 11,
      "outputs": []
    },
    {
      "cell_type": "code",
      "metadata": {
        "colab": {
          "base_uri": "https://localhost:8080/"
        },
        "id": "FgBtSb7XKfU7",
        "outputId": "f4d3bb07-f8e7-4611-ba15-642d90762a25"
      },
      "source": [
        "revision = \"4daa96c5befa9b728c47a77280ef9484377d7791\"\n",
        "MODEL_ID = \"vasudevgupta/bigbird-roberta-natural-questions\"\n",
        "\n",
        "device = torch.device(\"cuda\") if torch.cuda.is_available() else torch.device(\"cpu\")\n",
        "model = BigBirdForNaturalQuestions.from_pretrained(MODEL_ID, revision=revision).to(device)\n",
        "tokenizer = BigBirdTokenizer.from_pretrained(MODEL_ID, revision=revision)\n",
        "\n",
        "val_dataset = load_dataset(\"json\", data_files=\"nq-validation.jsonl\")['train']\n",
        "# val_dataset = val_dataset.filter(lambda x: x['category'] != 0)\n",
        "print(val_dataset)"
      ],
      "execution_count": 12,
      "outputs": [
        {
          "output_type": "stream",
          "text": [
            "Using custom data configuration default-64367e4e8e6b551b\n",
            "Reusing dataset json (/root/.cache/huggingface/datasets/json/default-64367e4e8e6b551b/0.0.0/83d5b3a2f62630efc6b5315f00f20209b4ad91a00ac586597caee3a4da0bef02)\n"
          ],
          "name": "stderr"
        },
        {
          "output_type": "stream",
          "text": [
            "Dataset({\n",
            "    features: ['input_ids', 'start_token', 'end_token', 'category'],\n",
            "    num_rows: 10662\n",
            "})\n"
          ],
          "name": "stdout"
        }
      ]
    },
    {
      "cell_type": "code",
      "metadata": {
        "id": "GWiMuSiMK85d"
      },
      "source": [
        "val_dataset = val_dataset.map(evaluate)"
      ],
      "execution_count": null,
      "outputs": []
    },
    {
      "cell_type": "code",
      "metadata": {
        "id": "a5hs_Ym4Lc-2",
        "colab": {
          "base_uri": "https://localhost:8080/",
          "height": 83,
          "referenced_widgets": [
            "010dcc27fb64430ca50c74f76b3f1f41",
            "5e0186594eb4424c86336102b95a309a",
            "96b565c3408444a89ff1146a4e52ed38",
            "6da18b70338b4b029f44b330f0461ef9",
            "907b6c6497ef459aa972590eb16baa0c",
            "1a6ec46ad532422098aaaa7d88a96a7f",
            "98dc5d6741524bc88cf64b751994c468",
            "a3fa6fff5067413ab5cdf7c3ede5da81"
          ]
        },
        "outputId": "931ceb6f-ac93-4661-fedf-bb9133131323"
      },
      "source": [
        "total = len(val_dataset)\n",
        "matched = len(val_dataset.filter(lambda x: x[\"match\"] == 1))\n",
        "print(\"EM score:\", (matched / total)*100, \"%\")"
      ],
      "execution_count": 10,
      "outputs": [
        {
          "output_type": "display_data",
          "data": {
            "application/vnd.jupyter.widget-view+json": {
              "model_id": "010dcc27fb64430ca50c74f76b3f1f41",
              "version_minor": 0,
              "version_major": 2
            },
            "text/plain": [
              "HBox(children=(FloatProgress(value=0.0, max=6.0), HTML(value='')))"
            ]
          },
          "metadata": {
            "tags": []
          }
        },
        {
          "output_type": "stream",
          "text": [
            "\n",
            "EM score: 25.447830101569714 %\n"
          ],
          "name": "stdout"
        }
      ]
    },
    {
      "cell_type": "code",
      "metadata": {
        "id": "QmVe3JkIMdjS"
      },
      "source": [
        "val_data.save_to_disk(\"results-nq\")"
      ],
      "execution_count": null,
      "outputs": []
    },
    {
      "cell_type": "code",
      "metadata": {
        "id": "etFI0EXmR7yu"
      },
      "source": [
        ""
      ],
      "execution_count": null,
      "outputs": []
    }
  ]
}