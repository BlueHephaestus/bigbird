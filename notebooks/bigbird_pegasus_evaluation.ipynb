{
  "nbformat": 4,
  "nbformat_minor": 0,
  "metadata": {
    "accelerator": "GPU",
    "colab": {
      "name": "Bigbird-Pegasus-Evaluation.ipynb",
      "provenance": [],
      "collapsed_sections": [],
      "include_colab_link": true
    },
    "kernelspec": {
      "display_name": "Python 3",
      "language": "python",
      "name": "python3"
    },
    "language_info": {
      "codemirror_mode": {
        "name": "ipython",
        "version": 3
      },
      "file_extension": ".py",
      "mimetype": "text/x-python",
      "name": "python",
      "nbconvert_exporter": "python",
      "pygments_lexer": "ipython3",
      "version": "3.8.8"
    },
    "widgets": {
      "application/vnd.jupyter.widget-state+json": {
        "b19d3cae31ba4bb1a5cc5bf7eee1dd26": {
          "model_module": "@jupyter-widgets/controls",
          "model_name": "HBoxModel",
          "state": {
            "_view_name": "HBoxView",
            "_dom_classes": [],
            "_model_name": "HBoxModel",
            "_view_module": "@jupyter-widgets/controls",
            "_model_module_version": "1.5.0",
            "_view_count": null,
            "_view_module_version": "1.5.0",
            "box_style": "",
            "layout": "IPY_MODEL_06747c9e1e1a40ac939ad66c7d68cda6",
            "_model_module": "@jupyter-widgets/controls",
            "children": [
              "IPY_MODEL_c66fe26369924e3c83c4d24bad763787",
              "IPY_MODEL_e8f23f935c5a41f1bfb8f633178fba8b"
            ]
          }
        },
        "06747c9e1e1a40ac939ad66c7d68cda6": {
          "model_module": "@jupyter-widgets/base",
          "model_name": "LayoutModel",
          "state": {
            "_view_name": "LayoutView",
            "grid_template_rows": null,
            "right": null,
            "justify_content": null,
            "_view_module": "@jupyter-widgets/base",
            "overflow": null,
            "_model_module_version": "1.2.0",
            "_view_count": null,
            "flex_flow": null,
            "width": null,
            "min_width": null,
            "border": null,
            "align_items": null,
            "bottom": null,
            "_model_module": "@jupyter-widgets/base",
            "top": null,
            "grid_column": null,
            "overflow_y": null,
            "overflow_x": null,
            "grid_auto_flow": null,
            "grid_area": null,
            "grid_template_columns": null,
            "flex": null,
            "_model_name": "LayoutModel",
            "justify_items": null,
            "grid_row": null,
            "max_height": null,
            "align_content": null,
            "visibility": null,
            "align_self": null,
            "height": null,
            "min_height": null,
            "padding": null,
            "grid_auto_rows": null,
            "grid_gap": null,
            "max_width": null,
            "order": null,
            "_view_module_version": "1.2.0",
            "grid_template_areas": null,
            "object_position": null,
            "object_fit": null,
            "grid_auto_columns": null,
            "margin": null,
            "display": null,
            "left": null
          }
        },
        "c66fe26369924e3c83c4d24bad763787": {
          "model_module": "@jupyter-widgets/controls",
          "model_name": "FloatProgressModel",
          "state": {
            "_view_name": "ProgressView",
            "style": "IPY_MODEL_300270218c184072a0ad70d1fd5d0b91",
            "_dom_classes": [],
            "description": "Downloading: 100%",
            "_model_name": "FloatProgressModel",
            "bar_style": "success",
            "max": 1054,
            "_view_module": "@jupyter-widgets/controls",
            "_model_module_version": "1.5.0",
            "value": 1054,
            "_view_count": null,
            "_view_module_version": "1.5.0",
            "orientation": "horizontal",
            "min": 0,
            "description_tooltip": null,
            "_model_module": "@jupyter-widgets/controls",
            "layout": "IPY_MODEL_b0733432bdb444eb8493f4e328766f4c"
          }
        },
        "e8f23f935c5a41f1bfb8f633178fba8b": {
          "model_module": "@jupyter-widgets/controls",
          "model_name": "HTMLModel",
          "state": {
            "_view_name": "HTMLView",
            "style": "IPY_MODEL_f0ec49d704184df29fa64a7a82683788",
            "_dom_classes": [],
            "description": "",
            "_model_name": "HTMLModel",
            "placeholder": "​",
            "_view_module": "@jupyter-widgets/controls",
            "_model_module_version": "1.5.0",
            "value": " 1.05k/1.05k [00:02&lt;00:00, 442B/s]",
            "_view_count": null,
            "_view_module_version": "1.5.0",
            "description_tooltip": null,
            "_model_module": "@jupyter-widgets/controls",
            "layout": "IPY_MODEL_b0ab7401339948b0a6ae8d928e358635"
          }
        },
        "300270218c184072a0ad70d1fd5d0b91": {
          "model_module": "@jupyter-widgets/controls",
          "model_name": "ProgressStyleModel",
          "state": {
            "_view_name": "StyleView",
            "_model_name": "ProgressStyleModel",
            "description_width": "initial",
            "_view_module": "@jupyter-widgets/base",
            "_model_module_version": "1.5.0",
            "_view_count": null,
            "_view_module_version": "1.2.0",
            "bar_color": null,
            "_model_module": "@jupyter-widgets/controls"
          }
        },
        "b0733432bdb444eb8493f4e328766f4c": {
          "model_module": "@jupyter-widgets/base",
          "model_name": "LayoutModel",
          "state": {
            "_view_name": "LayoutView",
            "grid_template_rows": null,
            "right": null,
            "justify_content": null,
            "_view_module": "@jupyter-widgets/base",
            "overflow": null,
            "_model_module_version": "1.2.0",
            "_view_count": null,
            "flex_flow": null,
            "width": null,
            "min_width": null,
            "border": null,
            "align_items": null,
            "bottom": null,
            "_model_module": "@jupyter-widgets/base",
            "top": null,
            "grid_column": null,
            "overflow_y": null,
            "overflow_x": null,
            "grid_auto_flow": null,
            "grid_area": null,
            "grid_template_columns": null,
            "flex": null,
            "_model_name": "LayoutModel",
            "justify_items": null,
            "grid_row": null,
            "max_height": null,
            "align_content": null,
            "visibility": null,
            "align_self": null,
            "height": null,
            "min_height": null,
            "padding": null,
            "grid_auto_rows": null,
            "grid_gap": null,
            "max_width": null,
            "order": null,
            "_view_module_version": "1.2.0",
            "grid_template_areas": null,
            "object_position": null,
            "object_fit": null,
            "grid_auto_columns": null,
            "margin": null,
            "display": null,
            "left": null
          }
        },
        "f0ec49d704184df29fa64a7a82683788": {
          "model_module": "@jupyter-widgets/controls",
          "model_name": "DescriptionStyleModel",
          "state": {
            "_view_name": "StyleView",
            "_model_name": "DescriptionStyleModel",
            "description_width": "",
            "_view_module": "@jupyter-widgets/base",
            "_model_module_version": "1.5.0",
            "_view_count": null,
            "_view_module_version": "1.2.0",
            "_model_module": "@jupyter-widgets/controls"
          }
        },
        "b0ab7401339948b0a6ae8d928e358635": {
          "model_module": "@jupyter-widgets/base",
          "model_name": "LayoutModel",
          "state": {
            "_view_name": "LayoutView",
            "grid_template_rows": null,
            "right": null,
            "justify_content": null,
            "_view_module": "@jupyter-widgets/base",
            "overflow": null,
            "_model_module_version": "1.2.0",
            "_view_count": null,
            "flex_flow": null,
            "width": null,
            "min_width": null,
            "border": null,
            "align_items": null,
            "bottom": null,
            "_model_module": "@jupyter-widgets/base",
            "top": null,
            "grid_column": null,
            "overflow_y": null,
            "overflow_x": null,
            "grid_auto_flow": null,
            "grid_area": null,
            "grid_template_columns": null,
            "flex": null,
            "_model_name": "LayoutModel",
            "justify_items": null,
            "grid_row": null,
            "max_height": null,
            "align_content": null,
            "visibility": null,
            "align_self": null,
            "height": null,
            "min_height": null,
            "padding": null,
            "grid_auto_rows": null,
            "grid_gap": null,
            "max_width": null,
            "order": null,
            "_view_module_version": "1.2.0",
            "grid_template_areas": null,
            "object_position": null,
            "object_fit": null,
            "grid_auto_columns": null,
            "margin": null,
            "display": null,
            "left": null
          }
        },
        "57261b289ed149c997cce2d336cff067": {
          "model_module": "@jupyter-widgets/controls",
          "model_name": "HBoxModel",
          "state": {
            "_view_name": "HBoxView",
            "_dom_classes": [],
            "_model_name": "HBoxModel",
            "_view_module": "@jupyter-widgets/controls",
            "_model_module_version": "1.5.0",
            "_view_count": null,
            "_view_module_version": "1.5.0",
            "box_style": "",
            "layout": "IPY_MODEL_b77316cbf4e44349b35627ed5c2e1a81",
            "_model_module": "@jupyter-widgets/controls",
            "children": [
              "IPY_MODEL_f01e4bc32200415eac13e0f0b1f9968d",
              "IPY_MODEL_6193c20b1d4d4835b29766817443e95f"
            ]
          }
        },
        "b77316cbf4e44349b35627ed5c2e1a81": {
          "model_module": "@jupyter-widgets/base",
          "model_name": "LayoutModel",
          "state": {
            "_view_name": "LayoutView",
            "grid_template_rows": null,
            "right": null,
            "justify_content": null,
            "_view_module": "@jupyter-widgets/base",
            "overflow": null,
            "_model_module_version": "1.2.0",
            "_view_count": null,
            "flex_flow": null,
            "width": null,
            "min_width": null,
            "border": null,
            "align_items": null,
            "bottom": null,
            "_model_module": "@jupyter-widgets/base",
            "top": null,
            "grid_column": null,
            "overflow_y": null,
            "overflow_x": null,
            "grid_auto_flow": null,
            "grid_area": null,
            "grid_template_columns": null,
            "flex": null,
            "_model_name": "LayoutModel",
            "justify_items": null,
            "grid_row": null,
            "max_height": null,
            "align_content": null,
            "visibility": null,
            "align_self": null,
            "height": null,
            "min_height": null,
            "padding": null,
            "grid_auto_rows": null,
            "grid_gap": null,
            "max_width": null,
            "order": null,
            "_view_module_version": "1.2.0",
            "grid_template_areas": null,
            "object_position": null,
            "object_fit": null,
            "grid_auto_columns": null,
            "margin": null,
            "display": null,
            "left": null
          }
        },
        "f01e4bc32200415eac13e0f0b1f9968d": {
          "model_module": "@jupyter-widgets/controls",
          "model_name": "FloatProgressModel",
          "state": {
            "_view_name": "ProgressView",
            "style": "IPY_MODEL_49cc871b5dd843639181024b3e7ad849",
            "_dom_classes": [],
            "description": "Downloading: 100%",
            "_model_name": "FloatProgressModel",
            "bar_style": "success",
            "max": 1915455,
            "_view_module": "@jupyter-widgets/controls",
            "_model_module_version": "1.5.0",
            "value": 1915455,
            "_view_count": null,
            "_view_module_version": "1.5.0",
            "orientation": "horizontal",
            "min": 0,
            "description_tooltip": null,
            "_model_module": "@jupyter-widgets/controls",
            "layout": "IPY_MODEL_9a5d6df67dba47909e24067134dcf76b"
          }
        },
        "6193c20b1d4d4835b29766817443e95f": {
          "model_module": "@jupyter-widgets/controls",
          "model_name": "HTMLModel",
          "state": {
            "_view_name": "HTMLView",
            "style": "IPY_MODEL_38737c236a6b4cf4a2b8d5d2fa552235",
            "_dom_classes": [],
            "description": "",
            "_model_name": "HTMLModel",
            "placeholder": "​",
            "_view_module": "@jupyter-widgets/controls",
            "_model_module_version": "1.5.0",
            "value": " 1.92M/1.92M [00:01&lt;00:00, 1.40MB/s]",
            "_view_count": null,
            "_view_module_version": "1.5.0",
            "description_tooltip": null,
            "_model_module": "@jupyter-widgets/controls",
            "layout": "IPY_MODEL_683b61dd6ab74180983a319af13d560f"
          }
        },
        "49cc871b5dd843639181024b3e7ad849": {
          "model_module": "@jupyter-widgets/controls",
          "model_name": "ProgressStyleModel",
          "state": {
            "_view_name": "StyleView",
            "_model_name": "ProgressStyleModel",
            "description_width": "initial",
            "_view_module": "@jupyter-widgets/base",
            "_model_module_version": "1.5.0",
            "_view_count": null,
            "_view_module_version": "1.2.0",
            "bar_color": null,
            "_model_module": "@jupyter-widgets/controls"
          }
        },
        "9a5d6df67dba47909e24067134dcf76b": {
          "model_module": "@jupyter-widgets/base",
          "model_name": "LayoutModel",
          "state": {
            "_view_name": "LayoutView",
            "grid_template_rows": null,
            "right": null,
            "justify_content": null,
            "_view_module": "@jupyter-widgets/base",
            "overflow": null,
            "_model_module_version": "1.2.0",
            "_view_count": null,
            "flex_flow": null,
            "width": null,
            "min_width": null,
            "border": null,
            "align_items": null,
            "bottom": null,
            "_model_module": "@jupyter-widgets/base",
            "top": null,
            "grid_column": null,
            "overflow_y": null,
            "overflow_x": null,
            "grid_auto_flow": null,
            "grid_area": null,
            "grid_template_columns": null,
            "flex": null,
            "_model_name": "LayoutModel",
            "justify_items": null,
            "grid_row": null,
            "max_height": null,
            "align_content": null,
            "visibility": null,
            "align_self": null,
            "height": null,
            "min_height": null,
            "padding": null,
            "grid_auto_rows": null,
            "grid_gap": null,
            "max_width": null,
            "order": null,
            "_view_module_version": "1.2.0",
            "grid_template_areas": null,
            "object_position": null,
            "object_fit": null,
            "grid_auto_columns": null,
            "margin": null,
            "display": null,
            "left": null
          }
        },
        "38737c236a6b4cf4a2b8d5d2fa552235": {
          "model_module": "@jupyter-widgets/controls",
          "model_name": "DescriptionStyleModel",
          "state": {
            "_view_name": "StyleView",
            "_model_name": "DescriptionStyleModel",
            "description_width": "",
            "_view_module": "@jupyter-widgets/base",
            "_model_module_version": "1.5.0",
            "_view_count": null,
            "_view_module_version": "1.2.0",
            "_model_module": "@jupyter-widgets/controls"
          }
        },
        "683b61dd6ab74180983a319af13d560f": {
          "model_module": "@jupyter-widgets/base",
          "model_name": "LayoutModel",
          "state": {
            "_view_name": "LayoutView",
            "grid_template_rows": null,
            "right": null,
            "justify_content": null,
            "_view_module": "@jupyter-widgets/base",
            "overflow": null,
            "_model_module_version": "1.2.0",
            "_view_count": null,
            "flex_flow": null,
            "width": null,
            "min_width": null,
            "border": null,
            "align_items": null,
            "bottom": null,
            "_model_module": "@jupyter-widgets/base",
            "top": null,
            "grid_column": null,
            "overflow_y": null,
            "overflow_x": null,
            "grid_auto_flow": null,
            "grid_area": null,
            "grid_template_columns": null,
            "flex": null,
            "_model_name": "LayoutModel",
            "justify_items": null,
            "grid_row": null,
            "max_height": null,
            "align_content": null,
            "visibility": null,
            "align_self": null,
            "height": null,
            "min_height": null,
            "padding": null,
            "grid_auto_rows": null,
            "grid_gap": null,
            "max_width": null,
            "order": null,
            "_view_module_version": "1.2.0",
            "grid_template_areas": null,
            "object_position": null,
            "object_fit": null,
            "grid_auto_columns": null,
            "margin": null,
            "display": null,
            "left": null
          }
        },
        "936d32a9e4234ae6a0b5cd2c2990801b": {
          "model_module": "@jupyter-widgets/controls",
          "model_name": "HBoxModel",
          "state": {
            "_view_name": "HBoxView",
            "_dom_classes": [],
            "_model_name": "HBoxModel",
            "_view_module": "@jupyter-widgets/controls",
            "_model_module_version": "1.5.0",
            "_view_count": null,
            "_view_module_version": "1.5.0",
            "box_style": "",
            "layout": "IPY_MODEL_d75a409a33e74bf4b3aae0916c13799a",
            "_model_module": "@jupyter-widgets/controls",
            "children": [
              "IPY_MODEL_723e12f665a24471bbfb6efbf3cfbcda",
              "IPY_MODEL_e30f72902112477da30a17086c84f6d2"
            ]
          }
        },
        "d75a409a33e74bf4b3aae0916c13799a": {
          "model_module": "@jupyter-widgets/base",
          "model_name": "LayoutModel",
          "state": {
            "_view_name": "LayoutView",
            "grid_template_rows": null,
            "right": null,
            "justify_content": null,
            "_view_module": "@jupyter-widgets/base",
            "overflow": null,
            "_model_module_version": "1.2.0",
            "_view_count": null,
            "flex_flow": null,
            "width": null,
            "min_width": null,
            "border": null,
            "align_items": null,
            "bottom": null,
            "_model_module": "@jupyter-widgets/base",
            "top": null,
            "grid_column": null,
            "overflow_y": null,
            "overflow_x": null,
            "grid_auto_flow": null,
            "grid_area": null,
            "grid_template_columns": null,
            "flex": null,
            "_model_name": "LayoutModel",
            "justify_items": null,
            "grid_row": null,
            "max_height": null,
            "align_content": null,
            "visibility": null,
            "align_self": null,
            "height": null,
            "min_height": null,
            "padding": null,
            "grid_auto_rows": null,
            "grid_gap": null,
            "max_width": null,
            "order": null,
            "_view_module_version": "1.2.0",
            "grid_template_areas": null,
            "object_position": null,
            "object_fit": null,
            "grid_auto_columns": null,
            "margin": null,
            "display": null,
            "left": null
          }
        },
        "723e12f665a24471bbfb6efbf3cfbcda": {
          "model_module": "@jupyter-widgets/controls",
          "model_name": "FloatProgressModel",
          "state": {
            "_view_name": "ProgressView",
            "style": "IPY_MODEL_e8853b2140cf4a1692a07e5a66a6e3ae",
            "_dom_classes": [],
            "description": "Downloading: 100%",
            "_model_name": "FloatProgressModel",
            "bar_style": "success",
            "max": 775,
            "_view_module": "@jupyter-widgets/controls",
            "_model_module_version": "1.5.0",
            "value": 775,
            "_view_count": null,
            "_view_module_version": "1.5.0",
            "orientation": "horizontal",
            "min": 0,
            "description_tooltip": null,
            "_model_module": "@jupyter-widgets/controls",
            "layout": "IPY_MODEL_5af7ac6dfc5a4887b41a528e8689decf"
          }
        },
        "e30f72902112477da30a17086c84f6d2": {
          "model_module": "@jupyter-widgets/controls",
          "model_name": "HTMLModel",
          "state": {
            "_view_name": "HTMLView",
            "style": "IPY_MODEL_bb61d029e5f54365b7b14c239f7d6856",
            "_dom_classes": [],
            "description": "",
            "_model_name": "HTMLModel",
            "placeholder": "​",
            "_view_module": "@jupyter-widgets/controls",
            "_model_module_version": "1.5.0",
            "value": " 775/775 [00:00&lt;00:00, 782B/s]",
            "_view_count": null,
            "_view_module_version": "1.5.0",
            "description_tooltip": null,
            "_model_module": "@jupyter-widgets/controls",
            "layout": "IPY_MODEL_7b20ad32ba384457bc51b56aacd4eb4a"
          }
        },
        "e8853b2140cf4a1692a07e5a66a6e3ae": {
          "model_module": "@jupyter-widgets/controls",
          "model_name": "ProgressStyleModel",
          "state": {
            "_view_name": "StyleView",
            "_model_name": "ProgressStyleModel",
            "description_width": "initial",
            "_view_module": "@jupyter-widgets/base",
            "_model_module_version": "1.5.0",
            "_view_count": null,
            "_view_module_version": "1.2.0",
            "bar_color": null,
            "_model_module": "@jupyter-widgets/controls"
          }
        },
        "5af7ac6dfc5a4887b41a528e8689decf": {
          "model_module": "@jupyter-widgets/base",
          "model_name": "LayoutModel",
          "state": {
            "_view_name": "LayoutView",
            "grid_template_rows": null,
            "right": null,
            "justify_content": null,
            "_view_module": "@jupyter-widgets/base",
            "overflow": null,
            "_model_module_version": "1.2.0",
            "_view_count": null,
            "flex_flow": null,
            "width": null,
            "min_width": null,
            "border": null,
            "align_items": null,
            "bottom": null,
            "_model_module": "@jupyter-widgets/base",
            "top": null,
            "grid_column": null,
            "overflow_y": null,
            "overflow_x": null,
            "grid_auto_flow": null,
            "grid_area": null,
            "grid_template_columns": null,
            "flex": null,
            "_model_name": "LayoutModel",
            "justify_items": null,
            "grid_row": null,
            "max_height": null,
            "align_content": null,
            "visibility": null,
            "align_self": null,
            "height": null,
            "min_height": null,
            "padding": null,
            "grid_auto_rows": null,
            "grid_gap": null,
            "max_width": null,
            "order": null,
            "_view_module_version": "1.2.0",
            "grid_template_areas": null,
            "object_position": null,
            "object_fit": null,
            "grid_auto_columns": null,
            "margin": null,
            "display": null,
            "left": null
          }
        },
        "bb61d029e5f54365b7b14c239f7d6856": {
          "model_module": "@jupyter-widgets/controls",
          "model_name": "DescriptionStyleModel",
          "state": {
            "_view_name": "StyleView",
            "_model_name": "DescriptionStyleModel",
            "description_width": "",
            "_view_module": "@jupyter-widgets/base",
            "_model_module_version": "1.5.0",
            "_view_count": null,
            "_view_module_version": "1.2.0",
            "_model_module": "@jupyter-widgets/controls"
          }
        },
        "7b20ad32ba384457bc51b56aacd4eb4a": {
          "model_module": "@jupyter-widgets/base",
          "model_name": "LayoutModel",
          "state": {
            "_view_name": "LayoutView",
            "grid_template_rows": null,
            "right": null,
            "justify_content": null,
            "_view_module": "@jupyter-widgets/base",
            "overflow": null,
            "_model_module_version": "1.2.0",
            "_view_count": null,
            "flex_flow": null,
            "width": null,
            "min_width": null,
            "border": null,
            "align_items": null,
            "bottom": null,
            "_model_module": "@jupyter-widgets/base",
            "top": null,
            "grid_column": null,
            "overflow_y": null,
            "overflow_x": null,
            "grid_auto_flow": null,
            "grid_area": null,
            "grid_template_columns": null,
            "flex": null,
            "_model_name": "LayoutModel",
            "justify_items": null,
            "grid_row": null,
            "max_height": null,
            "align_content": null,
            "visibility": null,
            "align_self": null,
            "height": null,
            "min_height": null,
            "padding": null,
            "grid_auto_rows": null,
            "grid_gap": null,
            "max_width": null,
            "order": null,
            "_view_module_version": "1.2.0",
            "grid_template_areas": null,
            "object_position": null,
            "object_fit": null,
            "grid_auto_columns": null,
            "margin": null,
            "display": null,
            "left": null
          }
        },
        "4e8b27af92664e43937d3938b8c45a53": {
          "model_module": "@jupyter-widgets/controls",
          "model_name": "HBoxModel",
          "state": {
            "_view_name": "HBoxView",
            "_dom_classes": [],
            "_model_name": "HBoxModel",
            "_view_module": "@jupyter-widgets/controls",
            "_model_module_version": "1.5.0",
            "_view_count": null,
            "_view_module_version": "1.5.0",
            "box_style": "",
            "layout": "IPY_MODEL_a5fe46657b7b40698d00e899df78c4c8",
            "_model_module": "@jupyter-widgets/controls",
            "children": [
              "IPY_MODEL_2453b609817a447fbdd6378bba539ec3",
              "IPY_MODEL_9b1cae970e2c4e5db4b8ad327051085b"
            ]
          }
        },
        "a5fe46657b7b40698d00e899df78c4c8": {
          "model_module": "@jupyter-widgets/base",
          "model_name": "LayoutModel",
          "state": {
            "_view_name": "LayoutView",
            "grid_template_rows": null,
            "right": null,
            "justify_content": null,
            "_view_module": "@jupyter-widgets/base",
            "overflow": null,
            "_model_module_version": "1.2.0",
            "_view_count": null,
            "flex_flow": null,
            "width": null,
            "min_width": null,
            "border": null,
            "align_items": null,
            "bottom": null,
            "_model_module": "@jupyter-widgets/base",
            "top": null,
            "grid_column": null,
            "overflow_y": null,
            "overflow_x": null,
            "grid_auto_flow": null,
            "grid_area": null,
            "grid_template_columns": null,
            "flex": null,
            "_model_name": "LayoutModel",
            "justify_items": null,
            "grid_row": null,
            "max_height": null,
            "align_content": null,
            "visibility": null,
            "align_self": null,
            "height": null,
            "min_height": null,
            "padding": null,
            "grid_auto_rows": null,
            "grid_gap": null,
            "max_width": null,
            "order": null,
            "_view_module_version": "1.2.0",
            "grid_template_areas": null,
            "object_position": null,
            "object_fit": null,
            "grid_auto_columns": null,
            "margin": null,
            "display": null,
            "left": null
          }
        },
        "2453b609817a447fbdd6378bba539ec3": {
          "model_module": "@jupyter-widgets/controls",
          "model_name": "FloatProgressModel",
          "state": {
            "_view_name": "ProgressView",
            "style": "IPY_MODEL_9c1d7128a95b4189ab996af765a1fec4",
            "_dom_classes": [],
            "description": "Downloading: 100%",
            "_model_name": "FloatProgressModel",
            "bar_style": "success",
            "max": 1184,
            "_view_module": "@jupyter-widgets/controls",
            "_model_module_version": "1.5.0",
            "value": 1184,
            "_view_count": null,
            "_view_module_version": "1.5.0",
            "orientation": "horizontal",
            "min": 0,
            "description_tooltip": null,
            "_model_module": "@jupyter-widgets/controls",
            "layout": "IPY_MODEL_7ae6d7ae78674da5a64298f39f3aef72"
          }
        },
        "9b1cae970e2c4e5db4b8ad327051085b": {
          "model_module": "@jupyter-widgets/controls",
          "model_name": "HTMLModel",
          "state": {
            "_view_name": "HTMLView",
            "style": "IPY_MODEL_88cdef17ebba4ad2b5d3e4efad01dadd",
            "_dom_classes": [],
            "description": "",
            "_model_name": "HTMLModel",
            "placeholder": "​",
            "_view_module": "@jupyter-widgets/controls",
            "_model_module_version": "1.5.0",
            "value": " 1.18k/1.18k [00:00&lt;00:00, 2.25kB/s]",
            "_view_count": null,
            "_view_module_version": "1.5.0",
            "description_tooltip": null,
            "_model_module": "@jupyter-widgets/controls",
            "layout": "IPY_MODEL_1964d2f85d33497fa7954bcf790981c5"
          }
        },
        "9c1d7128a95b4189ab996af765a1fec4": {
          "model_module": "@jupyter-widgets/controls",
          "model_name": "ProgressStyleModel",
          "state": {
            "_view_name": "StyleView",
            "_model_name": "ProgressStyleModel",
            "description_width": "initial",
            "_view_module": "@jupyter-widgets/base",
            "_model_module_version": "1.5.0",
            "_view_count": null,
            "_view_module_version": "1.2.0",
            "bar_color": null,
            "_model_module": "@jupyter-widgets/controls"
          }
        },
        "7ae6d7ae78674da5a64298f39f3aef72": {
          "model_module": "@jupyter-widgets/base",
          "model_name": "LayoutModel",
          "state": {
            "_view_name": "LayoutView",
            "grid_template_rows": null,
            "right": null,
            "justify_content": null,
            "_view_module": "@jupyter-widgets/base",
            "overflow": null,
            "_model_module_version": "1.2.0",
            "_view_count": null,
            "flex_flow": null,
            "width": null,
            "min_width": null,
            "border": null,
            "align_items": null,
            "bottom": null,
            "_model_module": "@jupyter-widgets/base",
            "top": null,
            "grid_column": null,
            "overflow_y": null,
            "overflow_x": null,
            "grid_auto_flow": null,
            "grid_area": null,
            "grid_template_columns": null,
            "flex": null,
            "_model_name": "LayoutModel",
            "justify_items": null,
            "grid_row": null,
            "max_height": null,
            "align_content": null,
            "visibility": null,
            "align_self": null,
            "height": null,
            "min_height": null,
            "padding": null,
            "grid_auto_rows": null,
            "grid_gap": null,
            "max_width": null,
            "order": null,
            "_view_module_version": "1.2.0",
            "grid_template_areas": null,
            "object_position": null,
            "object_fit": null,
            "grid_auto_columns": null,
            "margin": null,
            "display": null,
            "left": null
          }
        },
        "88cdef17ebba4ad2b5d3e4efad01dadd": {
          "model_module": "@jupyter-widgets/controls",
          "model_name": "DescriptionStyleModel",
          "state": {
            "_view_name": "StyleView",
            "_model_name": "DescriptionStyleModel",
            "description_width": "",
            "_view_module": "@jupyter-widgets/base",
            "_model_module_version": "1.5.0",
            "_view_count": null,
            "_view_module_version": "1.2.0",
            "_model_module": "@jupyter-widgets/controls"
          }
        },
        "1964d2f85d33497fa7954bcf790981c5": {
          "model_module": "@jupyter-widgets/base",
          "model_name": "LayoutModel",
          "state": {
            "_view_name": "LayoutView",
            "grid_template_rows": null,
            "right": null,
            "justify_content": null,
            "_view_module": "@jupyter-widgets/base",
            "overflow": null,
            "_model_module_version": "1.2.0",
            "_view_count": null,
            "flex_flow": null,
            "width": null,
            "min_width": null,
            "border": null,
            "align_items": null,
            "bottom": null,
            "_model_module": "@jupyter-widgets/base",
            "top": null,
            "grid_column": null,
            "overflow_y": null,
            "overflow_x": null,
            "grid_auto_flow": null,
            "grid_area": null,
            "grid_template_columns": null,
            "flex": null,
            "_model_name": "LayoutModel",
            "justify_items": null,
            "grid_row": null,
            "max_height": null,
            "align_content": null,
            "visibility": null,
            "align_self": null,
            "height": null,
            "min_height": null,
            "padding": null,
            "grid_auto_rows": null,
            "grid_gap": null,
            "max_width": null,
            "order": null,
            "_view_module_version": "1.2.0",
            "grid_template_areas": null,
            "object_position": null,
            "object_fit": null,
            "grid_auto_columns": null,
            "margin": null,
            "display": null,
            "left": null
          }
        },
        "c3015c2c82c84845afbbbf95e3d114c9": {
          "model_module": "@jupyter-widgets/controls",
          "model_name": "HBoxModel",
          "state": {
            "_view_name": "HBoxView",
            "_dom_classes": [],
            "_model_name": "HBoxModel",
            "_view_module": "@jupyter-widgets/controls",
            "_model_module_version": "1.5.0",
            "_view_count": null,
            "_view_module_version": "1.5.0",
            "box_style": "",
            "layout": "IPY_MODEL_93deb970174b4909be1caf74cd39c9a6",
            "_model_module": "@jupyter-widgets/controls",
            "children": [
              "IPY_MODEL_76e080e283a844209a6080d3e0bf225a",
              "IPY_MODEL_3017e1e2f147417c80feb83da6585ef1"
            ]
          }
        },
        "93deb970174b4909be1caf74cd39c9a6": {
          "model_module": "@jupyter-widgets/base",
          "model_name": "LayoutModel",
          "state": {
            "_view_name": "LayoutView",
            "grid_template_rows": null,
            "right": null,
            "justify_content": null,
            "_view_module": "@jupyter-widgets/base",
            "overflow": null,
            "_model_module_version": "1.2.0",
            "_view_count": null,
            "flex_flow": null,
            "width": null,
            "min_width": null,
            "border": null,
            "align_items": null,
            "bottom": null,
            "_model_module": "@jupyter-widgets/base",
            "top": null,
            "grid_column": null,
            "overflow_y": null,
            "overflow_x": null,
            "grid_auto_flow": null,
            "grid_area": null,
            "grid_template_columns": null,
            "flex": null,
            "_model_name": "LayoutModel",
            "justify_items": null,
            "grid_row": null,
            "max_height": null,
            "align_content": null,
            "visibility": null,
            "align_self": null,
            "height": null,
            "min_height": null,
            "padding": null,
            "grid_auto_rows": null,
            "grid_gap": null,
            "max_width": null,
            "order": null,
            "_view_module_version": "1.2.0",
            "grid_template_areas": null,
            "object_position": null,
            "object_fit": null,
            "grid_auto_columns": null,
            "margin": null,
            "display": null,
            "left": null
          }
        },
        "76e080e283a844209a6080d3e0bf225a": {
          "model_module": "@jupyter-widgets/controls",
          "model_name": "FloatProgressModel",
          "state": {
            "_view_name": "ProgressView",
            "style": "IPY_MODEL_2d4965e4c63f43ec899dc698c6a36e85",
            "_dom_classes": [],
            "description": "Downloading: 100%",
            "_model_name": "FloatProgressModel",
            "bar_style": "success",
            "max": 2308148159,
            "_view_module": "@jupyter-widgets/controls",
            "_model_module_version": "1.5.0",
            "value": 2308148159,
            "_view_count": null,
            "_view_module_version": "1.5.0",
            "orientation": "horizontal",
            "min": 0,
            "description_tooltip": null,
            "_model_module": "@jupyter-widgets/controls",
            "layout": "IPY_MODEL_235d6bfcfa17443999cafb0421f98459"
          }
        },
        "3017e1e2f147417c80feb83da6585ef1": {
          "model_module": "@jupyter-widgets/controls",
          "model_name": "HTMLModel",
          "state": {
            "_view_name": "HTMLView",
            "style": "IPY_MODEL_4cdce3db9b674c349f18ef6eca064d00",
            "_dom_classes": [],
            "description": "",
            "_model_name": "HTMLModel",
            "placeholder": "​",
            "_view_module": "@jupyter-widgets/controls",
            "_model_module_version": "1.5.0",
            "value": " 2.31G/2.31G [01:16&lt;00:00, 30.3MB/s]",
            "_view_count": null,
            "_view_module_version": "1.5.0",
            "description_tooltip": null,
            "_model_module": "@jupyter-widgets/controls",
            "layout": "IPY_MODEL_4ba0e4e351d745098f3442e614f72ac3"
          }
        },
        "2d4965e4c63f43ec899dc698c6a36e85": {
          "model_module": "@jupyter-widgets/controls",
          "model_name": "ProgressStyleModel",
          "state": {
            "_view_name": "StyleView",
            "_model_name": "ProgressStyleModel",
            "description_width": "initial",
            "_view_module": "@jupyter-widgets/base",
            "_model_module_version": "1.5.0",
            "_view_count": null,
            "_view_module_version": "1.2.0",
            "bar_color": null,
            "_model_module": "@jupyter-widgets/controls"
          }
        },
        "235d6bfcfa17443999cafb0421f98459": {
          "model_module": "@jupyter-widgets/base",
          "model_name": "LayoutModel",
          "state": {
            "_view_name": "LayoutView",
            "grid_template_rows": null,
            "right": null,
            "justify_content": null,
            "_view_module": "@jupyter-widgets/base",
            "overflow": null,
            "_model_module_version": "1.2.0",
            "_view_count": null,
            "flex_flow": null,
            "width": null,
            "min_width": null,
            "border": null,
            "align_items": null,
            "bottom": null,
            "_model_module": "@jupyter-widgets/base",
            "top": null,
            "grid_column": null,
            "overflow_y": null,
            "overflow_x": null,
            "grid_auto_flow": null,
            "grid_area": null,
            "grid_template_columns": null,
            "flex": null,
            "_model_name": "LayoutModel",
            "justify_items": null,
            "grid_row": null,
            "max_height": null,
            "align_content": null,
            "visibility": null,
            "align_self": null,
            "height": null,
            "min_height": null,
            "padding": null,
            "grid_auto_rows": null,
            "grid_gap": null,
            "max_width": null,
            "order": null,
            "_view_module_version": "1.2.0",
            "grid_template_areas": null,
            "object_position": null,
            "object_fit": null,
            "grid_auto_columns": null,
            "margin": null,
            "display": null,
            "left": null
          }
        },
        "4cdce3db9b674c349f18ef6eca064d00": {
          "model_module": "@jupyter-widgets/controls",
          "model_name": "DescriptionStyleModel",
          "state": {
            "_view_name": "StyleView",
            "_model_name": "DescriptionStyleModel",
            "description_width": "",
            "_view_module": "@jupyter-widgets/base",
            "_model_module_version": "1.5.0",
            "_view_count": null,
            "_view_module_version": "1.2.0",
            "_model_module": "@jupyter-widgets/controls"
          }
        },
        "4ba0e4e351d745098f3442e614f72ac3": {
          "model_module": "@jupyter-widgets/base",
          "model_name": "LayoutModel",
          "state": {
            "_view_name": "LayoutView",
            "grid_template_rows": null,
            "right": null,
            "justify_content": null,
            "_view_module": "@jupyter-widgets/base",
            "overflow": null,
            "_model_module_version": "1.2.0",
            "_view_count": null,
            "flex_flow": null,
            "width": null,
            "min_width": null,
            "border": null,
            "align_items": null,
            "bottom": null,
            "_model_module": "@jupyter-widgets/base",
            "top": null,
            "grid_column": null,
            "overflow_y": null,
            "overflow_x": null,
            "grid_auto_flow": null,
            "grid_area": null,
            "grid_template_columns": null,
            "flex": null,
            "_model_name": "LayoutModel",
            "justify_items": null,
            "grid_row": null,
            "max_height": null,
            "align_content": null,
            "visibility": null,
            "align_self": null,
            "height": null,
            "min_height": null,
            "padding": null,
            "grid_auto_rows": null,
            "grid_gap": null,
            "max_width": null,
            "order": null,
            "_view_module_version": "1.2.0",
            "grid_template_areas": null,
            "object_position": null,
            "object_fit": null,
            "grid_auto_columns": null,
            "margin": null,
            "display": null,
            "left": null
          }
        },
        "a25c12d5ad854dfcbbbb8f6e9dd120aa": {
          "model_module": "@jupyter-widgets/controls",
          "model_name": "HBoxModel",
          "state": {
            "_view_name": "HBoxView",
            "_dom_classes": [],
            "_model_name": "HBoxModel",
            "_view_module": "@jupyter-widgets/controls",
            "_model_module_version": "1.5.0",
            "_view_count": null,
            "_view_module_version": "1.5.0",
            "box_style": "",
            "layout": "IPY_MODEL_4744d2c60fc742dfa570bb66fba2be67",
            "_model_module": "@jupyter-widgets/controls",
            "children": [
              "IPY_MODEL_b986f9e036284af69657ec93ac67ef01",
              "IPY_MODEL_5e88dd7642ee491f8589571b4de5cef3"
            ]
          }
        },
        "4744d2c60fc742dfa570bb66fba2be67": {
          "model_module": "@jupyter-widgets/base",
          "model_name": "LayoutModel",
          "state": {
            "_view_name": "LayoutView",
            "grid_template_rows": null,
            "right": null,
            "justify_content": null,
            "_view_module": "@jupyter-widgets/base",
            "overflow": null,
            "_model_module_version": "1.2.0",
            "_view_count": null,
            "flex_flow": null,
            "width": null,
            "min_width": null,
            "border": null,
            "align_items": null,
            "bottom": null,
            "_model_module": "@jupyter-widgets/base",
            "top": null,
            "grid_column": null,
            "overflow_y": null,
            "overflow_x": null,
            "grid_auto_flow": null,
            "grid_area": null,
            "grid_template_columns": null,
            "flex": null,
            "_model_name": "LayoutModel",
            "justify_items": null,
            "grid_row": null,
            "max_height": null,
            "align_content": null,
            "visibility": null,
            "align_self": null,
            "height": null,
            "min_height": null,
            "padding": null,
            "grid_auto_rows": null,
            "grid_gap": null,
            "max_width": null,
            "order": null,
            "_view_module_version": "1.2.0",
            "grid_template_areas": null,
            "object_position": null,
            "object_fit": null,
            "grid_auto_columns": null,
            "margin": null,
            "display": null,
            "left": null
          }
        },
        "b986f9e036284af69657ec93ac67ef01": {
          "model_module": "@jupyter-widgets/controls",
          "model_name": "FloatProgressModel",
          "state": {
            "_view_name": "ProgressView",
            "style": "IPY_MODEL_9671ed77c91045a2a8229c566454e6bd",
            "_dom_classes": [],
            "description": "Downloading: ",
            "_model_name": "FloatProgressModel",
            "bar_style": "success",
            "max": 2170,
            "_view_module": "@jupyter-widgets/controls",
            "_model_module_version": "1.5.0",
            "value": 2170,
            "_view_count": null,
            "_view_module_version": "1.5.0",
            "orientation": "horizontal",
            "min": 0,
            "description_tooltip": null,
            "_model_module": "@jupyter-widgets/controls",
            "layout": "IPY_MODEL_cba0f813b538458c9e645b34a9d25f60"
          }
        },
        "5e88dd7642ee491f8589571b4de5cef3": {
          "model_module": "@jupyter-widgets/controls",
          "model_name": "HTMLModel",
          "state": {
            "_view_name": "HTMLView",
            "style": "IPY_MODEL_52e47fdde056409da419c0d2f4fe41de",
            "_dom_classes": [],
            "description": "",
            "_model_name": "HTMLModel",
            "placeholder": "​",
            "_view_module": "@jupyter-widgets/controls",
            "_model_module_version": "1.5.0",
            "value": " 5.61k/? [00:00&lt;00:00, 15.4kB/s]",
            "_view_count": null,
            "_view_module_version": "1.5.0",
            "description_tooltip": null,
            "_model_module": "@jupyter-widgets/controls",
            "layout": "IPY_MODEL_5c8a663b04ab4d1193d5a93979239c89"
          }
        },
        "9671ed77c91045a2a8229c566454e6bd": {
          "model_module": "@jupyter-widgets/controls",
          "model_name": "ProgressStyleModel",
          "state": {
            "_view_name": "StyleView",
            "_model_name": "ProgressStyleModel",
            "description_width": "initial",
            "_view_module": "@jupyter-widgets/base",
            "_model_module_version": "1.5.0",
            "_view_count": null,
            "_view_module_version": "1.2.0",
            "bar_color": null,
            "_model_module": "@jupyter-widgets/controls"
          }
        },
        "cba0f813b538458c9e645b34a9d25f60": {
          "model_module": "@jupyter-widgets/base",
          "model_name": "LayoutModel",
          "state": {
            "_view_name": "LayoutView",
            "grid_template_rows": null,
            "right": null,
            "justify_content": null,
            "_view_module": "@jupyter-widgets/base",
            "overflow": null,
            "_model_module_version": "1.2.0",
            "_view_count": null,
            "flex_flow": null,
            "width": null,
            "min_width": null,
            "border": null,
            "align_items": null,
            "bottom": null,
            "_model_module": "@jupyter-widgets/base",
            "top": null,
            "grid_column": null,
            "overflow_y": null,
            "overflow_x": null,
            "grid_auto_flow": null,
            "grid_area": null,
            "grid_template_columns": null,
            "flex": null,
            "_model_name": "LayoutModel",
            "justify_items": null,
            "grid_row": null,
            "max_height": null,
            "align_content": null,
            "visibility": null,
            "align_self": null,
            "height": null,
            "min_height": null,
            "padding": null,
            "grid_auto_rows": null,
            "grid_gap": null,
            "max_width": null,
            "order": null,
            "_view_module_version": "1.2.0",
            "grid_template_areas": null,
            "object_position": null,
            "object_fit": null,
            "grid_auto_columns": null,
            "margin": null,
            "display": null,
            "left": null
          }
        },
        "52e47fdde056409da419c0d2f4fe41de": {
          "model_module": "@jupyter-widgets/controls",
          "model_name": "DescriptionStyleModel",
          "state": {
            "_view_name": "StyleView",
            "_model_name": "DescriptionStyleModel",
            "description_width": "",
            "_view_module": "@jupyter-widgets/base",
            "_model_module_version": "1.5.0",
            "_view_count": null,
            "_view_module_version": "1.2.0",
            "_model_module": "@jupyter-widgets/controls"
          }
        },
        "5c8a663b04ab4d1193d5a93979239c89": {
          "model_module": "@jupyter-widgets/base",
          "model_name": "LayoutModel",
          "state": {
            "_view_name": "LayoutView",
            "grid_template_rows": null,
            "right": null,
            "justify_content": null,
            "_view_module": "@jupyter-widgets/base",
            "overflow": null,
            "_model_module_version": "1.2.0",
            "_view_count": null,
            "flex_flow": null,
            "width": null,
            "min_width": null,
            "border": null,
            "align_items": null,
            "bottom": null,
            "_model_module": "@jupyter-widgets/base",
            "top": null,
            "grid_column": null,
            "overflow_y": null,
            "overflow_x": null,
            "grid_auto_flow": null,
            "grid_area": null,
            "grid_template_columns": null,
            "flex": null,
            "_model_name": "LayoutModel",
            "justify_items": null,
            "grid_row": null,
            "max_height": null,
            "align_content": null,
            "visibility": null,
            "align_self": null,
            "height": null,
            "min_height": null,
            "padding": null,
            "grid_auto_rows": null,
            "grid_gap": null,
            "max_width": null,
            "order": null,
            "_view_module_version": "1.2.0",
            "grid_template_areas": null,
            "object_position": null,
            "object_fit": null,
            "grid_auto_columns": null,
            "margin": null,
            "display": null,
            "left": null
          }
        },
        "e4b7a50d21874798a077365ae733a3c7": {
          "model_module": "@jupyter-widgets/controls",
          "model_name": "HBoxModel",
          "state": {
            "_view_name": "HBoxView",
            "_dom_classes": [],
            "_model_name": "HBoxModel",
            "_view_module": "@jupyter-widgets/controls",
            "_model_module_version": "1.5.0",
            "_view_count": null,
            "_view_module_version": "1.5.0",
            "box_style": "",
            "layout": "IPY_MODEL_ad70fa2e8ef14663b516f8873953f8b5",
            "_model_module": "@jupyter-widgets/controls",
            "children": [
              "IPY_MODEL_6953ac0077934254b26d0a1e7fb346d2",
              "IPY_MODEL_75b61042f94e4da09d13455b853ce5fc"
            ]
          }
        },
        "ad70fa2e8ef14663b516f8873953f8b5": {
          "model_module": "@jupyter-widgets/base",
          "model_name": "LayoutModel",
          "state": {
            "_view_name": "LayoutView",
            "grid_template_rows": null,
            "right": null,
            "justify_content": null,
            "_view_module": "@jupyter-widgets/base",
            "overflow": null,
            "_model_module_version": "1.2.0",
            "_view_count": null,
            "flex_flow": null,
            "width": null,
            "min_width": null,
            "border": null,
            "align_items": null,
            "bottom": null,
            "_model_module": "@jupyter-widgets/base",
            "top": null,
            "grid_column": null,
            "overflow_y": null,
            "overflow_x": null,
            "grid_auto_flow": null,
            "grid_area": null,
            "grid_template_columns": null,
            "flex": null,
            "_model_name": "LayoutModel",
            "justify_items": null,
            "grid_row": null,
            "max_height": null,
            "align_content": null,
            "visibility": null,
            "align_self": null,
            "height": null,
            "min_height": null,
            "padding": null,
            "grid_auto_rows": null,
            "grid_gap": null,
            "max_width": null,
            "order": null,
            "_view_module_version": "1.2.0",
            "grid_template_areas": null,
            "object_position": null,
            "object_fit": null,
            "grid_auto_columns": null,
            "margin": null,
            "display": null,
            "left": null
          }
        },
        "6953ac0077934254b26d0a1e7fb346d2": {
          "model_module": "@jupyter-widgets/controls",
          "model_name": "FloatProgressModel",
          "state": {
            "_view_name": "ProgressView",
            "style": "IPY_MODEL_86d1f6e53f1a4f91b45e662296e68fe6",
            "_dom_classes": [],
            "description": "100%",
            "_model_name": "FloatProgressModel",
            "bar_style": "success",
            "max": 2,
            "_view_module": "@jupyter-widgets/controls",
            "_model_module_version": "1.5.0",
            "value": 2,
            "_view_count": null,
            "_view_module_version": "1.5.0",
            "orientation": "horizontal",
            "min": 0,
            "description_tooltip": null,
            "_model_module": "@jupyter-widgets/controls",
            "layout": "IPY_MODEL_def5d77554584da29edee529d34429b9"
          }
        },
        "75b61042f94e4da09d13455b853ce5fc": {
          "model_module": "@jupyter-widgets/controls",
          "model_name": "HTMLModel",
          "state": {
            "_view_name": "HTMLView",
            "style": "IPY_MODEL_f8cd7d63ffb5402b8599e380547183e8",
            "_dom_classes": [],
            "description": "",
            "_model_name": "HTMLModel",
            "placeholder": "​",
            "_view_module": "@jupyter-widgets/controls",
            "_model_module_version": "1.5.0",
            "value": " 2/2 [00:17&lt;00:00,  8.91s/ex]",
            "_view_count": null,
            "_view_module_version": "1.5.0",
            "description_tooltip": null,
            "_model_module": "@jupyter-widgets/controls",
            "layout": "IPY_MODEL_d9ba4cdbe8e14596ac451d788e03a7a4"
          }
        },
        "86d1f6e53f1a4f91b45e662296e68fe6": {
          "model_module": "@jupyter-widgets/controls",
          "model_name": "ProgressStyleModel",
          "state": {
            "_view_name": "StyleView",
            "_model_name": "ProgressStyleModel",
            "description_width": "initial",
            "_view_module": "@jupyter-widgets/base",
            "_model_module_version": "1.5.0",
            "_view_count": null,
            "_view_module_version": "1.2.0",
            "bar_color": null,
            "_model_module": "@jupyter-widgets/controls"
          }
        },
        "def5d77554584da29edee529d34429b9": {
          "model_module": "@jupyter-widgets/base",
          "model_name": "LayoutModel",
          "state": {
            "_view_name": "LayoutView",
            "grid_template_rows": null,
            "right": null,
            "justify_content": null,
            "_view_module": "@jupyter-widgets/base",
            "overflow": null,
            "_model_module_version": "1.2.0",
            "_view_count": null,
            "flex_flow": null,
            "width": null,
            "min_width": null,
            "border": null,
            "align_items": null,
            "bottom": null,
            "_model_module": "@jupyter-widgets/base",
            "top": null,
            "grid_column": null,
            "overflow_y": null,
            "overflow_x": null,
            "grid_auto_flow": null,
            "grid_area": null,
            "grid_template_columns": null,
            "flex": null,
            "_model_name": "LayoutModel",
            "justify_items": null,
            "grid_row": null,
            "max_height": null,
            "align_content": null,
            "visibility": null,
            "align_self": null,
            "height": null,
            "min_height": null,
            "padding": null,
            "grid_auto_rows": null,
            "grid_gap": null,
            "max_width": null,
            "order": null,
            "_view_module_version": "1.2.0",
            "grid_template_areas": null,
            "object_position": null,
            "object_fit": null,
            "grid_auto_columns": null,
            "margin": null,
            "display": null,
            "left": null
          }
        },
        "f8cd7d63ffb5402b8599e380547183e8": {
          "model_module": "@jupyter-widgets/controls",
          "model_name": "DescriptionStyleModel",
          "state": {
            "_view_name": "StyleView",
            "_model_name": "DescriptionStyleModel",
            "description_width": "",
            "_view_module": "@jupyter-widgets/base",
            "_model_module_version": "1.5.0",
            "_view_count": null,
            "_view_module_version": "1.2.0",
            "_model_module": "@jupyter-widgets/controls"
          }
        },
        "d9ba4cdbe8e14596ac451d788e03a7a4": {
          "model_module": "@jupyter-widgets/base",
          "model_name": "LayoutModel",
          "state": {
            "_view_name": "LayoutView",
            "grid_template_rows": null,
            "right": null,
            "justify_content": null,
            "_view_module": "@jupyter-widgets/base",
            "overflow": null,
            "_model_module_version": "1.2.0",
            "_view_count": null,
            "flex_flow": null,
            "width": null,
            "min_width": null,
            "border": null,
            "align_items": null,
            "bottom": null,
            "_model_module": "@jupyter-widgets/base",
            "top": null,
            "grid_column": null,
            "overflow_y": null,
            "overflow_x": null,
            "grid_auto_flow": null,
            "grid_area": null,
            "grid_template_columns": null,
            "flex": null,
            "_model_name": "LayoutModel",
            "justify_items": null,
            "grid_row": null,
            "max_height": null,
            "align_content": null,
            "visibility": null,
            "align_self": null,
            "height": null,
            "min_height": null,
            "padding": null,
            "grid_auto_rows": null,
            "grid_gap": null,
            "max_width": null,
            "order": null,
            "_view_module_version": "1.2.0",
            "grid_template_areas": null,
            "object_position": null,
            "object_fit": null,
            "grid_auto_columns": null,
            "margin": null,
            "display": null,
            "left": null
          }
        },
        "336a3e9d89924130a0c220a28d0d0e9e": {
          "model_module": "@jupyter-widgets/controls",
          "model_name": "HBoxModel",
          "state": {
            "_view_name": "HBoxView",
            "_dom_classes": [],
            "_model_name": "HBoxModel",
            "_view_module": "@jupyter-widgets/controls",
            "_model_module_version": "1.5.0",
            "_view_count": null,
            "_view_module_version": "1.5.0",
            "box_style": "",
            "layout": "IPY_MODEL_ba65d046d5ad4dc498383573f4ac2b9f",
            "_model_module": "@jupyter-widgets/controls",
            "children": [
              "IPY_MODEL_cde28183d5404cdea0fa3e5c7047f898",
              "IPY_MODEL_78d2ea5ae0844cb29c9f7a3d321eb36b"
            ]
          }
        },
        "ba65d046d5ad4dc498383573f4ac2b9f": {
          "model_module": "@jupyter-widgets/base",
          "model_name": "LayoutModel",
          "state": {
            "_view_name": "LayoutView",
            "grid_template_rows": null,
            "right": null,
            "justify_content": null,
            "_view_module": "@jupyter-widgets/base",
            "overflow": null,
            "_model_module_version": "1.2.0",
            "_view_count": null,
            "flex_flow": null,
            "width": null,
            "min_width": null,
            "border": null,
            "align_items": null,
            "bottom": null,
            "_model_module": "@jupyter-widgets/base",
            "top": null,
            "grid_column": null,
            "overflow_y": null,
            "overflow_x": null,
            "grid_auto_flow": null,
            "grid_area": null,
            "grid_template_columns": null,
            "flex": null,
            "_model_name": "LayoutModel",
            "justify_items": null,
            "grid_row": null,
            "max_height": null,
            "align_content": null,
            "visibility": null,
            "align_self": null,
            "height": null,
            "min_height": null,
            "padding": null,
            "grid_auto_rows": null,
            "grid_gap": null,
            "max_width": null,
            "order": null,
            "_view_module_version": "1.2.0",
            "grid_template_areas": null,
            "object_position": null,
            "object_fit": null,
            "grid_auto_columns": null,
            "margin": null,
            "display": null,
            "left": null
          }
        },
        "cde28183d5404cdea0fa3e5c7047f898": {
          "model_module": "@jupyter-widgets/controls",
          "model_name": "FloatProgressModel",
          "state": {
            "_view_name": "ProgressView",
            "style": "IPY_MODEL_79ad704b61634d9fa30e8d11bbaa7a0a",
            "_dom_classes": [],
            "description": " 10%",
            "_model_name": "FloatProgressModel",
            "bar_style": "",
            "max": 600,
            "_view_module": "@jupyter-widgets/controls",
            "_model_module_version": "1.5.0",
            "value": 61,
            "_view_count": null,
            "_view_module_version": "1.5.0",
            "orientation": "horizontal",
            "min": 0,
            "description_tooltip": null,
            "_model_module": "@jupyter-widgets/controls",
            "layout": "IPY_MODEL_80f42b1b60b742b8a954c1f6a5a730f9"
          }
        },
        "78d2ea5ae0844cb29c9f7a3d321eb36b": {
          "model_module": "@jupyter-widgets/controls",
          "model_name": "HTMLModel",
          "state": {
            "_view_name": "HTMLView",
            "style": "IPY_MODEL_59f36a472ab640acab880f17da4fa0a4",
            "_dom_classes": [],
            "description": "",
            "_model_name": "HTMLModel",
            "placeholder": "​",
            "_view_module": "@jupyter-widgets/controls",
            "_model_module_version": "1.5.0",
            "value": " 61/600 [08:23&lt;1:10:45,  7.88s/ex]",
            "_view_count": null,
            "_view_module_version": "1.5.0",
            "description_tooltip": null,
            "_model_module": "@jupyter-widgets/controls",
            "layout": "IPY_MODEL_c7577b41ff9c48b1b32b9c972fd96b11"
          }
        },
        "79ad704b61634d9fa30e8d11bbaa7a0a": {
          "model_module": "@jupyter-widgets/controls",
          "model_name": "ProgressStyleModel",
          "state": {
            "_view_name": "StyleView",
            "_model_name": "ProgressStyleModel",
            "description_width": "initial",
            "_view_module": "@jupyter-widgets/base",
            "_model_module_version": "1.5.0",
            "_view_count": null,
            "_view_module_version": "1.2.0",
            "bar_color": null,
            "_model_module": "@jupyter-widgets/controls"
          }
        },
        "80f42b1b60b742b8a954c1f6a5a730f9": {
          "model_module": "@jupyter-widgets/base",
          "model_name": "LayoutModel",
          "state": {
            "_view_name": "LayoutView",
            "grid_template_rows": null,
            "right": null,
            "justify_content": null,
            "_view_module": "@jupyter-widgets/base",
            "overflow": null,
            "_model_module_version": "1.2.0",
            "_view_count": null,
            "flex_flow": null,
            "width": null,
            "min_width": null,
            "border": null,
            "align_items": null,
            "bottom": null,
            "_model_module": "@jupyter-widgets/base",
            "top": null,
            "grid_column": null,
            "overflow_y": null,
            "overflow_x": null,
            "grid_auto_flow": null,
            "grid_area": null,
            "grid_template_columns": null,
            "flex": null,
            "_model_name": "LayoutModel",
            "justify_items": null,
            "grid_row": null,
            "max_height": null,
            "align_content": null,
            "visibility": null,
            "align_self": null,
            "height": null,
            "min_height": null,
            "padding": null,
            "grid_auto_rows": null,
            "grid_gap": null,
            "max_width": null,
            "order": null,
            "_view_module_version": "1.2.0",
            "grid_template_areas": null,
            "object_position": null,
            "object_fit": null,
            "grid_auto_columns": null,
            "margin": null,
            "display": null,
            "left": null
          }
        },
        "59f36a472ab640acab880f17da4fa0a4": {
          "model_module": "@jupyter-widgets/controls",
          "model_name": "DescriptionStyleModel",
          "state": {
            "_view_name": "StyleView",
            "_model_name": "DescriptionStyleModel",
            "description_width": "",
            "_view_module": "@jupyter-widgets/base",
            "_model_module_version": "1.5.0",
            "_view_count": null,
            "_view_module_version": "1.2.0",
            "_model_module": "@jupyter-widgets/controls"
          }
        },
        "c7577b41ff9c48b1b32b9c972fd96b11": {
          "model_module": "@jupyter-widgets/base",
          "model_name": "LayoutModel",
          "state": {
            "_view_name": "LayoutView",
            "grid_template_rows": null,
            "right": null,
            "justify_content": null,
            "_view_module": "@jupyter-widgets/base",
            "overflow": null,
            "_model_module_version": "1.2.0",
            "_view_count": null,
            "flex_flow": null,
            "width": null,
            "min_width": null,
            "border": null,
            "align_items": null,
            "bottom": null,
            "_model_module": "@jupyter-widgets/base",
            "top": null,
            "grid_column": null,
            "overflow_y": null,
            "overflow_x": null,
            "grid_auto_flow": null,
            "grid_area": null,
            "grid_template_columns": null,
            "flex": null,
            "_model_name": "LayoutModel",
            "justify_items": null,
            "grid_row": null,
            "max_height": null,
            "align_content": null,
            "visibility": null,
            "align_self": null,
            "height": null,
            "min_height": null,
            "padding": null,
            "grid_auto_rows": null,
            "grid_gap": null,
            "max_width": null,
            "order": null,
            "_view_module_version": "1.2.0",
            "grid_template_areas": null,
            "object_position": null,
            "object_fit": null,
            "grid_auto_columns": null,
            "margin": null,
            "display": null,
            "left": null
          }
        }
      }
    }
  },
  "cells": [
    {
      "cell_type": "markdown",
      "metadata": {
        "id": "view-in-github",
        "colab_type": "text"
      },
      "source": [
        "<a href=\"https://colab.research.google.com/github/vasudevgupta7/bigbird/blob/main/notebooks/bigbird_pegasus_evaluation.ipynb\" target=\"_parent\"><img src=\"https://colab.research.google.com/assets/colab-badge.svg\" alt=\"Open In Colab\"/></a>"
      ]
    },
    {
      "cell_type": "markdown",
      "metadata": {
        "id": "Y7R0VPXOcL8w"
      },
      "source": [
        "## **Evaluate 🤗's BigBirdPegasus on Pubmed**"
      ]
    },
    {
      "cell_type": "markdown",
      "metadata": {
        "id": "ObggiInJKsje"
      },
      "source": [
        "In this notebook, we evaluate BigBird on the long-range summarization task of **[pubmed](https://huggingface.co/datasets/scientific_papers)**. BigBird was introduced in [Big Bird: Transformers for Longer Sequences](https://arxiv.org/abs/2007.14062) by *Manzil Zaheer et al.* It has achieved outstanding performance on long document summarization using an efficient block sparse attention mechanism. Please refer to this [blog post](https://huggingface.co/blog/big-bird) for an in-detail explanation of BigBird's block sparse attention."
      ]
    },
    {
      "cell_type": "markdown",
      "metadata": {
        "id": "Yx26AvwcOYyZ"
      },
      "source": [
        "Let's see what GPU we got. We need at least ~12 GB GPU memory to be able to run this notebook."
      ]
    },
    {
      "cell_type": "code",
      "metadata": {
        "colab": {
          "base_uri": "https://localhost:8080/"
        },
        "id": "pzBweSpNEK-z",
        "outputId": "08899bab-08ec-4c25-95bd-9f2a58a19b1e"
      },
      "source": [
        "!nvidia-smi"
      ],
      "execution_count": null,
      "outputs": [
        {
          "output_type": "stream",
          "text": [
            "Thu May  6 11:31:46 2021       \n",
            "+-----------------------------------------------------------------------------+\n",
            "| NVIDIA-SMI 465.19.01    Driver Version: 460.32.03    CUDA Version: 11.2     |\n",
            "|-------------------------------+----------------------+----------------------+\n",
            "| GPU  Name        Persistence-M| Bus-Id        Disp.A | Volatile Uncorr. ECC |\n",
            "| Fan  Temp  Perf  Pwr:Usage/Cap|         Memory-Usage | GPU-Util  Compute M. |\n",
            "|                               |                      |               MIG M. |\n",
            "|===============================+======================+======================|\n",
            "|   0  Tesla T4            Off  | 00000000:00:04.0 Off |                    0 |\n",
            "| N/A   34C    P8     9W /  70W |      0MiB / 15109MiB |      0%      Default |\n",
            "|                               |                      |                  N/A |\n",
            "+-------------------------------+----------------------+----------------------+\n",
            "                                                                               \n",
            "+-----------------------------------------------------------------------------+\n",
            "| Processes:                                                                  |\n",
            "|  GPU   GI   CI        PID   Type   Process name                  GPU Memory |\n",
            "|        ID   ID                                                   Usage      |\n",
            "|=============================================================================|\n",
            "|  No running processes found                                                 |\n",
            "+-----------------------------------------------------------------------------+\n"
          ],
          "name": "stdout"
        }
      ]
    },
    {
      "cell_type": "markdown",
      "metadata": {
        "id": "eHSLE5TdC7RL"
      },
      "source": [
        "Let's first install `transformers`, `datasets`, `rouge_score` and `sentencepiece`."
      ]
    },
    {
      "cell_type": "code",
      "metadata": {
        "id": "j2LK20EFbnY2"
      },
      "source": [
        "%%capture\n",
        "!pip3 install datasets\n",
        "!pip3 install rouge_score\n",
        "!pip3 install git+https://github.com/vasudevgupta7/transformers@add_bigbird_pegasus\n",
        "!pip3 install sentencepiece"
      ],
      "execution_count": null,
      "outputs": []
    },
    {
      "cell_type": "markdown",
      "metadata": {
        "id": "h8yJ2QysDCW4"
      },
      "source": [
        "As mentioned above, we will evaluate **BigBirdPegasus** on the **_pubmed_** dataset using the **Rouge-2** metric. For this, let's \n",
        "import the two loading functions `load_dataset` and `load_metric`. Futher, we import the `BigBirdPegasusForConditionalGeneration` and `AutoTokenizer` tokenizer."
      ]
    },
    {
      "cell_type": "code",
      "metadata": {
        "id": "ODLQ8MUJfmi4"
      },
      "source": [
        "from datasets import load_dataset, load_metric\n",
        "import torch\n",
        "from transformers import BigBirdPegasusForConditionalGeneration, AutoTokenizer"
      ],
      "execution_count": null,
      "outputs": []
    },
    {
      "cell_type": "markdown",
      "metadata": {
        "id": "VZ54zGs-n9kh"
      },
      "source": [
        "Let's define some variables which will be useful later on."
      ]
    },
    {
      "cell_type": "code",
      "metadata": {
        "id": "74CoqZ3rmV6v"
      },
      "source": [
        "DATASET_NAME = \"pubmed\"\n",
        "DEVICE = \"cuda\"\n",
        "CACHE_DIR = DATASET_NAME\n",
        "MODEL_ID = f\"google/bigbird-pegasus-large-{DATASET_NAME}\""
      ],
      "execution_count": null,
      "outputs": []
    },
    {
      "cell_type": "markdown",
      "metadata": {
        "id": "hEZ20fa9DP4W"
      },
      "source": [
        "### PubMed dataset split\n",
        "\n",
        "|               |Training | Validation | Test |\n",
        "|---------------|---------|------------|------|\n",
        "| Total samples | 119924  | 6633       | 6658 |"
      ]
    },
    {
      "cell_type": "markdown",
      "metadata": {
        "id": "fUKi4xUAtjy-"
      },
      "source": [
        "Let's download the `pubmed` dataset ([click to see on 🤗Datasets Hub](https://huggingface.co/datasets/scientific_papers)) & load only the samples from test split (i.e. only 6658 samples). This can take a couple of minutes **☕** ."
      ]
    },
    {
      "cell_type": "code",
      "metadata": {
        "colab": {
          "base_uri": "https://localhost:8080/"
        },
        "id": "bR9A9aaMci2i",
        "outputId": "3f4df4a5-a6fa-4a70-8a77-588ea027971b"
      },
      "source": [
        "test_dataset = load_dataset(\"scientific_papers\", DATASET_NAME, split=\"test\", cache_dir=CACHE_DIR)\n",
        "test_dataset"
      ],
      "execution_count": null,
      "outputs": [
        {
          "output_type": "stream",
          "text": [
            "Reusing dataset scientific_papers (pubmed/scientific_papers/pubmed/1.1.1/306757013fb6f37089b6a75469e6638a553bd9f009484938d8f75a4c5e84206f)\n"
          ],
          "name": "stderr"
        },
        {
          "output_type": "execute_result",
          "data": {
            "text/plain": [
              "Dataset({\n",
              "    features: ['article', 'abstract', 'section_names'],\n",
              "    num_rows: 6658\n",
              "})"
            ]
          },
          "metadata": {
            "tags": []
          },
          "execution_count": 14
        }
      ]
    },
    {
      "cell_type": "markdown",
      "metadata": {
        "id": "IazVN9ZMDrwo"
      },
      "source": [
        "The official checkpoint `google/bigbird-pegasus-large-pubmed` ([click to see on 🤗Model Hub](https://huggingface.co/google/bigbird-pegasus-large-pubmed)) has already been fine-tuned on pubmed. In this notebook, we are just interested in evaluating the model."
      ]
    },
    {
      "cell_type": "code",
      "metadata": {
        "colab": {
          "base_uri": "https://localhost:8080/",
          "height": 317,
          "referenced_widgets": [
            "b19d3cae31ba4bb1a5cc5bf7eee1dd26",
            "06747c9e1e1a40ac939ad66c7d68cda6",
            "c66fe26369924e3c83c4d24bad763787",
            "e8f23f935c5a41f1bfb8f633178fba8b",
            "300270218c184072a0ad70d1fd5d0b91",
            "b0733432bdb444eb8493f4e328766f4c",
            "f0ec49d704184df29fa64a7a82683788",
            "b0ab7401339948b0a6ae8d928e358635",
            "57261b289ed149c997cce2d336cff067",
            "b77316cbf4e44349b35627ed5c2e1a81",
            "f01e4bc32200415eac13e0f0b1f9968d",
            "6193c20b1d4d4835b29766817443e95f",
            "49cc871b5dd843639181024b3e7ad849",
            "9a5d6df67dba47909e24067134dcf76b",
            "38737c236a6b4cf4a2b8d5d2fa552235",
            "683b61dd6ab74180983a319af13d560f",
            "936d32a9e4234ae6a0b5cd2c2990801b",
            "d75a409a33e74bf4b3aae0916c13799a",
            "723e12f665a24471bbfb6efbf3cfbcda",
            "e30f72902112477da30a17086c84f6d2",
            "e8853b2140cf4a1692a07e5a66a6e3ae",
            "5af7ac6dfc5a4887b41a528e8689decf",
            "bb61d029e5f54365b7b14c239f7d6856",
            "7b20ad32ba384457bc51b56aacd4eb4a",
            "4e8b27af92664e43937d3938b8c45a53",
            "a5fe46657b7b40698d00e899df78c4c8",
            "2453b609817a447fbdd6378bba539ec3",
            "9b1cae970e2c4e5db4b8ad327051085b",
            "9c1d7128a95b4189ab996af765a1fec4",
            "7ae6d7ae78674da5a64298f39f3aef72",
            "88cdef17ebba4ad2b5d3e4efad01dadd",
            "1964d2f85d33497fa7954bcf790981c5",
            "c3015c2c82c84845afbbbf95e3d114c9",
            "93deb970174b4909be1caf74cd39c9a6",
            "76e080e283a844209a6080d3e0bf225a",
            "3017e1e2f147417c80feb83da6585ef1",
            "2d4965e4c63f43ec899dc698c6a36e85",
            "235d6bfcfa17443999cafb0421f98459",
            "4cdce3db9b674c349f18ef6eca064d00",
            "4ba0e4e351d745098f3442e614f72ac3",
            "a25c12d5ad854dfcbbbb8f6e9dd120aa",
            "4744d2c60fc742dfa570bb66fba2be67",
            "b986f9e036284af69657ec93ac67ef01",
            "5e88dd7642ee491f8589571b4de5cef3",
            "9671ed77c91045a2a8229c566454e6bd",
            "cba0f813b538458c9e645b34a9d25f60",
            "52e47fdde056409da419c0d2f4fe41de",
            "5c8a663b04ab4d1193d5a93979239c89"
          ]
        },
        "id": "CxKbgLOmdfwy",
        "outputId": "7ad233a6-24b6-4ee9-9f34-0094d918c3b7"
      },
      "source": [
        "tokenizer = AutoTokenizer.from_pretrained(MODEL_ID)\n",
        "model = BigBirdPegasusForConditionalGeneration.from_pretrained(MODEL_ID).to(DEVICE)\n",
        "rouge = load_metric(\"rouge\")"
      ],
      "execution_count": null,
      "outputs": [
        {
          "output_type": "display_data",
          "data": {
            "application/vnd.jupyter.widget-view+json": {
              "model_id": "b19d3cae31ba4bb1a5cc5bf7eee1dd26",
              "version_minor": 0,
              "version_major": 2
            },
            "text/plain": [
              "HBox(children=(FloatProgress(value=0.0, description='Downloading', max=1054.0, style=ProgressStyle(description…"
            ]
          },
          "metadata": {
            "tags": []
          }
        },
        {
          "output_type": "stream",
          "text": [
            "\n"
          ],
          "name": "stdout"
        },
        {
          "output_type": "display_data",
          "data": {
            "application/vnd.jupyter.widget-view+json": {
              "model_id": "57261b289ed149c997cce2d336cff067",
              "version_minor": 0,
              "version_major": 2
            },
            "text/plain": [
              "HBox(children=(FloatProgress(value=0.0, description='Downloading', max=1915455.0, style=ProgressStyle(descript…"
            ]
          },
          "metadata": {
            "tags": []
          }
        },
        {
          "output_type": "stream",
          "text": [
            "\n"
          ],
          "name": "stdout"
        },
        {
          "output_type": "display_data",
          "data": {
            "application/vnd.jupyter.widget-view+json": {
              "model_id": "936d32a9e4234ae6a0b5cd2c2990801b",
              "version_minor": 0,
              "version_major": 2
            },
            "text/plain": [
              "HBox(children=(FloatProgress(value=0.0, description='Downloading', max=775.0, style=ProgressStyle(description_…"
            ]
          },
          "metadata": {
            "tags": []
          }
        },
        {
          "output_type": "stream",
          "text": [
            "\n"
          ],
          "name": "stdout"
        },
        {
          "output_type": "display_data",
          "data": {
            "application/vnd.jupyter.widget-view+json": {
              "model_id": "4e8b27af92664e43937d3938b8c45a53",
              "version_minor": 0,
              "version_major": 2
            },
            "text/plain": [
              "HBox(children=(FloatProgress(value=0.0, description='Downloading', max=1184.0, style=ProgressStyle(description…"
            ]
          },
          "metadata": {
            "tags": []
          }
        },
        {
          "output_type": "stream",
          "text": [
            "\n"
          ],
          "name": "stdout"
        },
        {
          "output_type": "display_data",
          "data": {
            "application/vnd.jupyter.widget-view+json": {
              "model_id": "c3015c2c82c84845afbbbf95e3d114c9",
              "version_minor": 0,
              "version_major": 2
            },
            "text/plain": [
              "HBox(children=(FloatProgress(value=0.0, description='Downloading', max=2308148159.0, style=ProgressStyle(descr…"
            ]
          },
          "metadata": {
            "tags": []
          }
        },
        {
          "output_type": "stream",
          "text": [
            "\n"
          ],
          "name": "stdout"
        },
        {
          "output_type": "display_data",
          "data": {
            "application/vnd.jupyter.widget-view+json": {
              "model_id": "a25c12d5ad854dfcbbbb8f6e9dd120aa",
              "version_minor": 0,
              "version_major": 2
            },
            "text/plain": [
              "HBox(children=(FloatProgress(value=0.0, description='Downloading', max=2170.0, style=ProgressStyle(description…"
            ]
          },
          "metadata": {
            "tags": []
          }
        },
        {
          "output_type": "stream",
          "text": [
            "\n"
          ],
          "name": "stdout"
        }
      ]
    },
    {
      "cell_type": "markdown",
      "metadata": {
        "id": "loyoW9hBTEZJ"
      },
      "source": [
        "`BigBirdPegasus` makes use of *block sparse attention*. Let's verify the `config`'s attention type and the `block_size`."
      ]
    },
    {
      "cell_type": "code",
      "metadata": {
        "colab": {
          "base_uri": "https://localhost:8080/"
        },
        "id": "Va0__WAzjwED",
        "outputId": "a38aa161-3562-4aa4-ac99-0513ca186eef"
      },
      "source": [
        "model.config.attention_type, model.config.block_size"
      ],
      "execution_count": null,
      "outputs": [
        {
          "output_type": "execute_result",
          "data": {
            "text/plain": [
              "('block_sparse', 64)"
            ]
          },
          "metadata": {
            "tags": []
          },
          "execution_count": 16
        }
      ]
    },
    {
      "cell_type": "markdown",
      "metadata": {
        "id": "WH_1gGGOFRTI"
      },
      "source": [
        "### PubMed Statistics\n",
        "\n",
        "|                 | Median | 90%-ile |\n",
        "|-----------------|--------|---------|\n",
        "| Articles Length | 2715   | 6101    |\n",
        "| Summary Length  | 212    | 318     |\n",
        "\n",
        "The median article length is around **2715** (as shown in the above table) while `BigBirdPegasus` can handle sequence up to **4096** length. But there will be quite a few samples with lengths > 4096, we will truncate them simply."
      ]
    },
    {
      "cell_type": "markdown",
      "metadata": {
        "id": "DFDaG9xItfLM"
      },
      "source": [
        "Now we can write the evaluation function for BigBirdPegasus.\n",
        "First, we tokenize each *article* up to a maximum length of 4096 tokens.\n",
        "We will make use of beam search (with `num_beams=5` & `length_penalty=0.8`) to generate the predicted *abstract* of the *article*. Finally, the predicted *abstract* tokens are decoded and the resulting predicted *abstract* string is saved in the batch."
      ]
    },
    {
      "cell_type": "code",
      "metadata": {
        "id": "45BU5o72d1Fa"
      },
      "source": [
        "def generate_answer(batch):\n",
        "  inputs_dict = tokenizer(batch[\"article\"], padding=\"max_length\", max_length=4096, return_tensors=\"pt\", truncation=True)\n",
        "  inputs_dict = {k: inputs_dict[k].to(DEVICE) for k in inputs_dict}\n",
        "  predicted_abstract_ids = model.generate(**inputs_dict, max_length=256, num_beams=5, length_penalty=0.8)\n",
        "  batch[\"predicted_abstract\"] = tokenizer.decode(predicted_abstract_ids[0], skip_special_tokens=True)\n",
        "  print(batch[\"predicted_abstract\"])\n",
        "  return batch"
      ],
      "execution_count": null,
      "outputs": []
    },
    {
      "cell_type": "markdown",
      "metadata": {
        "id": "g4c4SS3rlbqL"
      },
      "source": [
        "Let's take 2 samples and verify the predictions to be sure everything works as expected 🙂."
      ]
    },
    {
      "cell_type": "code",
      "metadata": {
        "colab": {
          "base_uri": "https://localhost:8080/",
          "height": 195,
          "referenced_widgets": [
            "e4b7a50d21874798a077365ae733a3c7",
            "ad70fa2e8ef14663b516f8873953f8b5",
            "6953ac0077934254b26d0a1e7fb346d2",
            "75b61042f94e4da09d13455b853ce5fc",
            "86d1f6e53f1a4f91b45e662296e68fe6",
            "def5d77554584da29edee529d34429b9",
            "f8cd7d63ffb5402b8599e380547183e8",
            "d9ba4cdbe8e14596ac451d788e03a7a4"
          ]
        },
        "id": "Va6-cCR1gX6i",
        "outputId": "3649627e-de8d-4655-b969-ae4e1239463d"
      },
      "source": [
        "dataset_small = test_dataset.select(range(2))\n",
        "result_small = dataset_small.map(generate_answer)\n",
        "\n",
        "rouge.compute(predictions=result_small[\"predicted_abstract\"], references=result_small[\"abstract\"])"
      ],
      "execution_count": null,
      "outputs": [
        {
          "output_type": "display_data",
          "data": {
            "application/vnd.jupyter.widget-view+json": {
              "model_id": "e4b7a50d21874798a077365ae733a3c7",
              "version_minor": 0,
              "version_major": 2
            },
            "text/plain": [
              "HBox(children=(FloatProgress(value=0.0, max=2.0), HTML(value='')))"
            ]
          },
          "metadata": {
            "tags": []
          }
        },
        {
          "output_type": "stream",
          "text": [
            "although anxiety is the most prominent and prevalent mood disorder in patients with parkinson's disease ( pd ), few studies have investigated the relationship between anxiety and cognition in pd.<n> the aim of this study was to examine the influence of anxiety on cognition in pd by comparing pd patients with and without anxiety.<n> seventeen pd patients with anxiety ( pda+ ) and thirty - three pd patients without anxiety ( pda ) were included in this study.<n> self - reported anxiety was assessed using the hospital anxiety and depression scale ( hads ).<n> groups were matched for age, disease duration, hoehn and yahr ( h&y ) stages, disease severity, and depression.<n> performance on neuropsychological tests of attention ( digit span forward and backward, trail making test part b, logical memory test, and boston naming test ) and executive function ( verbal fluency and attentional set - shifting ) were compared between groups.<n> pd patients with anxiety demonstrated worse performance on all neuropsychological tests compared to pd patients without anxiety.<n> furthermore, pd patients with anxiety were more impaired on the digit span forward and backward\n",
            "microrna ( mirna ) is a class of small non - coding rna that regulates a broad range of cellular processes including cell cycle progression, differentiation, apoptosis, cell proliferation, metastasis, and tumorigenesis.<n> emerging evidence demonstrates that mirnas are involved in breast cancer initiation, progression and metastasis.<n> dysregulated expression of mirnas has implicated components of the non - coding genome as either oncogenes or tumor suppressors of breast cancer.<n> dysregulated expression of mirnas has also been observed in cancer associated fibroblasts ( caf ) and in the systemic circulation.<n> the understanding of how mirnas are involved in breast cancer through regulating the cell cycle remains rudimentary.<n> although the tendency for a global decrease of mirna expression in human cancers originally suggested a general tumor suppressor function of mirnas, subsequent studies showing the aberrant expression of specific mirnas in breast cancer suggest mirna - specific roles in breast cancer onset and progression. in this review,<n> we summarize the recent literature and research progress on the mechanism by which mirnas regulate the breast cancer cell cycle and cellular proliferation. a specific subset of dysregulated mirnas in breast cancer cells may serve as targets for gene therapy either\n",
            "\n"
          ],
          "name": "stdout"
        },
        {
          "output_type": "execute_result",
          "data": {
            "text/plain": [
              "{'rouge1': AggregateScore(low=Score(precision=0.3005181347150259, recall=0.4581005586592179, fmeasure=0.4113475177304965), mid=Score(precision=0.381897485436609, recall=0.5548929759588225, fmeasure=0.43601083751693365), high=Score(precision=0.4632768361581921, recall=0.651685393258427, fmeasure=0.4606741573033708)),\n",
              " 'rouge2': AggregateScore(low=Score(precision=0.140625, recall=0.1853932584269663, fmeasure=0.1864406779661017), mid=Score(precision=0.1640625, recall=0.24610572012257406, fmeasure=0.18964891041162227), high=Score(precision=0.1875, recall=0.3068181818181818, fmeasure=0.19285714285714284)),\n",
              " 'rougeL': AggregateScore(low=Score(precision=0.17098445595854922, recall=0.24581005586592178, fmeasure=0.23404255319148937), mid=Score(precision=0.20978601329000907, recall=0.3082982863599272, fmeasure=0.2406167822137222), high=Score(precision=0.24858757062146894, recall=0.3707865168539326, fmeasure=0.24719101123595505)),\n",
              " 'rougeLsum': AggregateScore(low=Score(precision=0.22797927461139897, recall=0.3854748603351955, fmeasure=0.31205673758865243), mid=Score(precision=0.3089048915429876, recall=0.4399284414035528, fmeasure=0.34984859351342734), high=Score(precision=0.3898305084745763, recall=0.4943820224719101, fmeasure=0.3876404494382023))}"
            ]
          },
          "metadata": {
            "tags": []
          },
          "execution_count": 18
        }
      ]
    },
    {
      "cell_type": "markdown",
      "metadata": {
        "id": "uvuESnn-Gkmq"
      },
      "source": [
        "Because of the very large input size of ~ 4K tokens in this notebook, it would take over (time) to evaluate the whole filtered test dataset. For the sake of this notebook, we'll only evaluate the first 600 examples. Therefore, we cut the whole 6000+ samples to just 600 samples using 🤗Datasets' convenient `.select()` functionality."
      ]
    },
    {
      "cell_type": "code",
      "metadata": {
        "id": "rIJMUbf1QU8x"
      },
      "source": [
        "test_dataset = test_dataset.select(range(600))"
      ],
      "execution_count": null,
      "outputs": []
    },
    {
      "cell_type": "markdown",
      "metadata": {
        "id": "w179g14ZHFgW"
      },
      "source": [
        "Alright, let's map each sample to the predicted *abstract*. This will take ~ 2 hours if you're given a fast GPU."
      ]
    },
    {
      "cell_type": "code",
      "metadata": {
        "colab": {
          "base_uri": "https://localhost:8080/",
          "height": 1000,
          "referenced_widgets": [
            "336a3e9d89924130a0c220a28d0d0e9e",
            "ba65d046d5ad4dc498383573f4ac2b9f",
            "cde28183d5404cdea0fa3e5c7047f898",
            "78d2ea5ae0844cb29c9f7a3d321eb36b",
            "79ad704b61634d9fa30e8d11bbaa7a0a",
            "80f42b1b60b742b8a954c1f6a5a730f9",
            "59f36a472ab640acab880f17da4fa0a4",
            "c7577b41ff9c48b1b32b9c972fd96b11"
          ]
        },
        "id": "edh7Z71PpDW5",
        "outputId": "b13a3837-bd47-4f2d-a435-33ca17de16dd"
      },
      "source": [
        "result = test_dataset.map(generate_answer)"
      ],
      "execution_count": null,
      "outputs": [
        {
          "output_type": "display_data",
          "data": {
            "application/vnd.jupyter.widget-view+json": {
              "model_id": "336a3e9d89924130a0c220a28d0d0e9e",
              "version_minor": 0,
              "version_major": 2
            },
            "text/plain": [
              "HBox(children=(FloatProgress(value=0.0, max=600.0), HTML(value='')))"
            ]
          },
          "metadata": {
            "tags": []
          }
        },
        {
          "output_type": "stream",
          "text": [
            "although anxiety is the most prominent and prevalent mood disorder in patients with parkinson's disease ( pd ), few studies have investigated the relationship between anxiety and cognition in pd.<n> the aim of this study was to examine the influence of anxiety on cognition in pd by comparing pd patients with and without anxiety.<n> seventeen pd patients with anxiety ( pda+ ) and thirty - three pd patients without anxiety ( pda ) were included in this study.<n> self - reported anxiety was assessed using the hospital anxiety and depression scale ( hads ).<n> groups were matched for age, disease duration, hoehn and yahr ( h&y ) stages, disease severity, and depression.<n> performance on neuropsychological tests of attention ( digit span forward and backward, trail making test part b, logical memory test, and boston naming test ) and executive function ( verbal fluency and attentional set - shifting ) were compared between groups.<n> pd patients with anxiety demonstrated worse performance on all neuropsychological tests compared to pd patients without anxiety.<n> furthermore, pd patients with anxiety were more impaired on the digit span forward and backward\n",
            "microrna ( mirna ) is a class of small non - coding rna that regulates a broad range of cellular processes including cell cycle progression, differentiation, apoptosis, cell proliferation, metastasis, and tumorigenesis.<n> emerging evidence demonstrates that mirnas are involved in breast cancer initiation, progression and metastasis.<n> dysregulated expression of mirnas has implicated components of the non - coding genome as either oncogenes or tumor suppressors of breast cancer.<n> dysregulated expression of mirnas has also been observed in cancer associated fibroblasts ( caf ) and in the systemic circulation.<n> the understanding of how mirnas are involved in breast cancer through regulating the cell cycle remains rudimentary.<n> although the tendency for a global decrease of mirna expression in human cancers originally suggested a general tumor suppressor function of mirnas, subsequent studies showing the aberrant expression of specific mirnas in breast cancer suggest mirna - specific roles in breast cancer onset and progression. in this review,<n> we summarize the recent literature and research progress on the mechanism by which mirnas regulate the breast cancer cell cycle and cellular proliferation. a specific subset of dysregulated mirnas in breast cancer cells may serve as targets for gene therapy either\n",
            "the aim of the current study was to evaluate the role of the pigtail catheter drainage in outpatient management of patients with early onset severe ohss.<n> this is a retrospective study that included all patients who underwent in vitro fertilization and developed severe ohss by the golan classification in the period between 2004 and 2009.<n> all patients underwent an ultrasound evaluation which documented the presence of severe ascites and bilateral ovarian enlargement.<n> all patients presented with shortness of breath, marked abdominal distension, nausea, weight gain and lower abdominal pain.<n> thirteen patients complained of vomiting, and 3 patients reported decreased urine output ( less than 720 cc per 24 hours ) and had haemoglobin 15 g / dl.<n> all 33 patients were offered treatment using pigtail catheter drainage as an alternative to trans - vaginal paracentesis.<n> twenty - nine patients ( 88% ) were managed on an outpatient basis without any complications.<n> three patients ( 9% ) required an early placement of a pigtail catheter while 30 patients ( 91% ) had late placement of the catheter.<n> four patients ( 12% ) required hospital admission for 1 - 7 days ( 3 + 2.7 ), three for associated severe pleural effusion requiring thora\n",
            "introduction : congenital adrenal hyperplasia ( cah ) refers to a group of autosomal recessive disorders caused by an enzyme deficiency which leads to defects in biosynthesis of steroid precursors. it also helps in maintaining normal levels of precursors by suppressing adreno cortico trophic hormone ( acth ). during childhood, the management is largely focused on achieving normal growth and attaining appropriate final adult height.materials and methods : data regarding demography, clinical presentation at time of diagnosis, treatment details, height sds and bmi were collected.results:29 patients were included in the study of which 22 were females ( 76% ) and 7 were males ( 24% ). based on the cross sectional data collected, 11 patients were adults ( age > 18 ) and 18 patients were children ( 62%).conclusion : the typical presentation of male babies were with adrenal crisis between the 3rd and 6th week of life.<n> around 20% of female patients with classic cah were identified and appropriately treated only after late adolescence even when genital ambiguity was present since birth.\n",
            "objective(s):type 1 diabetes ( t1d ) results from the destruction of insulin producing pancreatic cells by a cell specific autoimmune process.<n> it has been shown that pentoxifylline ( ptx ) has immunomodulatory and anti - inflammatory activity, which might represent a potential preventive therapy for autoimmune diseases.<n><n>materials and methods : diabetes was induced by multiple low doses of streptozotocin ( mlds ) in male c57bl/6 mice.<n> subsequently, the mice were allocated to three therapeutic groups ( n=7 per group ) ( normal control group, mlds group ( diabetic control group ) and treatment group ). treatment with pentoxifylline ( ptx ) ( 100 mg / kg / day for 21 days, ip ) was initiated in treatment group when they were considered diabetic.<n> the levels of glucose in diabetic mice were significantly reduced after treatment with ptx ( p0.05 ), for 21 days, when compared to the values of diabetic control mice.<n> the stimulation index ( si ) in treatment group with ptx showed a significant decrease as compared with that in\n",
            "objective : to determine the prevalence of staphylococcal toxin - specific ige antibodies and the degree of ige - mediated sensitization in patients with asthma.methods:this was a cross - sectional study involving 142 adult patients with asthma divided into two groups according to the clinical severity of asthma : mild asthma ( ma ) group, comprising patients with mild intermittent or persistent asthma ; and moderate or severe asthma ( msa ) group, comprising patients with moderate or severe asthma. for the determination of ige antibodies to staphylococcal enterotoxins a, b, c, and e, an immunoassay was used.results:of the 142 patients, 72 were in the ma group and 70 were in the msa group.<n> the mean serum levels of ige antibodies to sea, seb, sec, and tsst were 0.96 u / l, 1.09 u / l, 1.21 u / l, and 1.18 u / l, respectively. of the sample as a whole, 62 patients ( 43.7% ) tested positive for staphylococcal toxin - specific ige antibodies : sea, in 29 ( 20.4%\n",
            "background : family is the cornerstone of human social support network and its presence is essential in everyone s life. today, the family needs of hospitalized patients in the intensive care unit ( icu ) are summarized in five sections. however, in many cases, the patient s family needs and their expectations in the icu will not be fulfilled which will cause dissatisfaction. since, how families deal with mental stress is the most important components of comprehensive care, it should be known that attention to the family needs of the patients hospitalized in intensive care units could increase their satisfaction and thus a reduction in stress disorders.<n> the purpose of the study was to determine the effectiveness of nursing interventions based on family needs on the satisfaction of the families of patients in the neurosurgery intensive care unit of al - zahra hospital, isfahan, iran in 2010.materials and methods : in this clinical trial, the satisfaction of the families of the patients in the neurosurgery intensive care unit of al - zahra hospital, isfahan, iran was measured by johnson s satisfaction questionnaire.<n> the intervention based on the family needs was performed in the second and the third day of hospitalization of the patients in the\n",
            "background : therapeutic communication is an essential element of peplau's therapeutic communication model. the purpose of this study was to examine the impact of therapeutic communication model based on peplau's therapeutic communication model on anxiety and depression in patients who were candidate for coronary artery bypass surgery.methods:this study was a clinical trial with pre / post testing and control groups.<n> the population consisted of all patients who were candidates for coronary artery bypass surgery referred to the research environment of al - zahra heart hospital in shiraz, iran.<n> the population consisted of all patients who were candidates for coronary artery bypass surgery referred to the research environment of al - zahra heart hospital in shiraz, iran.<n> data were collected using the hospital anxiety and depression scale ( hads ).<n> data were analyzed using descriptive statistics and covariance analysis by spss 16.results:the results showed significant differences between the intervention and control groups in terms of hospital anxiety and depression scores immediately after surgery, two and four months after surgery. according to the results, the mean anxiety score of patients in the intervention group two and four months after surgery was decreased compared to the control group ( f=163.27, p\n",
            "in july 2004, an outbreak of influenza a(h3n2 ) virus infection occurred among refugees from nepal who had traveled to thailand.<n> influenza a(h3n2 ) isolates from the patients were analyzed by rt - pcr, sequencing, and antigenic analysis.<n> the outbreak was caused by h3n2 viruses derived from both a / wyoming/03/2003 ( a / h3n2 ) and a / fujian/411/2002 ( a / h3n2 ), as well as a / wyoming/03/03 ( a / h3n2 ), a / fujian/411/03 ( a / h3n2 ), and a / wyoming/03/03 ( a / h3n2 ).\n",
            "higher weight has been associated with adverse health indicators and outcomes, including cardiovascular disease, stroke, cognitive and functional decline, metabolic syndrome, inflammation, and mortality. in the united states and england, obesity has increased significantly over the last 30 years, while in taiwan it has remained relatively stable.<n> the purpose of this paper is to compare how obesity relates to indicators of physiological dysregulation in populations with different cultures, diets, behaviors, and epidemiological histories.<n> we examine how a combined indicator of weight and adiposity is related to indicators of physiological dysregulation in populations with different cultures, diets, behaviors, and epidemiological histories.<n> we use data from three nationally representative samples : the us national health and nutrition examination survey ( nhanes, 20032006 ; n = 3855 ), the english longitudinal study of ageing ( elsa, 2004 - 2005 ; n = 9139 ), and the social environment and biomarkers of aging study ( sebas, 2000 ; n = 1023 ) in taiwan.<n> we examine how elevated weight and obesity ( using an indicator that considers both bmi and waist circumference ) relate\n",
            "introduction : suppurative meningitis ( sm ) is scarcely observed in subjects with macro tumors secreting prolactin ( prl ) and in other pituitary tumors ( pt ).<n> our aim was to analyze sm frequency among male macroprolactinomas ( mprl ), to report our cases and analyze the circumstances under which the dangerous neurological complication appeared.materials and methods : in this retrospective study, we analyzed 82 subjects with mprl to look for symptoms, clinical signs and biological proof of sm. that one was based on prl, growth hormone ( gh ), insulin growth hormone ( igf1 ), cortisol, adrenocorticotropic hormone, testosterone, follicle stimulating hormone, luteinizing hormone, thyroid stimulating hormone and free thyroxin. radiological assessment was based on cerebral computed tomography scan and/or magnetic resonance imaging ( mri).results : four patients were first hospitalized in the department of infectious diseases for typical symptoms and signs of sm ; one was proved by cerebrospinal fluid ( csf ) biochemical analyses.<n> three were first hospitalized in our department for the fourth episode of sm which was proved by csf analysis\n",
            "background : many studies have not been reported in literature for lumbar discectomy by destandau endospine system. the aim of this study was to present results in 300 patients operated by edoscopic discectomy and to discuss technical points to shorten the learning curve.materials and methods : a total of 300 patients suffering from lumbar disc herniations were operated between january 2002 and december 2008.<n> technique comprised localization of symptomatic level followed by insertion of an endospine system devise through a 15 mm skin and fascial incision. the results were evaluated by macnab's criteria after a minimum followup of 12 months and maximum up to 24 months. based on modified macnab's criteria, 90% patients had excellent to good, 8% had fair, and 2% had poor results.results:a total of 235, 20 contained, 15 foraminal, and 30 sequestrated herniations were operated.<n> there were 206 males and 94 females aged between 18 to 72 years ( mean, 38.4 years ).<n> there were extruded, 20 contained, 15 foraminal, and 30 sequestrated herniations.<n> 90% patients were able to return to light and sedentary work with\n",
            "background : the purpose of this research was to draw a conceptual model based on patients source of information, perceived benefits, perceived risks, and medical tourism destination image to facilitate the decision making of international patients for taking part in medical tourism.methods:literature review ( medline, embase, scopus, web of science, and google scholar ) revealed huge gap in literature available in medical tourism. available literature explore various factors related to patients travel such as source of information, perceived risks, benefits of medical tourism destinations and attributes of medical tourism destinations in sufficient amount but almost all of these related accounts are exploratory in nature and do not provide conceptual frameworks for testing.<n> many researchers made calls to explore more about the decision making process based on conceptual models and test them empirically, so managers in medical tourism industry will be more acquainted about the needs and requirements of patients and design their future strategies accordingly and at the same time patients will also be benefited by receiving more quality services from the providers. this article will draw a conceptual model based on patients source of information, perceived benefits, perceived risks, and medical tourism destination image with available literature that will be helpful to mangers to draw their future course of action\n",
            "patients with head and neck squamous cell carcinoma ( hnscc ) have a poor prognosis when metastasized.<n> oncogenic mutations of oncogenic signaling proteins such as epidermal growth factor receptor ( egfr ), receptor tyrosine kinases ( rtks ), and phosphatidylinositol-3-kinase ( pi3k)-akt - mammalian target of rapamycin ( mtor ) contribute to neoplastic growth.<n> this short review will explore the relative contribution of each signaling axis to disease progression, potential modes of cross - talk, and targeted clinical approaches under investigation for the treatment of hnscc.\n",
            "objective : to investigate the effects of thymoquinone ( tq ), a lipophilic cationic dye that selectively enters into mitochondria, on the survival of dopaminergic neurons in primary mesencephalic cell cultures.methods:primary mesencephalic cell cultures were prepared from c57/b16 mouse embryos on the fourteenth day of gestation.<n> cells were treated with tq ( 0.01, 0.1, 1, and 10 m ), nicotinamide adenine dinucleotide ( mpp)-treated cultures on the eighth and the tenth day, and co - administered with mpp on the tenth day to investigate the effect of tq on the survival of dopaminergic neurons.<n> dopaminergic neurons were identified immunocytochemically by staining with tyrosine hydroxylase.<n> cellular injury was quantitatively assessed by measuring the activity of lactate dehydrogenase ( ldh ) released from damaged cells into the culture medium.<n> lysotracker deep red fluorescence dye was used to estimate changes in mitochondrial membrane potential ( m).results : co - treatment of cultures with tq ( 0.01, 0.1, 1, and 10 m ) and\n",
            "femoral neck fractures are uncommon and non - union is the most common complication. in young active patients<n> revision internal fixation with cancellous or muscle pedicle bone grafting or an osteotomy results in useful outcome.<n> we report a case of non - union of the fracture of the neck of the femur, who refused additional procedures after his non - union had been established.\n",
            "granuloma faciale ( gf ) is an uncommon, benign, inflammatory skin disorder of unknown etiology.<n> the disease is notoriously resistant to therapies and often tends to relapse when treatment is discontinued.<n> we present a patient with multiple lesions of gf and its response to topical tacrolimus.\n",
            "chronic myelomonocytic leukaemia ( cmmol ) is a rare disease with an incidence of 0.370.72 per 100 000 population.<n> the radical treatment is allogeneic stem cell transplantation, although this treatment is unsuitable for most patients because of their advanced age.<n> several case reports have indicated that excess surgical stress causes an acute blastic crisis, which contributes to a poor outcome. a 68-year - old man complained of having a reduced appetite for approximately 5 months and weight loss during the previous 4 months.<n> he visited a nearby general internal medicine clinic for the evaluation of left lower quadrant abdominal pain.<n> he was referred to the department of internal medicine at asahi general hospital ( asahi, japan ) for investigation and treatment.<n> he began taking oral hydroxyurea. at the initial visit the right molar teeth ( 47 and 48 ) showed grade iii mobility, and their gingivae were painful with continuous bleeding.<n> the right molar teeth ( 46 and 47 ) showed class iii alveolar ridge deficiency on panoramic radiographs and were mobile teeth.<n> we packed an absorbable haemostat into the gingivae and sutured 30 silk threads above it \n",
            "the use of bivalirudin for cardiopulmonary bypass and extracorporeal membrane oxygenation ( ecmo ) is a feasible option. however, it is recommended that, during cardiopulmonary bypass, blood stagnation in the circuit be avoided because the rapid cleavage of bivalirudin may result in thrombosis. the ecmo circuit is devoid of a reservoir, and therefore blood stagnation is usually not a circuit- related problem. conversely, under some circumstances, the cardiac chambers may act as a'natural reservoir ', which entails blood stagnation and the risk for spontaneous intracardiac thrombosis. to avoid this condition, we think that maintaining a partial ecmo support, leaving a minimal degree of intracardiac blood flow, may be a reasonable choice.\n",
            "aim : to assess left ventricular ( lv ) ejection fraction ( lvef ) using 64-slice multidetector computed tomography ( mdct ) coronary angiography and to compare efficacy of technique with two - dimensional transthoracic echocardiography ( 2d - tte ) in a heterogeneous patient population.materials and methods : study included 113 patients referred for 64-slice mdct coronary angiography for evaluation of coronary artery disease.<n> all patients were scanned on 64 slice ge - helical ct ( ge high speed advantage ) scanner and had an echo done within 1 week of the ct scan.<n> diastolic and systolic images can easily be produced from the same data set with a retrospective ecg - gating technique, thus obtaining lv end - diastolic and end - systolic volumes ( edvs and esvs ).<n> lvef was calculated using fully automated analysis software based on cta data.<n> agreement for lvef was determined by the use of pearson's regression analysis and calculating correlation coefficient ( r ).<n> bland - altman analysis was used to compare the lvef measured with mdct and that with 2d-tte.results:mean age of the\n",
            "aristolochia bracteolata roxb.<n> ( family : aristolochiaceae ) has been used in african and asian traditional medicine for thousands of years in the treatment of various diseases, including wound healing, dysentery, snakebites, cancer, and infectious diseases. however, there are many cases of nephropathy reported in the literature caused by the systemic and long term application of chinese snakeroot ( aristolochia fangchi ) ; this highlighted the risk of using plant material with known levels of toxic active constituents. in the present study,<n> bioassay - guided fractionation of the methanolic extract of the whole plant of aristolochia bracteolata was carried out.<n> the crude extract and chloroform fraction were significantly active against sea urchin - derived bacillus sp. and both standard strain and clinical isolates of moraxella catarrhalis and were moderately active against s. aureus, b. subtilis, and ps.<n> the n - hexane fraction had moderate activity against s. aureus and b. subtilis and the n - butanol fraction had moderate activity against ps \n",
            "infections, particularly infective endocarditis, have been reported to show positive findings on anti - neutrophil cytoplasmic antibody ( anca ) tests ; furthermore, their clinical features have been acknowledged to mimic anca - associated vasculitis, which may lead to a misdiagnosis and inappropriate treatment. however, to our knowledge, infected aortic aneurysms have not been reported to show positive findings on anca tests.<n> we herein report a patient with an infected thoracic aortic aneurysm mimicking anti - proteinase 3-antineutrophil cytoplasmic antibody ( pr3-anca)-associated vasculitis.<n> contrast - enhanced computed tomography revealed a new descending aortic aneurysm.<n> vegetations in the descending aorta, which were detected using transesophageal echocardiography, contributed to the diagnosis in this case. to our knowledge, this is the first report of an infected aortic aneurysm with a positive pr3-anca test and clinical features mimicking anca - associated vasculitis.\n",
            "backgroundthere may be a correlation between vitamin d levels and the risk of polycystic ovarian disease, endometriosis, breast and ovarian cancer, increased arterial stiffness in older patients, and myasthenia gravis.<n> the aim of this study was to explore the relationship between vitamin d and endometriosis.material/methodsthis double - blind, randomized clinical trial was performed in a single tertiary university hospital from nov 2014 to feb 2016. to find patients with endometriosis, we did laparoscopy for various indications, including ovarian cyst, infertility, pelvic pain, and dysmenorrhea. using laparoscopy, the surgeons diagnosed patients with endometriosis and tried to excise or ablate all endometriosis tissue. the day before laparoscopy, a data collection form was completed by a physician, including the reason for laparoscopy, the severity of dysmenorrhea and/or pelvic pain, and a visual analogue scale test ( vas ) test score of 3 or more for dysmenorrhea and/or pelvic pain at second menses after operative laparoscopy. patients with vitamin d treatment in the last 6 months prior to surgery, patients with known systemic diseases, and patients with hormonal\n",
            "objective : the aim of this study was to compare the apical sealing and gap formation of ah plus / gutta - percha with epiphany system.materials and methods : thirty - nine lower single - rooted human premolars were cleaned and submitted to 18.5 kgy gamacell radiation ( local ethics committee approval 177/05 ).<n> the teeth were randomly ( http://www.random.org ) divided into 3 experimental groups ( n=11 ). the teeth were randomly ( http://www.random.org ) divided into 3 experimental groups ( n=11 ). the teeth were randomly ( http://www.random.org ) divided into 3 experimental groups ( n=11 ). the teeth were cleaned and submitted to 18.5 kgy gamacell radiation ( local ethics committee approval 177/05 ).<n> the apical 5 mm of the root canal filling were divided into 5 regions of 1 mm2 to evaluate apical microleakage by sem leo electron microscopy / energy dispersive spectroscopy.<n> the apical 5 mm of the root canal filling were divided into 5 regions of 1 mm2 to evaluate gap formation by scanning electron microscopy / energy dispers\n",
            "neonatal diabetes mellitus ( ndm ) presenting within the first 6 months of life includes permanent neonatal diabetes mellitus ( pndm ), which require lifelong therapy, and transient neonatal diabetes mellitus ( tndm ), where the condition shows remission during infancy but relapses in adolescence. activating mutations in the kcnj11 gene, encoding the subunit kir6.2, and abcc8 gene, encoding the sulfonylurea receptor 1 ( sur1 ) of atp - sensitive potassium ( katp ) channel, which has a key role in insulin secretion in glucose metabolism, are the most common causes and account for approximately 40% of all cases of pndm.<n> mutations in the glucokinase ( gck ) and insulin ( ins ) genes have also been reported in patients with pndm.<n> sulfonylureas close the katp channel by an atp - independent route, leading to increase insulin secretion. therefore, in many patients with pndm with kir6.2 and sur1 mutations, insulin therapy can be replaced by oral sulfonylureas which offer more improvement in glycemic control and better quality of life.<n>\n",
            "radiocontrast - induced nephropathy ( rin ) can lead to acute renal failure, which may require dialysis therapy. increases in serum creatinine levels are useful for detecting rin.<n> recent studies have reported that urine levels of il-18 ( a pro - inflammatory cytokine ), kidney injury molecule-1, and neutrophil gelatinase - associated lipocalin levels are important for early detection of rin. in this study, we aimed to compare the plasma creatinine levels with spot urine il-18 levels following radiocontrast administration.<n> twenty patients ( 11 males and 9 females ) underwent diagnostic and therapeutic contrast - enhanced examinations. a precontrast - enhanced examination of serum blood urea nitrogen ( bun ), creatinine, na, k, cl, ca, p, creatinine clearance was analyzed and they were repeated at 24, 48, and 72 h following contrast administration. spot urine il-18 levels were measured before and 6 and 24 h after radiocontrast administration with a human il-18 elisa kit. a slight increase in plasma creatinine levels<n> was observed at 48 h after radiocontrast administration, but they fell to precontrast values at 72 h. a slight increase in plasma creatinine values at\n",
            "peri - prosthetic joint infections do still have a tremendous impact in orthopaedics and trauma, with high social and economic costs, posing challenging diagnostic and therapeutic dilemmas. in fact, peri - prosthetic joint infection remains one of the most feared complications in orthopaedic surgery and among the first reasons for implant failure. according to the widely accepted model of the'race for the surface'for peri - prosthetic joint infection development, host and bacterial cells compete for surface colonization, with a low probability of bacterial attachment if host cells adhere to implant first, and vice versa. in the event of bacterial adhesion to an implant,<n> the matrix protects the biofilm cells from various microbicidal agents and stresses, including dehydration, toxins, ultraviolet light, chemical disinfectants, temperature and osmotic shock, and lead them to increased resistance against antimicrobials. among its various properties, several studies have recently shown the ability of hyaluronic acid ( ha ) to protect against various infectious agents, depending on ha concentration and molecular weight, while more recently ha interference on bacterial adhesion and biofilm formation has been extensively investigated. given its high biocompatibility and well known safety profile and the anti - adhesive capabilities, ha and\n",
            "<n> background.<n> antimicrobial resistance ( amr ) is a major threat to patient's treatment as it leads to increased morbidity and mortality.<n> hence, this short term study was undertaken to detect the incidence of multidrug resistant ( mdr ), extensively drug resistant ( xdr ), and pandrug resistant ( pdr ) bacterial isolates in a tertiary care hospital of central india.<n> methods.<n> the bacterial strains were isolated from different clinical samples and were identified by conventional methods.<n> mdr, xdr, and pdr strains were detected by meca - mediated oxacillin resistance using cefoxitin disk ( 30 g ) on mueller hinton ( mh ) agar plate inoculated with test strains as per standard disk diffusion recommendations and incubated at 3335c for 1618 hours. results. out of total 698 clinical samples,<n> 182 had mixed bacterial growth. out of total 172 clinical samples, 314 ( 29.6% ) bacterial strains were gram positive cocci ( gpc ) and 746 ( 70.4% ) were gram negative bacilli ( gnb ). out of total 9304 patients\n",
            "ureterocele is a congenital abnormality characterized by the presence of an intrabladder hernia or cystic ballooning of the lower end of a ureter lying between the mucosa and muscle of the bladder. ultrasonography ( usg ) and voiding cystourethrography ( vcug ) are essential initial procedures for a child suspected of having a ureteral anomaly.<n> 99mtc - diethylene triamine pentaacetic acid ( dtpa ) scan is useful in the evaluation of renal function in patient with known ureteroceles.<n> however, in our case on finding the photopenia in the urinary bladder on 99mtc - dtpa scan, intravesical ureterocele was detected on usg.\n",
            "this study evaluated the impact of vertebral fractures on the quality of life of healthy, community - dwelling women aged 65 years or older using the questionnaire of the european foundation for osteoporosis ( qualeffo ).<n> quality of life was assessed through individual interviews using the validated qualeffo with 41 questions covering five domains : pain, physical functioning, social functioning, general health perception, and mental functioning.<n> radiographs of the lumbar and thoracic spine centered on l2 and t7 were obtained for all participants, with 40 \" between the tube and the film.<n> the identification of vertebral fractures was performed by two individuals with experience in the field of analyzing vertebral fractures.<n> the qualeffo results were compared between women with and without vertebral fractures using the mann - whitney - wilcoxon test for quantitative variables and the chi - square test for qualitative variables.<n> the total qualeffo score was lower in the vertebral fracture group than in the no vertebral fracture group.<n> likewise, the physical function domain score of the qualeffo was worse in the vertebral fracture group compared with the no vertebral fracture group.<n> no difference was observed regarding the other qualeffo domains\n",
            "<n> objective.<n> the purpose of this study is to compare the effectiveness of the explora model i tool with the conventional dilatation and curettage ( d&c ) technique for obtaining adequate endometrial samples that are capable of providing specific and informative histopathologic diagnoses.<n> methods.<n> all endometrial samples received at the histopathology department in king khalid university hospital between january 2007 and december 2010 were included in this study.<n> two hundred seventy - four samples ( 21.6% ) were obtained by conventional d&c in the surgical theater, while the remaining 996 samples ( 78.4% ) were obtained by senior obstetrics and gynecology residents who used a standardized biopsy technique in the outpatient procedure rooms. results. of the 1270 endometrial samples obtained, 253 samples ( 19.9% ) were scored as inadequate. of these samples, the explora sampler was used to collect 224 samples ( 88.5% ), whereas 29 samples ( 11.5% ) were obtained by d&c.<n> thus, the insufficient tissue percentage was higher with the explora ( 17.6% ) than with d&c ( 2.2% ), which was a statistically significant difference ( p\n",
            "it is widely accepted that around the onset of the miocene ( 23 ma ) a mega - wetland ( pebas system, also called lake pebas ) developed in western amazonia due to the subsiding subandean foreland.<n> the modern amazon system became established during the early pliocene. beside the vast size of amazonia and the still fragmentary regional coverage with field surveys, there are considerable inconsistencies in palaeoenvironmental reconstructions and, in particular, in the chronology and correlation of scattered outcrops.<n> the present paper aims to contribute basic sedimentological data from a barely studied region ( eirunep, 2.000 km sw manaus ), which is supposed to be placed at the south - eastern margin of the pebas system.<n> we demonstrate that there is no evidence for a long - lived lake ( sensu gorthner, 1994 ) or any marine influx.<n> conversely, we document a well - structured, aggrading fluvial system of late miocene age, which is in agreement with the sedimentation model and chronology proposed by latrubesse et al. the studied sections are located along the juru and tarauac river \n",
            "<n> objective. to evaluate clinical characteristics and functional status of patients with incidental adrenal enlargement and to analyze risk factors for functional lesions. methods.<n> this retrospective study included 578 patients with adrenal imaging features showing adrenal enlargement who were hospitalized at the department of endocrinology in pla general hospital ( beijing, china ) between january 1993 and july 2013.<n> data retrieved included patient demographics, final functional diagnosis, adrenal imaging features, and concomitant diseases.<n> patients with diseases known to cause adrenal enlargement, such as known endocrine disorders which could affect adrenal size, trauma, and underlying malignancy, were excluded. among all enrolled patients, 78 presented with incidental adrenal enlargement.<n> patients with elevated 24-hour urine - free cortisol level ( 2 times ) or those in whom plasma cortisol levels did not decrease after an overnight low - dose dexamethasone test ( 1 mg dst ; cutoff 50 patients with an aldosterone - rennin ratio ( arr ) > 20 ) underwent any 1 of 3 confirmatory tests ( saline infusion, captopril challenge, or postural stimulation ) to confirm or exclude definitively primary hyperaldosteronism ( pa ) \n",
            "background : the lack of health literacy in families can lead to undesirable health outcomes. in this study, we try to raise families health knowledge about infectious diseases by a method that uses children as health agents.methods:at first, a specialist in pediatric infectious diseases provides seven short texts about health and common pediatric infectious diseases prevention.<n> then, a poet transfers these conceptions to childish poems for the first time. in the process of preparing an accurate questionnaire, at first 30 questions with three choices of false and do not know were made, but 24 items of those are confirmed as valid questions by two experts of health education and infectious diseases. to assess the reliability of the questionnaire a pilot study on a 40 participant sample was performed and cronbach's alpha of the questionnaire was determined as 83 percent. in addition, we defined knowledge mark ( km ) as a parent mark in both the pre - test and/or post - test.findings:the results of the survey show a significant difference between the correct answers in both pre - test and post - test stages.<n> the mean km shows a significant increase ( 5.01 ) from 13.62 in the pre - test to 18.63 in the post\n",
            "septic arthritis of the shoulder may not present with classical clinical features. hence, a through clinical and radiological evaluation will help us prognosticate and treat accordingly preventing complications like septic shock, osteomyelitis.<n> we report an unusual presentation of shoulder septic arthritis in a 43 years old man with no other clinical signs and symptoms of classical septic arthritis.\n",
            "split - liver transplantation ( slt ) is an attractive alternative procedure to expand the donor pool in patients waiting for liver transplantation.<n> biliary complications continue to be the major cause of morbidity after slt with a reported high incidence ranging between 10% and 32%. as a consequence of bile duct anatomic variations, slt requires a precise knowledge of the liver anatomy. in this report<n> we describe an uncommon late biliary complication that occurred after slt and was successfully treated by a multidisciplinary approach. a 63-year - old male with hepatitis c - related cirrhosis was referred to our institution.<n> we performed a conventional a / p slt with in situ technique providing the left lateral segment for a child ( segments ii - iii ) and leaving the right lobe graft ( segment i - iv - v - vi - vii - viii ) for an adult recipient.<n> one year after the procedure the patient showed abnormal liver function tests, hyperbilirubinemia, leukocytosis, and elevated g - glutamyl transpeptidase ( ggt ), and mild elevation in alanine transaminase ( alt ).<n> the patient underwent a doppler ultrasound that showed ( a patent\n",
            "ribonucleotide reductase ( rr ) inhibitors have been studied as radiation sensitizers for over 30 years in both the lab and the clinic. the first of these, hydroxyurea, has been studied in both cervical and head and neck cancers, among others. although initially promising, many of the clinical trials produced negative results, or those that were difficult to interpret. there has recently been a significant advance in our understanding of this pathway from a number of well - done pre - clinical studies. in addition, the discovery of new rr inhibitors with increased potency and improved binding characteristics has produced a significant increase in interest in this area. this review will synthesize the data detailing the response of rr to ionizing radiation ( ir ) and will provide a perspective on the use of rr inhibitors as radiosensitizers in the treatment of human cancers.\n",
            "the study of long bones and the cells of the bone marrow is central to a myriad of research disciplines, including, but not limited to, bone biology, cancer biology, hematology, and biomechanics. the bone is a highly dynamic organ that together with the cartilage forms the skeleton to provide mechanical support against loading and protection of the internal organs. finally, bones house the bone marrow and, together with metabolically active bone forming osteoblasts and bone resorbing osteoclasts, provide the stem cell niche necessary for the maintenance of hematopoietic and lymphoid cell populations. bone and bone marrow are affected in many disorders, often leading to bone marrow dysfunction, severe bone pain, and pathologic fracture.<n> hematopoietic malignancies including myeloma and leukemia are characterized by bone marrow dysfunction as well as deregulation of healthy bone remodeling. other non - malignant skeletal disorders are also active areas of research, such as osteoarthritis, osteoporosis, and rickets. finally, bones house the bone marrow and, together with metabolically active bone forming osteoblasts and bone resorbing osteoclasts, provide the stem cell niche necessary for the maintenance of hematopoietic and lymphoid cell\n",
            "tuberculosis is a major health issue in developing countries with over two billion people being infected with tuberculosis bacilli world wide.<n> although tuberculosis was recently regarded primarily as a disease of the developing countries it is now also on the increase in developed countries such as the united kingdom, mainly as a result of globalisation as well as an increase in immunosuppressed patients.<n> figures by the health protection agency ( hpa ) show that the cases of tb in the uk increased by 5.5% in 2009 when compared to those in 2008.<n> this case report describes an unusual presentation of tuberculosis of the ulnar head in a young woman.\n",
            "the value of the ketogenic diet ( kd ) has been recognized in the treatment of epilepsy, although the exact mechanisms by which it exerts its effect remain an enigma. they seem to be different from those of regular antiepileptic medications ( aeds ), and discovering what they are may lead to its use in clinical situations other than epilepsy as well. the kd is comprised of four elements, the changes of any of them can potentially lead to losing its anticonvulsant effect : ( 1 ) increased amount of fat, usually in a ratio of 3 to 4 grams of fat for each gram of protein and carbohydrates, ( 2 ) as low a consumption of glucose as possible, ( 3 ) caloric restriction, and ( 4 ) fluid restriction. although there is some debate about the last component, clinical practice has shown that stopping fluid restriction can lead to seizure recurrence much in the same way as when stopping glucose restriction. the most important result of observing the diet is the increased blood level of free fatty acids ( ffas ).<n> the ffas are transferred into the mitochondria, a process which requires the presence of an appropriate amount of utyrate \n",
            "abstractthe purpose of this study was to determine whether surface anatomical landmarks can be used to predict the mid - tracheal level in adult patients.<n> neck computed tomography ( ct ) images of adults obtained between 2009 and 2014 were reviewed by a single reviewer. levels of subglottic and tracheal airway segments that include the vocal cords ( vc ), the cricoid cartilage ( cc ), and the carina were identified using the method described by sirisopana et al.<n> the distances between the subglottic structures at the levels of the vc, the cc, the suprasternal notch ( ssn ), and the manubriosternal junction ( msj ) were measured.<n> tracheal length was calculated as the summation of the distances measured from the vc to the carina. the mid - tracheal level, which is considered the optimal depth of ett,<n> was calculated from tracheal length and the mid - tracheal level was matched to the mid - tracheal level ( mtl ), which was calculated from the tracheal length.<n> the correlation between age, height, and\n",
            "this paper examines the social and ethical meanings that are emerging for the practices associated with embryo donation.<n> three linked qualitative studies of embryo donation were conducted in the united kingdom, switzerland, and china. using an interpretative approach, we examined the reasons given by participants for opting to donate or not to donate their surplus embryos to research.<n> we also examined the contextual and other factors that influence donor decisions and how these can be related to evaluations of theoretical ethics. across the three studies, the commonest rationale for opting to donate was a willingness to contribute to potentially curative medical research.<n> reasons for not donating were more generally related to ethical concerns about thegilling of human embryos, ethical considerations about the ethics of using human embryos for research, and a concern about theconvenience of doing so.<n> we argue that the lack of a clear understanding of donors motives for opting to donate and of the contextual factors that influence their decisions raises questions about the moral adequacy of embryo donation.\n",
            "medullary thyroid cancer ( mtc ) is the most common endocrine neoplasia.<n> mtc originates from calcitonin - producing cells ( c - cells ) of the thyroid gland and accounts for 35% of thyroid cancers.<n> mtc diagnosed during childhood almost always results from a dominantly inherited or de novo activating mutations in the ret proto - oncogene, which encodes the ret receptor tyrosine kinase. advances in predictive genetic testing for ret mutations have enabled early diagnosis of hereditary men syndromes and prophylactic thyroidectomy in presymptomatic patients to prevent mtc.<n> the early onset of mtc in hereditary syndromes makes it an important endocrine disease that is increasingly managed by pediatric providers. in this review, we discuss the etiology of pediatric mtc and currently available therapeutic modality for the cancer.\n",
            "image - guided neurosurgery devices allow the use of coregistered and fused multimodality 3d images to guide the surgeon's hand and help define preoperatively the boundaries of pathological and predefined functional structures. however, most of the mechanical conditions of the brain can not be estimated in the operating room, such as the volume of cerebrospinal fluid flowing out of the skull cavity, intercellular fluid volume changes that result from mannitol injection, or changes in blood volume and vessel permeability. to date, several useful imaging modalities, such as intraoperative mr ( imr ) images, are with the exception of a handful surgical facilities usually acquired using low - field mri scanners that provide lower resolution and contrast than their preoperative counterparts, and, to this date, several useful imaging modalities, such as pet and possibly meg, can not be acquired intraoperatively.<n> one solution is to bring over the high - quality preoperative multimodality images into the intraoperative configuration of the brain using a nonrigid registration technique.<n> one category of nonrigid registration techniques uses physics - based models, where landmarks are tracked in successive reduced - quality intraoperative images, and their displacement fields drive the deformation of a biomechanical model.\n",
            "increased fat consumption by the western diet has been associated with the development of cancer.<n> omega-3 polyunsaturated fatty acids ( n-3 pufa ) show to have multiple beneficial anti - tumor actions that affect the essential alterations that dictate malignant growth in a number of studies.<n> epidemiological studies suggest that a high n-3 pufa to n-6 pufa ratio may be the optimal strategy to decrease breast cancer risk.<n> epidemiological studies about the association of dietary fat and cancer suggest a protective effect of n-3 pufa in oesophageal adenocarcinogenesis and neoplastic progression.<n> the purpose of this review is to discuss the potential role of n-3 pufa in gastrointestinal ( gi ) cancer development.<n> we believe that increased consumption of n-3 pufa may lower the risk of gi cancer development via various chemopreventive activities.<n> future studies should include combination treatment of n-3 pufa and nutrients with different and complementary mechanisms of chemopreventive action.\n",
            "background : disorders of sexual development ( dsd ) are a heterogeneous group of conditions characterized by abnormal sexual development leading to ambiguous genitalia. in 46 xy dsd, disorders of gonadal development and disorders of androgen synthesis are the main causes of this condition.aim:to analyze the clinical and biochemical profile of patients with 46xy dsd.materials and methods : this is an ambispective study where all new and old follow - up patients diagnosed with 46xy dsd, being managed at endocrine opd in a period of 16 months ( june 2014october 2015 ) were included.<n> abdominopelvic ultrasound was done for the localization of gonads.<n> hormonal measurements included serum luteinizing hormone, follicle - stimulating hormone, testosterone, androstenedione ( a ), cortisol, dehydroepiandrostenedione, and plasma adrenocorticotropic hormone levels by electrochemiluminescence immunoassay using commercial kits. external masculinization score ( ems )<n> was calculated based on the external genitalia of patients.<n> abdominopelvic ultrasound was done for the localization of gonads ( magnetic resonance\n",
            "introductionurinary tract infection ( uti ) is a frequent cause of morbidity both in the community and in the hospital setting.<n> recent studies have reported the increasing prevalence of methicillin - resistant staphylococcus aureus ( mrsa ) in utis.<n> methicillin - resistant staphylococcus aureus is widespread in many irish hospitals and is increasingly seen in community health care units such as nursing homes.<n> bacteriuria with staphylococcus aureus is hypothesized to occur through a number of mechanisms that include catheterization, urologic procedures, or seeding of the genitourinary tract including nephrologically excreted bacteria in overt bacteremia.methodswe assessed the source, patient demographics, and antimicrobial susceptibilities of mrsa - positive isolates from the hospital and community setting over a 5-year period in university hospital waterford a tertiary referral hospital with the primary microbiology laboratory for 4 acute hospitals, serving a total catchment area of almost 500,000 people.resultsover the 5-year study period, the laboratory cultured 425,013 urine samples from all sources.<n> a total of 542 unique urine isolates cultured sa and 151 of species ( 27.9% ) were methicillin resistant, meaning that 0.04%\n",
            "acquired angioedema ( aae ), an acquired deficiency of c1esterase inhibitor, can cause severe abdominal pain mimicking an acute surgical abdomen.<n> this disorder is strongly associated with chronic lymphocytic leukemia ( cll ) and other indolent lymphoplasmacytic disorders.<n> we describe a patient with known cll who developed incapacitating, recurrent severe abdominal pains, culminating in partial bowel resection. wider appreciation of the possibility of aae, particularly in patients with lymphoproliferative disorders, could lead to preventive therapy and spare unnecessary surgery.\n",
            "background : lateral clavicle fractures associated with partial and complete coracoclavicular ligament disruption are potentially unstable and non - operative treatment is associated with a high non - union rate.<n> the purpose of this study was ( 1 ) to analyze the overall and comparative clinico - radiological outcomes of surgical treatment of distal clavicle fractures associated with complete coracoclavicular ligament disruption, and ( 2 ) to identify and analyze radiographic patterns of fracture and comminution that are associated with this injury.materials and methods : the hospital records of all patients who were surgically treated for lateral clavicle fractures between 2005 and 2008 were retrospectively evaluated to identify the study group.<n> ten patients were operated using a joint - spanning implant ( group 1 ) and 5 were operated using a joint - sparing implant technique ( group 2 ).<n> the follow - up clinical protocol included a subjective evaluation of pain and functional status by interview, evaluation of active and passive range of motion by clinical examination, and evaluation of muscle strength in elevation and external rotation using a portable dynamometer.results:the average age of the patients in the study group was 34.5 years ( range, 20 to 57 years ).<n> the mechanism of injury was a direct impact to the\n",
            "a 68-year - old woman with polycythemia vera visited the clinic complaining of pain, swelling, and a warm sensation in her left thigh over 2 days prior to her visit.<n> she had undergone a left bipolar hemiarthroplasty following a hip fracture 24 days prior to the current visit and was wearing compression stockings to prevent the occurrence of a deep vein thrombosis.<n> results of a blood test showed that her complete blood count, electrolyte levels, and liver function were all within normal ranges.<n> acute or sub - acute inflammation was diagnosed given the perfusion image of soft tissue in the left hip area as well as the blood pool image.<n> the patient was injected intravenously with antibiotics for 1 week while staying in the hospital, however, symptoms were not alleviated. in order to prevent a deep vein thrombosis,<n> a color doppler ultrasonography was performed due to her history of polycythemia vera.<n> results revealed a deep vein thrombosis in the common femoral vein as well as in the superficial femoral vein.<n> symptoms were alleviated following the administration of low - molecular - weight heparin ( enoxaparin, 40 mg ) and warfarin ( 5 mg ) for 5\n",
            "<n> background.<n> robot - assisted surgery has revealed new perspectives in peripheral nerve microsurgery. to evaluate the advantages and the restrictions of the technique, a cadaveric study of supraclavicular and axillary approaches was conducted.<n> we found that the axillary approach was useful and advantageous for lower roots, particularly for thoracic outlet syndrome ( tos ).<n> methods. a human cadaver was subjected to this experiment in paris university ecole europenne de chirurgie anatomy laboratory, and da vinci surgical robot system was used.<n> a 6 cm long incision was made at the right axillar line, lateral to the edge of the pectoralis major muscle. the robot was docked as a camera ; right and left robotic arm were adapted in the incision area.<n> results.<n> lower brachial plexus exposure was easier from the axillary working area.<n> a more wide range of motion was achieved to manipulate the robotic tools compared to the supraclavicular exposure for lower part of the brachial plexus.<n> conclusion.<n> this report presents our initial experience with robot - assisted axillary exposure of the brachial plexus region. in our opinion\n",
            "background : the present study aimed to explore the concept of spirituality from the perspective of iranian healthy elderly people.materials and methods : in this research, a qualitative approach was adopted using conventional content analysis of unstructured interviews carried out with 17 healthy elderly people in tehran in 2010 - 2011.<n> the first researcher communicated with each of the participants to describe the purpose of research and research questions.<n> the participants were asked to describe one day of their life and then to explain their own experiences and perceptions about spirituality in their life.<n> data were collected and analyzed over a six - month period using conventional content analysis of unstructured interviews.results:three main categories emerged from the data and 3 - 4 distinctive subcategories within each category were identified.<n> one of the main categories that emerged from data analysis was spiritual health. four subcategories ; saying prayer as a calming factor, beneficence as a way to god, loss of psychological and spiritual support, and faith, a way to happiness, emerged from the participants experiences.conclusions:the findings of the present study provide sufficient descriptive data for researchers to criticize whether the findings were transferable that established applicability.\n",
            "the aim of this prospective study was to characterize stasis filling phenomenon in the diagnosis of brain death ( bd ). to achieve this, we performed a dynamic evaluation of contrast enhancement of the cerebral and extracranial arteries in patients with bd and control subjects with the use of the 40-s series of computed tomographic perfusion ( ctp ) scans. we also confronted stasis filling pattern with ctp findings to assess the relevance of this phenomenon to brain perfusion.<n> we examined 30 patients who fulfilled clinical bd criteria according to the national regulations.<n> thirty - seven subjects were excluded due to lack of contrast enhancement in the intracranial arteries in ctp series. finally, 30 ( 44.8 % ) patients, in whom analysis of ctp series enabled us to identify contrast - enhanced intracranial arteries, were enrolled in the study.<n> the population consisted of 18 men and 12 women with a median age of 54.5 years ( range, 2284 years ).<n> initial causes of coma were intracerebral hemorrhage ( n = 16 ), subarachnoid hemorrhage ( n = 11 ), cerebral edema ( n = 2 ), and ischemic stroke\n",
            "gastric cancer is the second most frequent neoplasm of the alimentary tract after the large intestine.<n> the case - to - death ratio of around 1 indicates unfavourable prognosis as to recovery from this disease.<n> this poor result is determined by the fact that it is rarely ( only in around 8% ) detected in the form of early gastric cancer, in the mildly symptomatic or asymptomatic phase. in most patients it is diagnosed at a higher degree than the 1st degree of disease progression and its classic symptoms are weight loss, continuous and dull pain in the epigastrium, loss of appetite, nausea, vomiting and chronic bleeding. the existence of gastric cancer metastasis to the ureter has been described twice in the literature to date. a female patient, age 67, was diagnosed at the district hospital ( 22.04 - 30.04.2010 ) because of intensified symptoms of left - sided renal colic.<n> based on the conducted usg and single - phase computed tomography tests of the abdominal cavity and the pelvis, dilation of the ureter was found because of its infiltration by a pathological focus. another lesion was located nearby at the level of the left iliac muscle 30 mm 27 mm 20 mm, adhering to the sig\n",
            "eosinophilic gastritis is an extremely rare disease that is characterized by eosinophilic infiltration of the various layers of the gastrointestinal tract in the absence of any definite causes of eosinophilia.<n> patients with eosinophilic gastritis have diverse symptoms, including abdominal pain, emesis, abdominal distension, and weight loss.<n> these symptoms are associated with eosinophilic infiltration of the various layers of the gastrointestinal tract.<n> the diagnosis of eosinophilic gastritis is based on the following criteria : the presence of gastrointestinal symptoms, histological presentation of eosinophilic infiltration in tissue layers of the digestive tract, presence of high eosinophil count in ascites, and no evidence of parasitic infection or eosinophilic involvement of extraintestinal organs. here<n>, we report a case of eosinophilic gastritis presenting as necrotizing gastritis.\n",
            "caspase-14 is a unique member of the caspase family. unlike apoptotic caspases, which evolved in common ancestors such as hydra, echinodermata, insects, nematodes, and chordates, caspase-14 has so far been found only in terrestrial mammals. in contrast to the ubiquitously expressed other members of the caspase family, caspase-14 is expressed and activated mainly in the epidermis and is absent from most other adult tissues.<n> recently, caspase-14 was found to be involved in epidermal barrier formation. in this review,<n> we discuss current knowledge of the expression, regulation, and function of caspase-14.\n",
            "a 60-year - old female patient was referred with an unexpected detection of an intrapelvic tumor during a routine computed tomography ( ct ) scan. the patient's medical history included a hysterectomy and a left side ovariectomy at the age of 27.<n> the ct scan revealed a 45 mm tumor in the patient's pelvis, which was diagnosed as a gastrointestinal stromal tumor, a chronic expanding hematoma or leiomyoma. a forward - view endoscopic ultrasound ( eus ) identified a low echoic lesion when scanned from the sigmoid colon. after a ct scan had revealed information leading to an inaccurate diagnosis, an accurate diagnosis of gossypiboma was successfully made using endoscopic ultrasound - fine - needle aspiration ( eus - fna ).<n> this is the first known case report diagnosing gossypiboma by eus - fna.\n",
            "purposeto demonstrate the usefulness of enhanced depth imaging optical coherence tomography ( edi - oct ) in investigating choroidal lesions inaccessible to ultrasound sonography.methodsin a 60-year - old woman with an asymptomatic choroidal nevus, normal oct was used to observe the macula and edi - oct to image the choroidal nevus that was inaccessible to ultrasound. the exact location of the lesion in the choroid and the dimensions of the nevus were measured.resultsthe lesion was located in the superior macula, and the nevus was homogeneous in its reflectivity. we observed a thickened choroid delineated by the shadow cone behind it, measuring 1,376 325 m in the larger vertical cut and 1,220 325 m in the larger horizontal cut in an image with a 1:1 pixel mapping and automatic zoom.\n",
            "the keap1-nuclear factor e2-related factor 2 ( nrf2 ) pathway protects normal cells from oxidative stress and carcinogenesis.<n> nrf2 is an essential transcription factor for antioxidant and detoxification genes and is crucial for the chemopreventive effect of various phytochemicals.<n> representative chemopreventive agents that induce nrf2 include carotenoids, curcumins, cyclic lactones, diterpenes, dithiolethiones, epithionitriles, flavonoids, indoles, isothiocyanates, organosulfides, and phenols. accumulating evidences have demonstrated that phytochemicals can protect cells from oxidative stress related diseases including inflammatory, cardiovascular, and neurodegenerative diseases and cancer, through nrf2-dependent responses. paradoxically, recent researches demonstrated the dark side of nrf2.4 cancer cells acquire a growth advantage by eliminating keap1-mediated negative control of nrf2, which leads to activation of the nrf2-dependent defense response.<n> constitutive upregulation of nrf2 has been found in many types of cancers, including skin, breast, prostate, lung, head and neck, and endometrial\n",
            "rhabdomyolysis results from skeletal muscle breakdown due to various causes. viral myositis, trauma, and inherited disorders are the most common causes in the pediatric age group.<n> the diagnosis is based on the high creatine kinase level, which is the most sensitive marker.<n> the mainstay for the prevention and treatment of acute kidney injury is early and aggressive volume resuscitation. in severe cases or in our case,<n> the child developed extremely high creatine kinase levels that were not reported in the literature.\n",
            "purposeto study the feasibility, safety, efficacy, and reproducibility of cryopreserved refractive lenticules for treatment of hyperopia.methods lenticules were extracted from healthy eyes with spherical refractive error ranging from 0.5 d to 10.00 d. the cryopreserved lenticules ( which were matched for the refractive error after correcting for back vertex distance ) were transferred to a sterile plastic vial containing phosphate - buffered solution for processing and cryopreservation.<n> two types of solutions ( washing solution and cryopreservation solution ) were prepared. a washing solution comprised 10 ml of phosphate - buffered saline ( 1 ), 200 l of penicillin streptomycin ( 100 ), and 200 l of amphotericin b ( 100 ).<n> the culture media contained 10% human tissue culture medium and 20% dimethyl sulfoxide ( dmso ). using a liquid dropper, a stock freezing solution containing 10% human tissue culture medium and 20% dmso ( sigma - aldrich, st louis, mo ) was added slowly to make a final volume of 1 ml freezing solution containing 10% human tissue culture medium and 10% dmso.<n> the vials containing frozen lenticules were transferred into canisters and frozen in\n"
          ],
          "name": "stdout"
        }
      ]
    },
    {
      "cell_type": "markdown",
      "metadata": {
        "id": "fxtGDAG7HdS-"
      },
      "source": [
        "The only thing left to do is to evaluate our predictions now by making use of the *rouge* metric. Now, we can compute the rouge score on all predicted *abstracts*."
      ]
    },
    {
      "cell_type": "code",
      "metadata": {
        "id": "yExOJ_bdp1o5"
      },
      "source": [
        "rouge.compute(predictions=result_filtered[\"predicted_abstract\"], references=result[\"abstract\"])"
      ],
      "execution_count": null,
      "outputs": []
    },
    {
      "cell_type": "markdown",
      "metadata": {
        "id": "b7OG8vmdH1VI"
      },
      "source": [
        "For our 600 samples, we get a *Rouge-2* score of **19.6** 🔥🔥🔥."
      ]
    },
    {
      "cell_type": "markdown",
      "metadata": {
        "id": "Erb52w1sRwbz"
      },
      "source": [
        "In case you want to evaluate [`google/bigbird-pegasus-large-arxiv`](https://huggingface.co/google/bigbird-pegasus-large-pubmed) on `arxiv` dataset from [`scientific_papers`](https://huggingface.co/datasets/scientific_papers), you can just change the `DATASET_NAME` to `arxiv` in the cell above."
      ]
    },
    {
      "cell_type": "code",
      "metadata": {
        "id": "z_sQRHDFvV7H"
      },
      "source": [
        ""
      ],
      "execution_count": null,
      "outputs": []
    }
  ]
}