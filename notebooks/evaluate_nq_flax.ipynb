{
  "nbformat": 4,
  "nbformat_minor": 0,
  "metadata": {
    "colab": {
      "name": "evaluate_nq.ipynb",
      "provenance": [],
      "collapsed_sections": [],
      "include_colab_link": true
    },
    "kernelspec": {
      "name": "python3",
      "display_name": "Python 3"
    },
    "language_info": {
      "name": "python"
    },
    "widgets": {
      "application/vnd.jupyter.widget-state+json": {
        "0f04980be0644c06913d63ffd8a82958": {
          "model_module": "@jupyter-widgets/controls",
          "model_name": "HBoxModel",
          "state": {
            "_view_name": "HBoxView",
            "_dom_classes": [],
            "_model_name": "HBoxModel",
            "_view_module": "@jupyter-widgets/controls",
            "_model_module_version": "1.5.0",
            "_view_count": null,
            "_view_module_version": "1.5.0",
            "box_style": "",
            "layout": "IPY_MODEL_8808952b5160432cbbbfb15ff852ffd2",
            "_model_module": "@jupyter-widgets/controls",
            "children": [
              "IPY_MODEL_9c5014cd63324c6aaad7b0f61c8db844",
              "IPY_MODEL_f2c83515bf8a4daebf882b2b518f7bcd"
            ]
          }
        },
        "8808952b5160432cbbbfb15ff852ffd2": {
          "model_module": "@jupyter-widgets/base",
          "model_name": "LayoutModel",
          "state": {
            "_view_name": "LayoutView",
            "grid_template_rows": null,
            "right": null,
            "justify_content": null,
            "_view_module": "@jupyter-widgets/base",
            "overflow": null,
            "_model_module_version": "1.2.0",
            "_view_count": null,
            "flex_flow": null,
            "width": null,
            "min_width": null,
            "border": null,
            "align_items": null,
            "bottom": null,
            "_model_module": "@jupyter-widgets/base",
            "top": null,
            "grid_column": null,
            "overflow_y": null,
            "overflow_x": null,
            "grid_auto_flow": null,
            "grid_area": null,
            "grid_template_columns": null,
            "flex": null,
            "_model_name": "LayoutModel",
            "justify_items": null,
            "grid_row": null,
            "max_height": null,
            "align_content": null,
            "visibility": null,
            "align_self": null,
            "height": null,
            "min_height": null,
            "padding": null,
            "grid_auto_rows": null,
            "grid_gap": null,
            "max_width": null,
            "order": null,
            "_view_module_version": "1.2.0",
            "grid_template_areas": null,
            "object_position": null,
            "object_fit": null,
            "grid_auto_columns": null,
            "margin": null,
            "display": null,
            "left": null
          }
        },
        "9c5014cd63324c6aaad7b0f61c8db844": {
          "model_module": "@jupyter-widgets/controls",
          "model_name": "FloatProgressModel",
          "state": {
            "_view_name": "ProgressView",
            "style": "IPY_MODEL_436c64f5f0304489bd5439b414a9b9f5",
            "_dom_classes": [],
            "description": "100%",
            "_model_name": "FloatProgressModel",
            "bar_style": "success",
            "max": 7830,
            "_view_module": "@jupyter-widgets/controls",
            "_model_module_version": "1.5.0",
            "value": 7830,
            "_view_count": null,
            "_view_module_version": "1.5.0",
            "orientation": "horizontal",
            "min": 0,
            "description_tooltip": null,
            "_model_module": "@jupyter-widgets/controls",
            "layout": "IPY_MODEL_1860832ef0dc42199b71dba386fc1a3c"
          }
        },
        "f2c83515bf8a4daebf882b2b518f7bcd": {
          "model_module": "@jupyter-widgets/controls",
          "model_name": "HTMLModel",
          "state": {
            "_view_name": "HTMLView",
            "style": "IPY_MODEL_ebfdaa4ae19c491583b28a112c6508c9",
            "_dom_classes": [],
            "description": "",
            "_model_name": "HTMLModel",
            "placeholder": "​",
            "_view_module": "@jupyter-widgets/controls",
            "_model_module_version": "1.5.0",
            "value": " 7830/7830 [02:11&lt;00:00, 59.73ex/s]",
            "_view_count": null,
            "_view_module_version": "1.5.0",
            "description_tooltip": null,
            "_model_module": "@jupyter-widgets/controls",
            "layout": "IPY_MODEL_436e6324fafa475aa6df0e3dc4e74d2a"
          }
        },
        "436c64f5f0304489bd5439b414a9b9f5": {
          "model_module": "@jupyter-widgets/controls",
          "model_name": "ProgressStyleModel",
          "state": {
            "_view_name": "StyleView",
            "_model_name": "ProgressStyleModel",
            "description_width": "initial",
            "_view_module": "@jupyter-widgets/base",
            "_model_module_version": "1.5.0",
            "_view_count": null,
            "_view_module_version": "1.2.0",
            "bar_color": null,
            "_model_module": "@jupyter-widgets/controls"
          }
        },
        "1860832ef0dc42199b71dba386fc1a3c": {
          "model_module": "@jupyter-widgets/base",
          "model_name": "LayoutModel",
          "state": {
            "_view_name": "LayoutView",
            "grid_template_rows": null,
            "right": null,
            "justify_content": null,
            "_view_module": "@jupyter-widgets/base",
            "overflow": null,
            "_model_module_version": "1.2.0",
            "_view_count": null,
            "flex_flow": null,
            "width": null,
            "min_width": null,
            "border": null,
            "align_items": null,
            "bottom": null,
            "_model_module": "@jupyter-widgets/base",
            "top": null,
            "grid_column": null,
            "overflow_y": null,
            "overflow_x": null,
            "grid_auto_flow": null,
            "grid_area": null,
            "grid_template_columns": null,
            "flex": null,
            "_model_name": "LayoutModel",
            "justify_items": null,
            "grid_row": null,
            "max_height": null,
            "align_content": null,
            "visibility": null,
            "align_self": null,
            "height": null,
            "min_height": null,
            "padding": null,
            "grid_auto_rows": null,
            "grid_gap": null,
            "max_width": null,
            "order": null,
            "_view_module_version": "1.2.0",
            "grid_template_areas": null,
            "object_position": null,
            "object_fit": null,
            "grid_auto_columns": null,
            "margin": null,
            "display": null,
            "left": null
          }
        },
        "ebfdaa4ae19c491583b28a112c6508c9": {
          "model_module": "@jupyter-widgets/controls",
          "model_name": "DescriptionStyleModel",
          "state": {
            "_view_name": "StyleView",
            "_model_name": "DescriptionStyleModel",
            "description_width": "",
            "_view_module": "@jupyter-widgets/base",
            "_model_module_version": "1.5.0",
            "_view_count": null,
            "_view_module_version": "1.2.0",
            "_model_module": "@jupyter-widgets/controls"
          }
        },
        "436e6324fafa475aa6df0e3dc4e74d2a": {
          "model_module": "@jupyter-widgets/base",
          "model_name": "LayoutModel",
          "state": {
            "_view_name": "LayoutView",
            "grid_template_rows": null,
            "right": null,
            "justify_content": null,
            "_view_module": "@jupyter-widgets/base",
            "overflow": null,
            "_model_module_version": "1.2.0",
            "_view_count": null,
            "flex_flow": null,
            "width": null,
            "min_width": null,
            "border": null,
            "align_items": null,
            "bottom": null,
            "_model_module": "@jupyter-widgets/base",
            "top": null,
            "grid_column": null,
            "overflow_y": null,
            "overflow_x": null,
            "grid_auto_flow": null,
            "grid_area": null,
            "grid_template_columns": null,
            "flex": null,
            "_model_name": "LayoutModel",
            "justify_items": null,
            "grid_row": null,
            "max_height": null,
            "align_content": null,
            "visibility": null,
            "align_self": null,
            "height": null,
            "min_height": null,
            "padding": null,
            "grid_auto_rows": null,
            "grid_gap": null,
            "max_width": null,
            "order": null,
            "_view_module_version": "1.2.0",
            "grid_template_areas": null,
            "object_position": null,
            "object_fit": null,
            "grid_auto_columns": null,
            "margin": null,
            "display": null,
            "left": null
          }
        },
        "51774db0339846a18959029a2fc5d8a3": {
          "model_module": "@jupyter-widgets/controls",
          "model_name": "HBoxModel",
          "state": {
            "_view_name": "HBoxView",
            "_dom_classes": [],
            "_model_name": "HBoxModel",
            "_view_module": "@jupyter-widgets/controls",
            "_model_module_version": "1.5.0",
            "_view_count": null,
            "_view_module_version": "1.5.0",
            "box_style": "",
            "layout": "IPY_MODEL_91703e5a2c2a451892c795a43338ca76",
            "_model_module": "@jupyter-widgets/controls",
            "children": [
              "IPY_MODEL_bbce539035834922bb4b144c4af90fc3",
              "IPY_MODEL_ed23dce3b4f649a98dbfd74522fa13c4"
            ]
          }
        },
        "91703e5a2c2a451892c795a43338ca76": {
          "model_module": "@jupyter-widgets/base",
          "model_name": "LayoutModel",
          "state": {
            "_view_name": "LayoutView",
            "grid_template_rows": null,
            "right": null,
            "justify_content": null,
            "_view_module": "@jupyter-widgets/base",
            "overflow": null,
            "_model_module_version": "1.2.0",
            "_view_count": null,
            "flex_flow": null,
            "width": null,
            "min_width": null,
            "border": null,
            "align_items": null,
            "bottom": null,
            "_model_module": "@jupyter-widgets/base",
            "top": null,
            "grid_column": null,
            "overflow_y": null,
            "overflow_x": null,
            "grid_auto_flow": null,
            "grid_area": null,
            "grid_template_columns": null,
            "flex": null,
            "_model_name": "LayoutModel",
            "justify_items": null,
            "grid_row": null,
            "max_height": null,
            "align_content": null,
            "visibility": null,
            "align_self": null,
            "height": null,
            "min_height": null,
            "padding": null,
            "grid_auto_rows": null,
            "grid_gap": null,
            "max_width": null,
            "order": null,
            "_view_module_version": "1.2.0",
            "grid_template_areas": null,
            "object_position": null,
            "object_fit": null,
            "grid_auto_columns": null,
            "margin": null,
            "display": null,
            "left": null
          }
        },
        "bbce539035834922bb4b144c4af90fc3": {
          "model_module": "@jupyter-widgets/controls",
          "model_name": "FloatProgressModel",
          "state": {
            "_view_name": "ProgressView",
            "style": "IPY_MODEL_d3392f2bdb2448beac4af23058e1ba23",
            "_dom_classes": [],
            "description": "100%",
            "_model_name": "FloatProgressModel",
            "bar_style": "success",
            "max": 8,
            "_view_module": "@jupyter-widgets/controls",
            "_model_module_version": "1.5.0",
            "value": 8,
            "_view_count": null,
            "_view_module_version": "1.5.0",
            "orientation": "horizontal",
            "min": 0,
            "description_tooltip": null,
            "_model_module": "@jupyter-widgets/controls",
            "layout": "IPY_MODEL_caca751167f0439ca15e588c246fad1f"
          }
        },
        "ed23dce3b4f649a98dbfd74522fa13c4": {
          "model_module": "@jupyter-widgets/controls",
          "model_name": "HTMLModel",
          "state": {
            "_view_name": "HTMLView",
            "style": "IPY_MODEL_a294775070aa4a87ae9b8b7b93e9a1ba",
            "_dom_classes": [],
            "description": "",
            "_model_name": "HTMLModel",
            "placeholder": "​",
            "_view_module": "@jupyter-widgets/controls",
            "_model_module_version": "1.5.0",
            "value": " 8/8 [00:27&lt;00:00,  3.46s/ba]",
            "_view_count": null,
            "_view_module_version": "1.5.0",
            "description_tooltip": null,
            "_model_module": "@jupyter-widgets/controls",
            "layout": "IPY_MODEL_f3148c68e5e74927a40a40b9ceab3a56"
          }
        },
        "d3392f2bdb2448beac4af23058e1ba23": {
          "model_module": "@jupyter-widgets/controls",
          "model_name": "ProgressStyleModel",
          "state": {
            "_view_name": "StyleView",
            "_model_name": "ProgressStyleModel",
            "description_width": "initial",
            "_view_module": "@jupyter-widgets/base",
            "_model_module_version": "1.5.0",
            "_view_count": null,
            "_view_module_version": "1.2.0",
            "bar_color": null,
            "_model_module": "@jupyter-widgets/controls"
          }
        },
        "caca751167f0439ca15e588c246fad1f": {
          "model_module": "@jupyter-widgets/base",
          "model_name": "LayoutModel",
          "state": {
            "_view_name": "LayoutView",
            "grid_template_rows": null,
            "right": null,
            "justify_content": null,
            "_view_module": "@jupyter-widgets/base",
            "overflow": null,
            "_model_module_version": "1.2.0",
            "_view_count": null,
            "flex_flow": null,
            "width": null,
            "min_width": null,
            "border": null,
            "align_items": null,
            "bottom": null,
            "_model_module": "@jupyter-widgets/base",
            "top": null,
            "grid_column": null,
            "overflow_y": null,
            "overflow_x": null,
            "grid_auto_flow": null,
            "grid_area": null,
            "grid_template_columns": null,
            "flex": null,
            "_model_name": "LayoutModel",
            "justify_items": null,
            "grid_row": null,
            "max_height": null,
            "align_content": null,
            "visibility": null,
            "align_self": null,
            "height": null,
            "min_height": null,
            "padding": null,
            "grid_auto_rows": null,
            "grid_gap": null,
            "max_width": null,
            "order": null,
            "_view_module_version": "1.2.0",
            "grid_template_areas": null,
            "object_position": null,
            "object_fit": null,
            "grid_auto_columns": null,
            "margin": null,
            "display": null,
            "left": null
          }
        },
        "a294775070aa4a87ae9b8b7b93e9a1ba": {
          "model_module": "@jupyter-widgets/controls",
          "model_name": "DescriptionStyleModel",
          "state": {
            "_view_name": "StyleView",
            "_model_name": "DescriptionStyleModel",
            "description_width": "",
            "_view_module": "@jupyter-widgets/base",
            "_model_module_version": "1.5.0",
            "_view_count": null,
            "_view_module_version": "1.2.0",
            "_model_module": "@jupyter-widgets/controls"
          }
        },
        "f3148c68e5e74927a40a40b9ceab3a56": {
          "model_module": "@jupyter-widgets/base",
          "model_name": "LayoutModel",
          "state": {
            "_view_name": "LayoutView",
            "grid_template_rows": null,
            "right": null,
            "justify_content": null,
            "_view_module": "@jupyter-widgets/base",
            "overflow": null,
            "_model_module_version": "1.2.0",
            "_view_count": null,
            "flex_flow": null,
            "width": null,
            "min_width": null,
            "border": null,
            "align_items": null,
            "bottom": null,
            "_model_module": "@jupyter-widgets/base",
            "top": null,
            "grid_column": null,
            "overflow_y": null,
            "overflow_x": null,
            "grid_auto_flow": null,
            "grid_area": null,
            "grid_template_columns": null,
            "flex": null,
            "_model_name": "LayoutModel",
            "justify_items": null,
            "grid_row": null,
            "max_height": null,
            "align_content": null,
            "visibility": null,
            "align_self": null,
            "height": null,
            "min_height": null,
            "padding": null,
            "grid_auto_rows": null,
            "grid_gap": null,
            "max_width": null,
            "order": null,
            "_view_module_version": "1.2.0",
            "grid_template_areas": null,
            "object_position": null,
            "object_fit": null,
            "grid_auto_columns": null,
            "margin": null,
            "display": null,
            "left": null
          }
        },
        "a3cbdb014db24d179e70949c2fd65e2c": {
          "model_module": "@jupyter-widgets/controls",
          "model_name": "HBoxModel",
          "state": {
            "_view_name": "HBoxView",
            "_dom_classes": [],
            "_model_name": "HBoxModel",
            "_view_module": "@jupyter-widgets/controls",
            "_model_module_version": "1.5.0",
            "_view_count": null,
            "_view_module_version": "1.5.0",
            "box_style": "",
            "layout": "IPY_MODEL_a3ebca42ee5248cd92579a5bf4ce451b",
            "_model_module": "@jupyter-widgets/controls",
            "children": [
              "IPY_MODEL_6575cd28ca534a18bb25653ff40e8e46",
              "IPY_MODEL_489709c7ea434e29ad7fa07cd3020934"
            ]
          }
        },
        "a3ebca42ee5248cd92579a5bf4ce451b": {
          "model_module": "@jupyter-widgets/base",
          "model_name": "LayoutModel",
          "state": {
            "_view_name": "LayoutView",
            "grid_template_rows": null,
            "right": null,
            "justify_content": null,
            "_view_module": "@jupyter-widgets/base",
            "overflow": null,
            "_model_module_version": "1.2.0",
            "_view_count": null,
            "flex_flow": null,
            "width": null,
            "min_width": null,
            "border": null,
            "align_items": null,
            "bottom": null,
            "_model_module": "@jupyter-widgets/base",
            "top": null,
            "grid_column": null,
            "overflow_y": null,
            "overflow_x": null,
            "grid_auto_flow": null,
            "grid_area": null,
            "grid_template_columns": null,
            "flex": null,
            "_model_name": "LayoutModel",
            "justify_items": null,
            "grid_row": null,
            "max_height": null,
            "align_content": null,
            "visibility": null,
            "align_self": null,
            "height": null,
            "min_height": null,
            "padding": null,
            "grid_auto_rows": null,
            "grid_gap": null,
            "max_width": null,
            "order": null,
            "_view_module_version": "1.2.0",
            "grid_template_areas": null,
            "object_position": null,
            "object_fit": null,
            "grid_auto_columns": null,
            "margin": null,
            "display": null,
            "left": null
          }
        },
        "6575cd28ca534a18bb25653ff40e8e46": {
          "model_module": "@jupyter-widgets/controls",
          "model_name": "FloatProgressModel",
          "state": {
            "_view_name": "ProgressView",
            "style": "IPY_MODEL_2805d59ab32c4959868356dc3b339eb1",
            "_dom_classes": [],
            "description": "100%",
            "_model_name": "FloatProgressModel",
            "bar_style": "success",
            "max": 3,
            "_view_module": "@jupyter-widgets/controls",
            "_model_module_version": "1.5.0",
            "value": 3,
            "_view_count": null,
            "_view_module_version": "1.5.0",
            "orientation": "horizontal",
            "min": 0,
            "description_tooltip": null,
            "_model_module": "@jupyter-widgets/controls",
            "layout": "IPY_MODEL_5070346163664da283fe1cb478a359f4"
          }
        },
        "489709c7ea434e29ad7fa07cd3020934": {
          "model_module": "@jupyter-widgets/controls",
          "model_name": "HTMLModel",
          "state": {
            "_view_name": "HTMLView",
            "style": "IPY_MODEL_ba7ad814931640a0bac0aa0da6934ccc",
            "_dom_classes": [],
            "description": "",
            "_model_name": "HTMLModel",
            "placeholder": "​",
            "_view_module": "@jupyter-widgets/controls",
            "_model_module_version": "1.5.0",
            "value": " 3/3 [00:26&lt;00:00,  8.97s/ba]",
            "_view_count": null,
            "_view_module_version": "1.5.0",
            "description_tooltip": null,
            "_model_module": "@jupyter-widgets/controls",
            "layout": "IPY_MODEL_fc75f5ac6df241d3bc5dc632080401ff"
          }
        },
        "2805d59ab32c4959868356dc3b339eb1": {
          "model_module": "@jupyter-widgets/controls",
          "model_name": "ProgressStyleModel",
          "state": {
            "_view_name": "StyleView",
            "_model_name": "ProgressStyleModel",
            "description_width": "initial",
            "_view_module": "@jupyter-widgets/base",
            "_model_module_version": "1.5.0",
            "_view_count": null,
            "_view_module_version": "1.2.0",
            "bar_color": null,
            "_model_module": "@jupyter-widgets/controls"
          }
        },
        "5070346163664da283fe1cb478a359f4": {
          "model_module": "@jupyter-widgets/base",
          "model_name": "LayoutModel",
          "state": {
            "_view_name": "LayoutView",
            "grid_template_rows": null,
            "right": null,
            "justify_content": null,
            "_view_module": "@jupyter-widgets/base",
            "overflow": null,
            "_model_module_version": "1.2.0",
            "_view_count": null,
            "flex_flow": null,
            "width": null,
            "min_width": null,
            "border": null,
            "align_items": null,
            "bottom": null,
            "_model_module": "@jupyter-widgets/base",
            "top": null,
            "grid_column": null,
            "overflow_y": null,
            "overflow_x": null,
            "grid_auto_flow": null,
            "grid_area": null,
            "grid_template_columns": null,
            "flex": null,
            "_model_name": "LayoutModel",
            "justify_items": null,
            "grid_row": null,
            "max_height": null,
            "align_content": null,
            "visibility": null,
            "align_self": null,
            "height": null,
            "min_height": null,
            "padding": null,
            "grid_auto_rows": null,
            "grid_gap": null,
            "max_width": null,
            "order": null,
            "_view_module_version": "1.2.0",
            "grid_template_areas": null,
            "object_position": null,
            "object_fit": null,
            "grid_auto_columns": null,
            "margin": null,
            "display": null,
            "left": null
          }
        },
        "ba7ad814931640a0bac0aa0da6934ccc": {
          "model_module": "@jupyter-widgets/controls",
          "model_name": "DescriptionStyleModel",
          "state": {
            "_view_name": "StyleView",
            "_model_name": "DescriptionStyleModel",
            "description_width": "",
            "_view_module": "@jupyter-widgets/base",
            "_model_module_version": "1.5.0",
            "_view_count": null,
            "_view_module_version": "1.2.0",
            "_model_module": "@jupyter-widgets/controls"
          }
        },
        "fc75f5ac6df241d3bc5dc632080401ff": {
          "model_module": "@jupyter-widgets/base",
          "model_name": "LayoutModel",
          "state": {
            "_view_name": "LayoutView",
            "grid_template_rows": null,
            "right": null,
            "justify_content": null,
            "_view_module": "@jupyter-widgets/base",
            "overflow": null,
            "_model_module_version": "1.2.0",
            "_view_count": null,
            "flex_flow": null,
            "width": null,
            "min_width": null,
            "border": null,
            "align_items": null,
            "bottom": null,
            "_model_module": "@jupyter-widgets/base",
            "top": null,
            "grid_column": null,
            "overflow_y": null,
            "overflow_x": null,
            "grid_auto_flow": null,
            "grid_area": null,
            "grid_template_columns": null,
            "flex": null,
            "_model_name": "LayoutModel",
            "justify_items": null,
            "grid_row": null,
            "max_height": null,
            "align_content": null,
            "visibility": null,
            "align_self": null,
            "height": null,
            "min_height": null,
            "padding": null,
            "grid_auto_rows": null,
            "grid_gap": null,
            "max_width": null,
            "order": null,
            "_view_module_version": "1.2.0",
            "grid_template_areas": null,
            "object_position": null,
            "object_fit": null,
            "grid_auto_columns": null,
            "margin": null,
            "display": null,
            "left": null
          }
        },
        "d98d3e9cbd284dad81a316bea751210c": {
          "model_module": "@jupyter-widgets/controls",
          "model_name": "HBoxModel",
          "state": {
            "_view_name": "HBoxView",
            "_dom_classes": [],
            "_model_name": "HBoxModel",
            "_view_module": "@jupyter-widgets/controls",
            "_model_module_version": "1.5.0",
            "_view_count": null,
            "_view_module_version": "1.5.0",
            "box_style": "",
            "layout": "IPY_MODEL_d560bef304e342f398b94de5a44966da",
            "_model_module": "@jupyter-widgets/controls",
            "children": [
              "IPY_MODEL_e9b50bcb17c84eab8fdb76a5e4fce223",
              "IPY_MODEL_d64928b78e4743939fa517fc3d926587"
            ]
          }
        },
        "d560bef304e342f398b94de5a44966da": {
          "model_module": "@jupyter-widgets/base",
          "model_name": "LayoutModel",
          "state": {
            "_view_name": "LayoutView",
            "grid_template_rows": null,
            "right": null,
            "justify_content": null,
            "_view_module": "@jupyter-widgets/base",
            "overflow": null,
            "_model_module_version": "1.2.0",
            "_view_count": null,
            "flex_flow": null,
            "width": null,
            "min_width": null,
            "border": null,
            "align_items": null,
            "bottom": null,
            "_model_module": "@jupyter-widgets/base",
            "top": null,
            "grid_column": null,
            "overflow_y": null,
            "overflow_x": null,
            "grid_auto_flow": null,
            "grid_area": null,
            "grid_template_columns": null,
            "flex": null,
            "_model_name": "LayoutModel",
            "justify_items": null,
            "grid_row": null,
            "max_height": null,
            "align_content": null,
            "visibility": null,
            "align_self": null,
            "height": null,
            "min_height": null,
            "padding": null,
            "grid_auto_rows": null,
            "grid_gap": null,
            "max_width": null,
            "order": null,
            "_view_module_version": "1.2.0",
            "grid_template_areas": null,
            "object_position": null,
            "object_fit": null,
            "grid_auto_columns": null,
            "margin": null,
            "display": null,
            "left": null
          }
        },
        "e9b50bcb17c84eab8fdb76a5e4fce223": {
          "model_module": "@jupyter-widgets/controls",
          "model_name": "FloatProgressModel",
          "state": {
            "_view_name": "ProgressView",
            "style": "IPY_MODEL_5a4a0451ac1344bcb954ea0e4ac8a69a",
            "_dom_classes": [],
            "description": "Downloading: 100%",
            "_model_name": "FloatProgressModel",
            "bar_style": "success",
            "max": 788,
            "_view_module": "@jupyter-widgets/controls",
            "_model_module_version": "1.5.0",
            "value": 788,
            "_view_count": null,
            "_view_module_version": "1.5.0",
            "orientation": "horizontal",
            "min": 0,
            "description_tooltip": null,
            "_model_module": "@jupyter-widgets/controls",
            "layout": "IPY_MODEL_b137623ce69041299ce5c60fc26b1369"
          }
        },
        "d64928b78e4743939fa517fc3d926587": {
          "model_module": "@jupyter-widgets/controls",
          "model_name": "HTMLModel",
          "state": {
            "_view_name": "HTMLView",
            "style": "IPY_MODEL_602ada2051dc440abd0d8c7756c1e148",
            "_dom_classes": [],
            "description": "",
            "_model_name": "HTMLModel",
            "placeholder": "​",
            "_view_module": "@jupyter-widgets/controls",
            "_model_module_version": "1.5.0",
            "value": " 788/788 [00:00&lt;00:00, 2.27kB/s]",
            "_view_count": null,
            "_view_module_version": "1.5.0",
            "description_tooltip": null,
            "_model_module": "@jupyter-widgets/controls",
            "layout": "IPY_MODEL_778b5b0c5c974e3ca5d6d0e21cd3867b"
          }
        },
        "5a4a0451ac1344bcb954ea0e4ac8a69a": {
          "model_module": "@jupyter-widgets/controls",
          "model_name": "ProgressStyleModel",
          "state": {
            "_view_name": "StyleView",
            "_model_name": "ProgressStyleModel",
            "description_width": "initial",
            "_view_module": "@jupyter-widgets/base",
            "_model_module_version": "1.5.0",
            "_view_count": null,
            "_view_module_version": "1.2.0",
            "bar_color": null,
            "_model_module": "@jupyter-widgets/controls"
          }
        },
        "b137623ce69041299ce5c60fc26b1369": {
          "model_module": "@jupyter-widgets/base",
          "model_name": "LayoutModel",
          "state": {
            "_view_name": "LayoutView",
            "grid_template_rows": null,
            "right": null,
            "justify_content": null,
            "_view_module": "@jupyter-widgets/base",
            "overflow": null,
            "_model_module_version": "1.2.0",
            "_view_count": null,
            "flex_flow": null,
            "width": null,
            "min_width": null,
            "border": null,
            "align_items": null,
            "bottom": null,
            "_model_module": "@jupyter-widgets/base",
            "top": null,
            "grid_column": null,
            "overflow_y": null,
            "overflow_x": null,
            "grid_auto_flow": null,
            "grid_area": null,
            "grid_template_columns": null,
            "flex": null,
            "_model_name": "LayoutModel",
            "justify_items": null,
            "grid_row": null,
            "max_height": null,
            "align_content": null,
            "visibility": null,
            "align_self": null,
            "height": null,
            "min_height": null,
            "padding": null,
            "grid_auto_rows": null,
            "grid_gap": null,
            "max_width": null,
            "order": null,
            "_view_module_version": "1.2.0",
            "grid_template_areas": null,
            "object_position": null,
            "object_fit": null,
            "grid_auto_columns": null,
            "margin": null,
            "display": null,
            "left": null
          }
        },
        "602ada2051dc440abd0d8c7756c1e148": {
          "model_module": "@jupyter-widgets/controls",
          "model_name": "DescriptionStyleModel",
          "state": {
            "_view_name": "StyleView",
            "_model_name": "DescriptionStyleModel",
            "description_width": "",
            "_view_module": "@jupyter-widgets/base",
            "_model_module_version": "1.5.0",
            "_view_count": null,
            "_view_module_version": "1.2.0",
            "_model_module": "@jupyter-widgets/controls"
          }
        },
        "778b5b0c5c974e3ca5d6d0e21cd3867b": {
          "model_module": "@jupyter-widgets/base",
          "model_name": "LayoutModel",
          "state": {
            "_view_name": "LayoutView",
            "grid_template_rows": null,
            "right": null,
            "justify_content": null,
            "_view_module": "@jupyter-widgets/base",
            "overflow": null,
            "_model_module_version": "1.2.0",
            "_view_count": null,
            "flex_flow": null,
            "width": null,
            "min_width": null,
            "border": null,
            "align_items": null,
            "bottom": null,
            "_model_module": "@jupyter-widgets/base",
            "top": null,
            "grid_column": null,
            "overflow_y": null,
            "overflow_x": null,
            "grid_auto_flow": null,
            "grid_area": null,
            "grid_template_columns": null,
            "flex": null,
            "_model_name": "LayoutModel",
            "justify_items": null,
            "grid_row": null,
            "max_height": null,
            "align_content": null,
            "visibility": null,
            "align_self": null,
            "height": null,
            "min_height": null,
            "padding": null,
            "grid_auto_rows": null,
            "grid_gap": null,
            "max_width": null,
            "order": null,
            "_view_module_version": "1.2.0",
            "grid_template_areas": null,
            "object_position": null,
            "object_fit": null,
            "grid_auto_columns": null,
            "margin": null,
            "display": null,
            "left": null
          }
        },
        "58f0eb3753d44e9e99e545dda1b700c8": {
          "model_module": "@jupyter-widgets/controls",
          "model_name": "HBoxModel",
          "state": {
            "_view_name": "HBoxView",
            "_dom_classes": [],
            "_model_name": "HBoxModel",
            "_view_module": "@jupyter-widgets/controls",
            "_model_module_version": "1.5.0",
            "_view_count": null,
            "_view_module_version": "1.5.0",
            "box_style": "",
            "layout": "IPY_MODEL_5de37bcdbbdc406e87f3caf34e3ebce5",
            "_model_module": "@jupyter-widgets/controls",
            "children": [
              "IPY_MODEL_03d1db51a9c14bbdab3055fa5581f0af",
              "IPY_MODEL_fc9b82cc2e844d29b714313730dd83cb"
            ]
          }
        },
        "5de37bcdbbdc406e87f3caf34e3ebce5": {
          "model_module": "@jupyter-widgets/base",
          "model_name": "LayoutModel",
          "state": {
            "_view_name": "LayoutView",
            "grid_template_rows": null,
            "right": null,
            "justify_content": null,
            "_view_module": "@jupyter-widgets/base",
            "overflow": null,
            "_model_module_version": "1.2.0",
            "_view_count": null,
            "flex_flow": null,
            "width": null,
            "min_width": null,
            "border": null,
            "align_items": null,
            "bottom": null,
            "_model_module": "@jupyter-widgets/base",
            "top": null,
            "grid_column": null,
            "overflow_y": null,
            "overflow_x": null,
            "grid_auto_flow": null,
            "grid_area": null,
            "grid_template_columns": null,
            "flex": null,
            "_model_name": "LayoutModel",
            "justify_items": null,
            "grid_row": null,
            "max_height": null,
            "align_content": null,
            "visibility": null,
            "align_self": null,
            "height": null,
            "min_height": null,
            "padding": null,
            "grid_auto_rows": null,
            "grid_gap": null,
            "max_width": null,
            "order": null,
            "_view_module_version": "1.2.0",
            "grid_template_areas": null,
            "object_position": null,
            "object_fit": null,
            "grid_auto_columns": null,
            "margin": null,
            "display": null,
            "left": null
          }
        },
        "03d1db51a9c14bbdab3055fa5581f0af": {
          "model_module": "@jupyter-widgets/controls",
          "model_name": "FloatProgressModel",
          "state": {
            "_view_name": "ProgressView",
            "style": "IPY_MODEL_bdda06b9bbe148a1bae0c3fb1aeb0e50",
            "_dom_classes": [],
            "description": "Downloading: 100%",
            "_model_name": "FloatProgressModel",
            "bar_style": "success",
            "max": 528800098,
            "_view_module": "@jupyter-widgets/controls",
            "_model_module_version": "1.5.0",
            "value": 528800098,
            "_view_count": null,
            "_view_module_version": "1.5.0",
            "orientation": "horizontal",
            "min": 0,
            "description_tooltip": null,
            "_model_module": "@jupyter-widgets/controls",
            "layout": "IPY_MODEL_7e88d5ae1e1441f5824cd306cb4a7428"
          }
        },
        "fc9b82cc2e844d29b714313730dd83cb": {
          "model_module": "@jupyter-widgets/controls",
          "model_name": "HTMLModel",
          "state": {
            "_view_name": "HTMLView",
            "style": "IPY_MODEL_9fa48e79962e4e36b69265db44f9a985",
            "_dom_classes": [],
            "description": "",
            "_model_name": "HTMLModel",
            "placeholder": "​",
            "_view_module": "@jupyter-widgets/controls",
            "_model_module_version": "1.5.0",
            "value": " 529M/529M [00:14&lt;00:00, 36.4MB/s]",
            "_view_count": null,
            "_view_module_version": "1.5.0",
            "description_tooltip": null,
            "_model_module": "@jupyter-widgets/controls",
            "layout": "IPY_MODEL_42ccb1ef8b8449d0af5192881f2068dc"
          }
        },
        "bdda06b9bbe148a1bae0c3fb1aeb0e50": {
          "model_module": "@jupyter-widgets/controls",
          "model_name": "ProgressStyleModel",
          "state": {
            "_view_name": "StyleView",
            "_model_name": "ProgressStyleModel",
            "description_width": "initial",
            "_view_module": "@jupyter-widgets/base",
            "_model_module_version": "1.5.0",
            "_view_count": null,
            "_view_module_version": "1.2.0",
            "bar_color": null,
            "_model_module": "@jupyter-widgets/controls"
          }
        },
        "7e88d5ae1e1441f5824cd306cb4a7428": {
          "model_module": "@jupyter-widgets/base",
          "model_name": "LayoutModel",
          "state": {
            "_view_name": "LayoutView",
            "grid_template_rows": null,
            "right": null,
            "justify_content": null,
            "_view_module": "@jupyter-widgets/base",
            "overflow": null,
            "_model_module_version": "1.2.0",
            "_view_count": null,
            "flex_flow": null,
            "width": null,
            "min_width": null,
            "border": null,
            "align_items": null,
            "bottom": null,
            "_model_module": "@jupyter-widgets/base",
            "top": null,
            "grid_column": null,
            "overflow_y": null,
            "overflow_x": null,
            "grid_auto_flow": null,
            "grid_area": null,
            "grid_template_columns": null,
            "flex": null,
            "_model_name": "LayoutModel",
            "justify_items": null,
            "grid_row": null,
            "max_height": null,
            "align_content": null,
            "visibility": null,
            "align_self": null,
            "height": null,
            "min_height": null,
            "padding": null,
            "grid_auto_rows": null,
            "grid_gap": null,
            "max_width": null,
            "order": null,
            "_view_module_version": "1.2.0",
            "grid_template_areas": null,
            "object_position": null,
            "object_fit": null,
            "grid_auto_columns": null,
            "margin": null,
            "display": null,
            "left": null
          }
        },
        "9fa48e79962e4e36b69265db44f9a985": {
          "model_module": "@jupyter-widgets/controls",
          "model_name": "DescriptionStyleModel",
          "state": {
            "_view_name": "StyleView",
            "_model_name": "DescriptionStyleModel",
            "description_width": "",
            "_view_module": "@jupyter-widgets/base",
            "_model_module_version": "1.5.0",
            "_view_count": null,
            "_view_module_version": "1.2.0",
            "_model_module": "@jupyter-widgets/controls"
          }
        },
        "42ccb1ef8b8449d0af5192881f2068dc": {
          "model_module": "@jupyter-widgets/base",
          "model_name": "LayoutModel",
          "state": {
            "_view_name": "LayoutView",
            "grid_template_rows": null,
            "right": null,
            "justify_content": null,
            "_view_module": "@jupyter-widgets/base",
            "overflow": null,
            "_model_module_version": "1.2.0",
            "_view_count": null,
            "flex_flow": null,
            "width": null,
            "min_width": null,
            "border": null,
            "align_items": null,
            "bottom": null,
            "_model_module": "@jupyter-widgets/base",
            "top": null,
            "grid_column": null,
            "overflow_y": null,
            "overflow_x": null,
            "grid_auto_flow": null,
            "grid_area": null,
            "grid_template_columns": null,
            "flex": null,
            "_model_name": "LayoutModel",
            "justify_items": null,
            "grid_row": null,
            "max_height": null,
            "align_content": null,
            "visibility": null,
            "align_self": null,
            "height": null,
            "min_height": null,
            "padding": null,
            "grid_auto_rows": null,
            "grid_gap": null,
            "max_width": null,
            "order": null,
            "_view_module_version": "1.2.0",
            "grid_template_areas": null,
            "object_position": null,
            "object_fit": null,
            "grid_auto_columns": null,
            "margin": null,
            "display": null,
            "left": null
          }
        },
        "59a706e0357046fda506015239b693ac": {
          "model_module": "@jupyter-widgets/controls",
          "model_name": "HBoxModel",
          "state": {
            "_view_name": "HBoxView",
            "_dom_classes": [],
            "_model_name": "HBoxModel",
            "_view_module": "@jupyter-widgets/controls",
            "_model_module_version": "1.5.0",
            "_view_count": null,
            "_view_module_version": "1.5.0",
            "box_style": "",
            "layout": "IPY_MODEL_e8f6ba3bb37b4ff3a52e568e9497a7f5",
            "_model_module": "@jupyter-widgets/controls",
            "children": [
              "IPY_MODEL_52ca1ecd38a64ea698c89c75cedf9c5c",
              "IPY_MODEL_2b10a7e2a2d24808adce010acf63e944"
            ]
          }
        },
        "e8f6ba3bb37b4ff3a52e568e9497a7f5": {
          "model_module": "@jupyter-widgets/base",
          "model_name": "LayoutModel",
          "state": {
            "_view_name": "LayoutView",
            "grid_template_rows": null,
            "right": null,
            "justify_content": null,
            "_view_module": "@jupyter-widgets/base",
            "overflow": null,
            "_model_module_version": "1.2.0",
            "_view_count": null,
            "flex_flow": null,
            "width": null,
            "min_width": null,
            "border": null,
            "align_items": null,
            "bottom": null,
            "_model_module": "@jupyter-widgets/base",
            "top": null,
            "grid_column": null,
            "overflow_y": null,
            "overflow_x": null,
            "grid_auto_flow": null,
            "grid_area": null,
            "grid_template_columns": null,
            "flex": null,
            "_model_name": "LayoutModel",
            "justify_items": null,
            "grid_row": null,
            "max_height": null,
            "align_content": null,
            "visibility": null,
            "align_self": null,
            "height": null,
            "min_height": null,
            "padding": null,
            "grid_auto_rows": null,
            "grid_gap": null,
            "max_width": null,
            "order": null,
            "_view_module_version": "1.2.0",
            "grid_template_areas": null,
            "object_position": null,
            "object_fit": null,
            "grid_auto_columns": null,
            "margin": null,
            "display": null,
            "left": null
          }
        },
        "52ca1ecd38a64ea698c89c75cedf9c5c": {
          "model_module": "@jupyter-widgets/controls",
          "model_name": "FloatProgressModel",
          "state": {
            "_view_name": "ProgressView",
            "style": "IPY_MODEL_4f97e91bc45a4ba79ef5ed56cb9fddb8",
            "_dom_classes": [],
            "description": "Downloading: 100%",
            "_model_name": "FloatProgressModel",
            "bar_style": "success",
            "max": 845731,
            "_view_module": "@jupyter-widgets/controls",
            "_model_module_version": "1.5.0",
            "value": 845731,
            "_view_count": null,
            "_view_module_version": "1.5.0",
            "orientation": "horizontal",
            "min": 0,
            "description_tooltip": null,
            "_model_module": "@jupyter-widgets/controls",
            "layout": "IPY_MODEL_43e152d79b364eb3a74ac5f0589ee980"
          }
        },
        "2b10a7e2a2d24808adce010acf63e944": {
          "model_module": "@jupyter-widgets/controls",
          "model_name": "HTMLModel",
          "state": {
            "_view_name": "HTMLView",
            "style": "IPY_MODEL_8a3a0ca47ddb4d79bb45c2a61f19083e",
            "_dom_classes": [],
            "description": "",
            "_model_name": "HTMLModel",
            "placeholder": "​",
            "_view_module": "@jupyter-widgets/controls",
            "_model_module_version": "1.5.0",
            "value": " 846k/846k [02:12&lt;00:00, 6.40kB/s]",
            "_view_count": null,
            "_view_module_version": "1.5.0",
            "description_tooltip": null,
            "_model_module": "@jupyter-widgets/controls",
            "layout": "IPY_MODEL_2340472b1ee940699b03c011a7e5f078"
          }
        },
        "4f97e91bc45a4ba79ef5ed56cb9fddb8": {
          "model_module": "@jupyter-widgets/controls",
          "model_name": "ProgressStyleModel",
          "state": {
            "_view_name": "StyleView",
            "_model_name": "ProgressStyleModel",
            "description_width": "initial",
            "_view_module": "@jupyter-widgets/base",
            "_model_module_version": "1.5.0",
            "_view_count": null,
            "_view_module_version": "1.2.0",
            "bar_color": null,
            "_model_module": "@jupyter-widgets/controls"
          }
        },
        "43e152d79b364eb3a74ac5f0589ee980": {
          "model_module": "@jupyter-widgets/base",
          "model_name": "LayoutModel",
          "state": {
            "_view_name": "LayoutView",
            "grid_template_rows": null,
            "right": null,
            "justify_content": null,
            "_view_module": "@jupyter-widgets/base",
            "overflow": null,
            "_model_module_version": "1.2.0",
            "_view_count": null,
            "flex_flow": null,
            "width": null,
            "min_width": null,
            "border": null,
            "align_items": null,
            "bottom": null,
            "_model_module": "@jupyter-widgets/base",
            "top": null,
            "grid_column": null,
            "overflow_y": null,
            "overflow_x": null,
            "grid_auto_flow": null,
            "grid_area": null,
            "grid_template_columns": null,
            "flex": null,
            "_model_name": "LayoutModel",
            "justify_items": null,
            "grid_row": null,
            "max_height": null,
            "align_content": null,
            "visibility": null,
            "align_self": null,
            "height": null,
            "min_height": null,
            "padding": null,
            "grid_auto_rows": null,
            "grid_gap": null,
            "max_width": null,
            "order": null,
            "_view_module_version": "1.2.0",
            "grid_template_areas": null,
            "object_position": null,
            "object_fit": null,
            "grid_auto_columns": null,
            "margin": null,
            "display": null,
            "left": null
          }
        },
        "8a3a0ca47ddb4d79bb45c2a61f19083e": {
          "model_module": "@jupyter-widgets/controls",
          "model_name": "DescriptionStyleModel",
          "state": {
            "_view_name": "StyleView",
            "_model_name": "DescriptionStyleModel",
            "description_width": "",
            "_view_module": "@jupyter-widgets/base",
            "_model_module_version": "1.5.0",
            "_view_count": null,
            "_view_module_version": "1.2.0",
            "_model_module": "@jupyter-widgets/controls"
          }
        },
        "2340472b1ee940699b03c011a7e5f078": {
          "model_module": "@jupyter-widgets/base",
          "model_name": "LayoutModel",
          "state": {
            "_view_name": "LayoutView",
            "grid_template_rows": null,
            "right": null,
            "justify_content": null,
            "_view_module": "@jupyter-widgets/base",
            "overflow": null,
            "_model_module_version": "1.2.0",
            "_view_count": null,
            "flex_flow": null,
            "width": null,
            "min_width": null,
            "border": null,
            "align_items": null,
            "bottom": null,
            "_model_module": "@jupyter-widgets/base",
            "top": null,
            "grid_column": null,
            "overflow_y": null,
            "overflow_x": null,
            "grid_auto_flow": null,
            "grid_area": null,
            "grid_template_columns": null,
            "flex": null,
            "_model_name": "LayoutModel",
            "justify_items": null,
            "grid_row": null,
            "max_height": null,
            "align_content": null,
            "visibility": null,
            "align_self": null,
            "height": null,
            "min_height": null,
            "padding": null,
            "grid_auto_rows": null,
            "grid_gap": null,
            "max_width": null,
            "order": null,
            "_view_module_version": "1.2.0",
            "grid_template_areas": null,
            "object_position": null,
            "object_fit": null,
            "grid_auto_columns": null,
            "margin": null,
            "display": null,
            "left": null
          }
        },
        "cdb5d7430e9d4b92ac62b1f9703b71d4": {
          "model_module": "@jupyter-widgets/controls",
          "model_name": "HBoxModel",
          "state": {
            "_view_name": "HBoxView",
            "_dom_classes": [],
            "_model_name": "HBoxModel",
            "_view_module": "@jupyter-widgets/controls",
            "_model_module_version": "1.5.0",
            "_view_count": null,
            "_view_module_version": "1.5.0",
            "box_style": "",
            "layout": "IPY_MODEL_1680df0d996e43818b4f2cb5e90f7a3e",
            "_model_module": "@jupyter-widgets/controls",
            "children": [
              "IPY_MODEL_eeb910875c754b6ba10acf23c6e3849c",
              "IPY_MODEL_a4a494a2d0554923926bfe1d68ab66d1"
            ]
          }
        },
        "1680df0d996e43818b4f2cb5e90f7a3e": {
          "model_module": "@jupyter-widgets/base",
          "model_name": "LayoutModel",
          "state": {
            "_view_name": "LayoutView",
            "grid_template_rows": null,
            "right": null,
            "justify_content": null,
            "_view_module": "@jupyter-widgets/base",
            "overflow": null,
            "_model_module_version": "1.2.0",
            "_view_count": null,
            "flex_flow": null,
            "width": null,
            "min_width": null,
            "border": null,
            "align_items": null,
            "bottom": null,
            "_model_module": "@jupyter-widgets/base",
            "top": null,
            "grid_column": null,
            "overflow_y": null,
            "overflow_x": null,
            "grid_auto_flow": null,
            "grid_area": null,
            "grid_template_columns": null,
            "flex": null,
            "_model_name": "LayoutModel",
            "justify_items": null,
            "grid_row": null,
            "max_height": null,
            "align_content": null,
            "visibility": null,
            "align_self": null,
            "height": null,
            "min_height": null,
            "padding": null,
            "grid_auto_rows": null,
            "grid_gap": null,
            "max_width": null,
            "order": null,
            "_view_module_version": "1.2.0",
            "grid_template_areas": null,
            "object_position": null,
            "object_fit": null,
            "grid_auto_columns": null,
            "margin": null,
            "display": null,
            "left": null
          }
        },
        "eeb910875c754b6ba10acf23c6e3849c": {
          "model_module": "@jupyter-widgets/controls",
          "model_name": "FloatProgressModel",
          "state": {
            "_view_name": "ProgressView",
            "style": "IPY_MODEL_2e0607c61add495fb836eae144fef5ea",
            "_dom_classes": [],
            "description": "Downloading: 100%",
            "_model_name": "FloatProgressModel",
            "bar_style": "success",
            "max": 775,
            "_view_module": "@jupyter-widgets/controls",
            "_model_module_version": "1.5.0",
            "value": 775,
            "_view_count": null,
            "_view_module_version": "1.5.0",
            "orientation": "horizontal",
            "min": 0,
            "description_tooltip": null,
            "_model_module": "@jupyter-widgets/controls",
            "layout": "IPY_MODEL_d50b08e2cf1046a694e40094d0b8d7e5"
          }
        },
        "a4a494a2d0554923926bfe1d68ab66d1": {
          "model_module": "@jupyter-widgets/controls",
          "model_name": "HTMLModel",
          "state": {
            "_view_name": "HTMLView",
            "style": "IPY_MODEL_cad3117442cd4604af0213187c27a90f",
            "_dom_classes": [],
            "description": "",
            "_model_name": "HTMLModel",
            "placeholder": "​",
            "_view_module": "@jupyter-widgets/controls",
            "_model_module_version": "1.5.0",
            "value": " 775/775 [00:00&lt;00:00, 976B/s]",
            "_view_count": null,
            "_view_module_version": "1.5.0",
            "description_tooltip": null,
            "_model_module": "@jupyter-widgets/controls",
            "layout": "IPY_MODEL_bade14acf4ac4d0eb871cdf7e1dea371"
          }
        },
        "2e0607c61add495fb836eae144fef5ea": {
          "model_module": "@jupyter-widgets/controls",
          "model_name": "ProgressStyleModel",
          "state": {
            "_view_name": "StyleView",
            "_model_name": "ProgressStyleModel",
            "description_width": "initial",
            "_view_module": "@jupyter-widgets/base",
            "_model_module_version": "1.5.0",
            "_view_count": null,
            "_view_module_version": "1.2.0",
            "bar_color": null,
            "_model_module": "@jupyter-widgets/controls"
          }
        },
        "d50b08e2cf1046a694e40094d0b8d7e5": {
          "model_module": "@jupyter-widgets/base",
          "model_name": "LayoutModel",
          "state": {
            "_view_name": "LayoutView",
            "grid_template_rows": null,
            "right": null,
            "justify_content": null,
            "_view_module": "@jupyter-widgets/base",
            "overflow": null,
            "_model_module_version": "1.2.0",
            "_view_count": null,
            "flex_flow": null,
            "width": null,
            "min_width": null,
            "border": null,
            "align_items": null,
            "bottom": null,
            "_model_module": "@jupyter-widgets/base",
            "top": null,
            "grid_column": null,
            "overflow_y": null,
            "overflow_x": null,
            "grid_auto_flow": null,
            "grid_area": null,
            "grid_template_columns": null,
            "flex": null,
            "_model_name": "LayoutModel",
            "justify_items": null,
            "grid_row": null,
            "max_height": null,
            "align_content": null,
            "visibility": null,
            "align_self": null,
            "height": null,
            "min_height": null,
            "padding": null,
            "grid_auto_rows": null,
            "grid_gap": null,
            "max_width": null,
            "order": null,
            "_view_module_version": "1.2.0",
            "grid_template_areas": null,
            "object_position": null,
            "object_fit": null,
            "grid_auto_columns": null,
            "margin": null,
            "display": null,
            "left": null
          }
        },
        "cad3117442cd4604af0213187c27a90f": {
          "model_module": "@jupyter-widgets/controls",
          "model_name": "DescriptionStyleModel",
          "state": {
            "_view_name": "StyleView",
            "_model_name": "DescriptionStyleModel",
            "description_width": "",
            "_view_module": "@jupyter-widgets/base",
            "_model_module_version": "1.5.0",
            "_view_count": null,
            "_view_module_version": "1.2.0",
            "_model_module": "@jupyter-widgets/controls"
          }
        },
        "bade14acf4ac4d0eb871cdf7e1dea371": {
          "model_module": "@jupyter-widgets/base",
          "model_name": "LayoutModel",
          "state": {
            "_view_name": "LayoutView",
            "grid_template_rows": null,
            "right": null,
            "justify_content": null,
            "_view_module": "@jupyter-widgets/base",
            "overflow": null,
            "_model_module_version": "1.2.0",
            "_view_count": null,
            "flex_flow": null,
            "width": null,
            "min_width": null,
            "border": null,
            "align_items": null,
            "bottom": null,
            "_model_module": "@jupyter-widgets/base",
            "top": null,
            "grid_column": null,
            "overflow_y": null,
            "overflow_x": null,
            "grid_auto_flow": null,
            "grid_area": null,
            "grid_template_columns": null,
            "flex": null,
            "_model_name": "LayoutModel",
            "justify_items": null,
            "grid_row": null,
            "max_height": null,
            "align_content": null,
            "visibility": null,
            "align_self": null,
            "height": null,
            "min_height": null,
            "padding": null,
            "grid_auto_rows": null,
            "grid_gap": null,
            "max_width": null,
            "order": null,
            "_view_module_version": "1.2.0",
            "grid_template_areas": null,
            "object_position": null,
            "object_fit": null,
            "grid_auto_columns": null,
            "margin": null,
            "display": null,
            "left": null
          }
        },
        "add4ae9c405c454bb88412b51fcd3b85": {
          "model_module": "@jupyter-widgets/controls",
          "model_name": "HBoxModel",
          "state": {
            "_view_name": "HBoxView",
            "_dom_classes": [],
            "_model_name": "HBoxModel",
            "_view_module": "@jupyter-widgets/controls",
            "_model_module_version": "1.5.0",
            "_view_count": null,
            "_view_module_version": "1.5.0",
            "box_style": "",
            "layout": "IPY_MODEL_bf3280bfab904984a5d71709189eb164",
            "_model_module": "@jupyter-widgets/controls",
            "children": [
              "IPY_MODEL_72f328933a4f42be817c21cdeea0bef7",
              "IPY_MODEL_b97c0c275a854b4fa5089e9ac898d016"
            ]
          }
        },
        "bf3280bfab904984a5d71709189eb164": {
          "model_module": "@jupyter-widgets/base",
          "model_name": "LayoutModel",
          "state": {
            "_view_name": "LayoutView",
            "grid_template_rows": null,
            "right": null,
            "justify_content": null,
            "_view_module": "@jupyter-widgets/base",
            "overflow": null,
            "_model_module_version": "1.2.0",
            "_view_count": null,
            "flex_flow": null,
            "width": null,
            "min_width": null,
            "border": null,
            "align_items": null,
            "bottom": null,
            "_model_module": "@jupyter-widgets/base",
            "top": null,
            "grid_column": null,
            "overflow_y": null,
            "overflow_x": null,
            "grid_auto_flow": null,
            "grid_area": null,
            "grid_template_columns": null,
            "flex": null,
            "_model_name": "LayoutModel",
            "justify_items": null,
            "grid_row": null,
            "max_height": null,
            "align_content": null,
            "visibility": null,
            "align_self": null,
            "height": null,
            "min_height": null,
            "padding": null,
            "grid_auto_rows": null,
            "grid_gap": null,
            "max_width": null,
            "order": null,
            "_view_module_version": "1.2.0",
            "grid_template_areas": null,
            "object_position": null,
            "object_fit": null,
            "grid_auto_columns": null,
            "margin": null,
            "display": null,
            "left": null
          }
        },
        "72f328933a4f42be817c21cdeea0bef7": {
          "model_module": "@jupyter-widgets/controls",
          "model_name": "FloatProgressModel",
          "state": {
            "_view_name": "ProgressView",
            "style": "IPY_MODEL_7174f13c4d034c19986ba9f72da16cf4",
            "_dom_classes": [],
            "description": "Downloading: 100%",
            "_model_name": "FloatProgressModel",
            "bar_style": "success",
            "max": 1277,
            "_view_module": "@jupyter-widgets/controls",
            "_model_module_version": "1.5.0",
            "value": 1277,
            "_view_count": null,
            "_view_module_version": "1.5.0",
            "orientation": "horizontal",
            "min": 0,
            "description_tooltip": null,
            "_model_module": "@jupyter-widgets/controls",
            "layout": "IPY_MODEL_93fbb035e8ad42bf9331221910703005"
          }
        },
        "b97c0c275a854b4fa5089e9ac898d016": {
          "model_module": "@jupyter-widgets/controls",
          "model_name": "HTMLModel",
          "state": {
            "_view_name": "HTMLView",
            "style": "IPY_MODEL_dd6fed7170a843e0aace088d009c0cdb",
            "_dom_classes": [],
            "description": "",
            "_model_name": "HTMLModel",
            "placeholder": "​",
            "_view_module": "@jupyter-widgets/controls",
            "_model_module_version": "1.5.0",
            "value": " 1.28k/1.28k [00:00&lt;00:00, 9.61kB/s]",
            "_view_count": null,
            "_view_module_version": "1.5.0",
            "description_tooltip": null,
            "_model_module": "@jupyter-widgets/controls",
            "layout": "IPY_MODEL_2aa0d2f5217d40e98b2a4ccf48e01cd3"
          }
        },
        "7174f13c4d034c19986ba9f72da16cf4": {
          "model_module": "@jupyter-widgets/controls",
          "model_name": "ProgressStyleModel",
          "state": {
            "_view_name": "StyleView",
            "_model_name": "ProgressStyleModel",
            "description_width": "initial",
            "_view_module": "@jupyter-widgets/base",
            "_model_module_version": "1.5.0",
            "_view_count": null,
            "_view_module_version": "1.2.0",
            "bar_color": null,
            "_model_module": "@jupyter-widgets/controls"
          }
        },
        "93fbb035e8ad42bf9331221910703005": {
          "model_module": "@jupyter-widgets/base",
          "model_name": "LayoutModel",
          "state": {
            "_view_name": "LayoutView",
            "grid_template_rows": null,
            "right": null,
            "justify_content": null,
            "_view_module": "@jupyter-widgets/base",
            "overflow": null,
            "_model_module_version": "1.2.0",
            "_view_count": null,
            "flex_flow": null,
            "width": null,
            "min_width": null,
            "border": null,
            "align_items": null,
            "bottom": null,
            "_model_module": "@jupyter-widgets/base",
            "top": null,
            "grid_column": null,
            "overflow_y": null,
            "overflow_x": null,
            "grid_auto_flow": null,
            "grid_area": null,
            "grid_template_columns": null,
            "flex": null,
            "_model_name": "LayoutModel",
            "justify_items": null,
            "grid_row": null,
            "max_height": null,
            "align_content": null,
            "visibility": null,
            "align_self": null,
            "height": null,
            "min_height": null,
            "padding": null,
            "grid_auto_rows": null,
            "grid_gap": null,
            "max_width": null,
            "order": null,
            "_view_module_version": "1.2.0",
            "grid_template_areas": null,
            "object_position": null,
            "object_fit": null,
            "grid_auto_columns": null,
            "margin": null,
            "display": null,
            "left": null
          }
        },
        "dd6fed7170a843e0aace088d009c0cdb": {
          "model_module": "@jupyter-widgets/controls",
          "model_name": "DescriptionStyleModel",
          "state": {
            "_view_name": "StyleView",
            "_model_name": "DescriptionStyleModel",
            "description_width": "",
            "_view_module": "@jupyter-widgets/base",
            "_model_module_version": "1.5.0",
            "_view_count": null,
            "_view_module_version": "1.2.0",
            "_model_module": "@jupyter-widgets/controls"
          }
        },
        "2aa0d2f5217d40e98b2a4ccf48e01cd3": {
          "model_module": "@jupyter-widgets/base",
          "model_name": "LayoutModel",
          "state": {
            "_view_name": "LayoutView",
            "grid_template_rows": null,
            "right": null,
            "justify_content": null,
            "_view_module": "@jupyter-widgets/base",
            "overflow": null,
            "_model_module_version": "1.2.0",
            "_view_count": null,
            "flex_flow": null,
            "width": null,
            "min_width": null,
            "border": null,
            "align_items": null,
            "bottom": null,
            "_model_module": "@jupyter-widgets/base",
            "top": null,
            "grid_column": null,
            "overflow_y": null,
            "overflow_x": null,
            "grid_auto_flow": null,
            "grid_area": null,
            "grid_template_columns": null,
            "flex": null,
            "_model_name": "LayoutModel",
            "justify_items": null,
            "grid_row": null,
            "max_height": null,
            "align_content": null,
            "visibility": null,
            "align_self": null,
            "height": null,
            "min_height": null,
            "padding": null,
            "grid_auto_rows": null,
            "grid_gap": null,
            "max_width": null,
            "order": null,
            "_view_module_version": "1.2.0",
            "grid_template_areas": null,
            "object_position": null,
            "object_fit": null,
            "grid_auto_columns": null,
            "margin": null,
            "display": null,
            "left": null
          }
        },
        "845adf1876534a48901d905ed28ef8c0": {
          "model_module": "@jupyter-widgets/controls",
          "model_name": "HBoxModel",
          "state": {
            "_view_name": "HBoxView",
            "_dom_classes": [],
            "_model_name": "HBoxModel",
            "_view_module": "@jupyter-widgets/controls",
            "_model_module_version": "1.5.0",
            "_view_count": null,
            "_view_module_version": "1.5.0",
            "box_style": "",
            "layout": "IPY_MODEL_aa1ad0b797ee429e8688c1049391e3bf",
            "_model_module": "@jupyter-widgets/controls",
            "children": [
              "IPY_MODEL_3270cfea813d40688a589f8dc3db122d",
              "IPY_MODEL_86949f5fdbef4702a5d1798b0a41a93a"
            ]
          }
        },
        "aa1ad0b797ee429e8688c1049391e3bf": {
          "model_module": "@jupyter-widgets/base",
          "model_name": "LayoutModel",
          "state": {
            "_view_name": "LayoutView",
            "grid_template_rows": null,
            "right": null,
            "justify_content": null,
            "_view_module": "@jupyter-widgets/base",
            "overflow": null,
            "_model_module_version": "1.2.0",
            "_view_count": null,
            "flex_flow": null,
            "width": null,
            "min_width": null,
            "border": null,
            "align_items": null,
            "bottom": null,
            "_model_module": "@jupyter-widgets/base",
            "top": null,
            "grid_column": null,
            "overflow_y": null,
            "overflow_x": null,
            "grid_auto_flow": null,
            "grid_area": null,
            "grid_template_columns": null,
            "flex": null,
            "_model_name": "LayoutModel",
            "justify_items": null,
            "grid_row": null,
            "max_height": null,
            "align_content": null,
            "visibility": null,
            "align_self": null,
            "height": null,
            "min_height": null,
            "padding": null,
            "grid_auto_rows": null,
            "grid_gap": null,
            "max_width": null,
            "order": null,
            "_view_module_version": "1.2.0",
            "grid_template_areas": null,
            "object_position": null,
            "object_fit": null,
            "grid_auto_columns": null,
            "margin": null,
            "display": null,
            "left": null
          }
        },
        "3270cfea813d40688a589f8dc3db122d": {
          "model_module": "@jupyter-widgets/controls",
          "model_name": "FloatProgressModel",
          "state": {
            "_view_name": "ProgressView",
            "style": "IPY_MODEL_1494a2d267014b38bf4ffd1dc2cc1c76",
            "_dom_classes": [],
            "description": "100%",
            "_model_name": "FloatProgressModel",
            "bar_style": "success",
            "max": 2,
            "_view_module": "@jupyter-widgets/controls",
            "_model_module_version": "1.5.0",
            "value": 2,
            "_view_count": null,
            "_view_module_version": "1.5.0",
            "orientation": "horizontal",
            "min": 0,
            "description_tooltip": null,
            "_model_module": "@jupyter-widgets/controls",
            "layout": "IPY_MODEL_5eae8a7197424cc9a1ded3bbb926f514"
          }
        },
        "86949f5fdbef4702a5d1798b0a41a93a": {
          "model_module": "@jupyter-widgets/controls",
          "model_name": "HTMLModel",
          "state": {
            "_view_name": "HTMLView",
            "style": "IPY_MODEL_9992e9a708af414fa7ce28732af484bf",
            "_dom_classes": [],
            "description": "",
            "_model_name": "HTMLModel",
            "placeholder": "​",
            "_view_module": "@jupyter-widgets/controls",
            "_model_module_version": "1.5.0",
            "value": " 2/2 [00:00&lt;00:00, 12.29ba/s]",
            "_view_count": null,
            "_view_module_version": "1.5.0",
            "description_tooltip": null,
            "_model_module": "@jupyter-widgets/controls",
            "layout": "IPY_MODEL_e8140e8709024ecb8ed7ede87f4ef9ac"
          }
        },
        "1494a2d267014b38bf4ffd1dc2cc1c76": {
          "model_module": "@jupyter-widgets/controls",
          "model_name": "ProgressStyleModel",
          "state": {
            "_view_name": "StyleView",
            "_model_name": "ProgressStyleModel",
            "description_width": "initial",
            "_view_module": "@jupyter-widgets/base",
            "_model_module_version": "1.5.0",
            "_view_count": null,
            "_view_module_version": "1.2.0",
            "bar_color": null,
            "_model_module": "@jupyter-widgets/controls"
          }
        },
        "5eae8a7197424cc9a1ded3bbb926f514": {
          "model_module": "@jupyter-widgets/base",
          "model_name": "LayoutModel",
          "state": {
            "_view_name": "LayoutView",
            "grid_template_rows": null,
            "right": null,
            "justify_content": null,
            "_view_module": "@jupyter-widgets/base",
            "overflow": null,
            "_model_module_version": "1.2.0",
            "_view_count": null,
            "flex_flow": null,
            "width": null,
            "min_width": null,
            "border": null,
            "align_items": null,
            "bottom": null,
            "_model_module": "@jupyter-widgets/base",
            "top": null,
            "grid_column": null,
            "overflow_y": null,
            "overflow_x": null,
            "grid_auto_flow": null,
            "grid_area": null,
            "grid_template_columns": null,
            "flex": null,
            "_model_name": "LayoutModel",
            "justify_items": null,
            "grid_row": null,
            "max_height": null,
            "align_content": null,
            "visibility": null,
            "align_self": null,
            "height": null,
            "min_height": null,
            "padding": null,
            "grid_auto_rows": null,
            "grid_gap": null,
            "max_width": null,
            "order": null,
            "_view_module_version": "1.2.0",
            "grid_template_areas": null,
            "object_position": null,
            "object_fit": null,
            "grid_auto_columns": null,
            "margin": null,
            "display": null,
            "left": null
          }
        },
        "9992e9a708af414fa7ce28732af484bf": {
          "model_module": "@jupyter-widgets/controls",
          "model_name": "DescriptionStyleModel",
          "state": {
            "_view_name": "StyleView",
            "_model_name": "DescriptionStyleModel",
            "description_width": "",
            "_view_module": "@jupyter-widgets/base",
            "_model_module_version": "1.5.0",
            "_view_count": null,
            "_view_module_version": "1.2.0",
            "_model_module": "@jupyter-widgets/controls"
          }
        },
        "e8140e8709024ecb8ed7ede87f4ef9ac": {
          "model_module": "@jupyter-widgets/base",
          "model_name": "LayoutModel",
          "state": {
            "_view_name": "LayoutView",
            "grid_template_rows": null,
            "right": null,
            "justify_content": null,
            "_view_module": "@jupyter-widgets/base",
            "overflow": null,
            "_model_module_version": "1.2.0",
            "_view_count": null,
            "flex_flow": null,
            "width": null,
            "min_width": null,
            "border": null,
            "align_items": null,
            "bottom": null,
            "_model_module": "@jupyter-widgets/base",
            "top": null,
            "grid_column": null,
            "overflow_y": null,
            "overflow_x": null,
            "grid_auto_flow": null,
            "grid_area": null,
            "grid_template_columns": null,
            "flex": null,
            "_model_name": "LayoutModel",
            "justify_items": null,
            "grid_row": null,
            "max_height": null,
            "align_content": null,
            "visibility": null,
            "align_self": null,
            "height": null,
            "min_height": null,
            "padding": null,
            "grid_auto_rows": null,
            "grid_gap": null,
            "max_width": null,
            "order": null,
            "_view_module_version": "1.2.0",
            "grid_template_areas": null,
            "object_position": null,
            "object_fit": null,
            "grid_auto_columns": null,
            "margin": null,
            "display": null,
            "left": null
          }
        }
      }
    },
    "accelerator": "GPU"
  },
  "cells": [
    {
      "cell_type": "markdown",
      "metadata": {
        "id": "view-in-github",
        "colab_type": "text"
      },
      "source": [
        "<a href=\"https://colab.research.google.com/github/vasudevgupta7/bigbird/blob/main/notebooks/evaluate_nq_flax.ipynb\" target=\"_parent\"><img src=\"https://colab.research.google.com/assets/colab-badge.svg\" alt=\"Open In Colab\"/></a>"
      ]
    },
    {
      "cell_type": "code",
      "metadata": {
        "id": "gKcvuGzhJVUq"
      },
      "source": [
        "%%capture\n",
        "!git clone https://github.com/vasudevgupta7/bigbird\n",
        "!cd bigbird/natural-questions && pip3 install -r requirements.txt\n",
        "\n",
        "!pip3 install flax"
      ],
      "execution_count": 1,
      "outputs": []
    },
    {
      "cell_type": "code",
      "metadata": {
        "id": "2RlajqOyfhVd"
      },
      "source": [
        "# from jax.tools import colab_tpu\n",
        "# colab_tpu.setup_tpu()"
      ],
      "execution_count": 2,
      "outputs": []
    },
    {
      "cell_type": "code",
      "metadata": {
        "colab": {
          "base_uri": "https://localhost:8080/"
        },
        "id": "wg9sZulYmJkk",
        "outputId": "29d7259a-1ba3-49cd-b82b-a354c40ba643"
      },
      "source": [
        "cd bigbird/natural-questions"
      ],
      "execution_count": 3,
      "outputs": [
        {
          "output_type": "stream",
          "text": [
            "/content/bigbird/natural-questions\n"
          ],
          "name": "stdout"
        }
      ]
    },
    {
      "cell_type": "code",
      "metadata": {
        "colab": {
          "base_uri": "https://localhost:8080/"
        },
        "id": "h0i-0EsuWZPA",
        "outputId": "bd582233-9d24-485e-c836-41d37f080ecc"
      },
      "source": [
        "!mkdir natural-questions-validation\n",
        "!wget https://huggingface.co/datasets/vasudevgupta/natural-questions-validation/resolve/main/natural_questions-validation.arrow -P natural-questions-validation\n",
        "!wget https://huggingface.co/datasets/vasudevgupta/natural-questions-validation/resolve/main/dataset_info.json -P natural-questions-validation\n",
        "!wget https://huggingface.co/datasets/vasudevgupta/natural-questions-validation/resolve/main/state.json -P natural-questions-validation"
      ],
      "execution_count": 4,
      "outputs": [
        {
          "output_type": "stream",
          "text": [
            "--2021-06-17 19:43:14--  https://huggingface.co/datasets/vasudevgupta/natural-questions-validation/resolve/main/natural_questions-validation.arrow\n",
            "Resolving huggingface.co (huggingface.co)... 15.197.130.34\n",
            "Connecting to huggingface.co (huggingface.co)|15.197.130.34|:443... connected.\n",
            "HTTP request sent, awaiting response... 302 Found\n",
            "Location: https://cdn-lfs.huggingface.co/datasets/vasudevgupta/natural-questions-validation/80201e1a5434183f43f73f1b7f57dfe9ea6c50da4f45007aeb192a2ec6556e70 [following]\n",
            "--2021-06-17 19:43:15--  https://cdn-lfs.huggingface.co/datasets/vasudevgupta/natural-questions-validation/80201e1a5434183f43f73f1b7f57dfe9ea6c50da4f45007aeb192a2ec6556e70\n",
            "Resolving cdn-lfs.huggingface.co (cdn-lfs.huggingface.co)... 13.225.149.88, 13.225.149.58, 13.225.149.72, ...\n",
            "Connecting to cdn-lfs.huggingface.co (cdn-lfs.huggingface.co)|13.225.149.88|:443... connected.\n",
            "HTTP request sent, awaiting response... 200 OK\n",
            "Length: 2353975312 (2.2G) [application/octet-stream]\n",
            "Saving to: ‘natural-questions-validation/natural_questions-validation.arrow’\n",
            "\n",
            "natural_questions-v 100%[===================>]   2.19G  25.8MB/s    in 75s     \n",
            "\n",
            "2021-06-17 19:44:30 (29.9 MB/s) - ‘natural-questions-validation/natural_questions-validation.arrow’ saved [2353975312/2353975312]\n",
            "\n",
            "--2021-06-17 19:44:30--  https://huggingface.co/datasets/vasudevgupta/natural-questions-validation/resolve/main/dataset_info.json\n",
            "Resolving huggingface.co (huggingface.co)... 15.197.130.34\n",
            "Connecting to huggingface.co (huggingface.co)|15.197.130.34|:443... connected.\n",
            "HTTP request sent, awaiting response... 200 OK\n",
            "Length: 4653 (4.5K) [application/json]\n",
            "Saving to: ‘natural-questions-validation/dataset_info.json’\n",
            "\n",
            "dataset_info.json   100%[===================>]   4.54K  --.-KB/s    in 0s      \n",
            "\n",
            "2021-06-17 19:44:31 (810 MB/s) - ‘natural-questions-validation/dataset_info.json’ saved [4653/4653]\n",
            "\n",
            "--2021-06-17 19:44:31--  https://huggingface.co/datasets/vasudevgupta/natural-questions-validation/resolve/main/state.json\n",
            "Resolving huggingface.co (huggingface.co)... 15.197.130.34\n",
            "Connecting to huggingface.co (huggingface.co)|15.197.130.34|:443... connected.\n",
            "HTTP request sent, awaiting response... 200 OK\n",
            "Length: 449 [application/json]\n",
            "Saving to: ‘natural-questions-validation/state.json’\n",
            "\n",
            "state.json          100%[===================>]     449  --.-KB/s    in 0s      \n",
            "\n",
            "2021-06-17 19:44:31 (81.4 MB/s) - ‘natural-questions-validation/state.json’ saved [449/449]\n",
            "\n"
          ],
          "name": "stdout"
        }
      ]
    },
    {
      "cell_type": "code",
      "metadata": {
        "id": "q8BttvymQP3u"
      },
      "source": [
        "from datasets import load_from_disk\n",
        "\n",
        "dataset = load_from_disk(\"natural-questions-validation\")\n",
        "dataset"
      ],
      "execution_count": null,
      "outputs": []
    },
    {
      "cell_type": "code",
      "metadata": {
        "id": "bDms6scxZlz6"
      },
      "source": [
        "def format_dataset(sample):\n",
        "  question = sample['question']['text']\n",
        "  context = sample['document']['tokens']['token']\n",
        "  is_html = sample['document']['tokens']['is_html']\n",
        "  long_answers = sample['annotations']['long_answer']\n",
        "  short_answers = sample['annotations']['short_answers']\n",
        "\n",
        "  context_string =  \" \".join([context[i] for i in range(len(context)) if not is_html[i]])\n",
        "\n",
        "  # 0 - No ; 1 - Yes\n",
        "  for answer in sample['annotations']['yes_no_answer']:\n",
        "    if answer == 0 or answer == 1:\n",
        "      return {\"question\": question, \"context\": context_string, \"short\": [], \"long\": [], \"category\": \"no\" if answer == 0 else \"yes\"}\n",
        "\n",
        "  short_targets = []\n",
        "  for s in short_answers:\n",
        "    short_targets.extend(s['text'])\n",
        "  short_targets = list(set(short_targets))\n",
        "\n",
        "  long_targets = []\n",
        "  for s in long_answers:\n",
        "    if s['start_token'] == -1:\n",
        "      continue\n",
        "    answer = context[s['start_token']: s['end_token']]\n",
        "    html = is_html[s['start_token']: s['end_token']]\n",
        "    new_answer = \" \".join([answer[i] for i in range(len(answer)) if not html[i]])\n",
        "    if new_answer not in long_targets:\n",
        "      long_targets.append(new_answer)\n",
        "\n",
        "  category = \"long_short\" if len(short_targets + long_targets) > 0 else \"null\"\n",
        "\n",
        "  return {\"question\": question, \"context\": context_string, \"short\": short_targets, \"long\": long_targets, \"category\": category}"
      ],
      "execution_count": 6,
      "outputs": []
    },
    {
      "cell_type": "code",
      "metadata": {
        "colab": {
          "base_uri": "https://localhost:8080/",
          "height": 66,
          "referenced_widgets": [
            "0f04980be0644c06913d63ffd8a82958",
            "8808952b5160432cbbbfb15ff852ffd2",
            "9c5014cd63324c6aaad7b0f61c8db844",
            "f2c83515bf8a4daebf882b2b518f7bcd",
            "436c64f5f0304489bd5439b414a9b9f5",
            "1860832ef0dc42199b71dba386fc1a3c",
            "ebfdaa4ae19c491583b28a112c6508c9",
            "436e6324fafa475aa6df0e3dc4e74d2a"
          ]
        },
        "id": "ub7MRJdBe247",
        "outputId": "2ccc6460-9381-46f4-81d3-89ba87c45c45"
      },
      "source": [
        "dataset = dataset.map(format_dataset).remove_columns([\"annotations\", \"document\", \"id\"])"
      ],
      "execution_count": 7,
      "outputs": [
        {
          "output_type": "display_data",
          "data": {
            "application/vnd.jupyter.widget-view+json": {
              "model_id": "0f04980be0644c06913d63ffd8a82958",
              "version_minor": 0,
              "version_major": 2
            },
            "text/plain": [
              "HBox(children=(FloatProgress(value=0.0, max=7830.0), HTML(value='')))"
            ]
          },
          "metadata": {
            "tags": []
          }
        },
        {
          "output_type": "stream",
          "text": [
            "\n"
          ],
          "name": "stdout"
        }
      ]
    },
    {
      "cell_type": "code",
      "metadata": {
        "colab": {
          "base_uri": "https://localhost:8080/",
          "height": 183,
          "referenced_widgets": [
            "51774db0339846a18959029a2fc5d8a3",
            "91703e5a2c2a451892c795a43338ca76",
            "bbce539035834922bb4b144c4af90fc3",
            "ed23dce3b4f649a98dbfd74522fa13c4",
            "d3392f2bdb2448beac4af23058e1ba23",
            "caca751167f0439ca15e588c246fad1f",
            "a294775070aa4a87ae9b8b7b93e9a1ba",
            "f3148c68e5e74927a40a40b9ceab3a56",
            "a3cbdb014db24d179e70949c2fd65e2c",
            "a3ebca42ee5248cd92579a5bf4ce451b",
            "6575cd28ca534a18bb25653ff40e8e46",
            "489709c7ea434e29ad7fa07cd3020934",
            "2805d59ab32c4959868356dc3b339eb1",
            "5070346163664da283fe1cb478a359f4",
            "ba7ad814931640a0bac0aa0da6934ccc",
            "fc75f5ac6df241d3bc5dc632080401ff"
          ]
        },
        "id": "O5NZr2cjYLAH",
        "outputId": "41fad852-4267-4acb-f580-59a0206f901d"
      },
      "source": [
        "short_validation_dataset = dataset.filter(lambda x: (len(x['question']) + len(x['context'])) < 4 * 4096)\n",
        "short_validation_dataset = short_validation_dataset.filter(lambda x: x['category'] != \"null\")\n",
        "short_validation_dataset"
      ],
      "execution_count": 8,
      "outputs": [
        {
          "output_type": "display_data",
          "data": {
            "application/vnd.jupyter.widget-view+json": {
              "model_id": "51774db0339846a18959029a2fc5d8a3",
              "version_minor": 0,
              "version_major": 2
            },
            "text/plain": [
              "HBox(children=(FloatProgress(value=0.0, max=8.0), HTML(value='')))"
            ]
          },
          "metadata": {
            "tags": []
          }
        },
        {
          "output_type": "stream",
          "text": [
            "\n"
          ],
          "name": "stdout"
        },
        {
          "output_type": "display_data",
          "data": {
            "application/vnd.jupyter.widget-view+json": {
              "model_id": "a3cbdb014db24d179e70949c2fd65e2c",
              "version_minor": 0,
              "version_major": 2
            },
            "text/plain": [
              "HBox(children=(FloatProgress(value=0.0, max=3.0), HTML(value='')))"
            ]
          },
          "metadata": {
            "tags": []
          }
        },
        {
          "output_type": "stream",
          "text": [
            "\n"
          ],
          "name": "stdout"
        },
        {
          "output_type": "execute_result",
          "data": {
            "text/plain": [
              "Dataset({\n",
              "    features: ['category', 'context', 'long', 'question', 'short'],\n",
              "    num_rows: 1823\n",
              "})"
            ]
          },
          "metadata": {
            "tags": []
          },
          "execution_count": 8
        }
      ]
    },
    {
      "cell_type": "code",
      "metadata": {
        "id": "03nV8RZpYPdI"
      },
      "source": [
        "PUNCTUATION_SET_TO_EXCLUDE = set(''.join(['‘', '’', '´', '`', '.', ',', '-', '\"']))\n",
        "\n",
        "def get_sub_answers(answers, begin=0, end=None):\n",
        "  return [\" \".join(x.split(\" \")[begin:end]) for x in answers if len(x.split(\" \")) > 1]\n",
        "\n",
        "def expand_to_aliases(given_answers, make_sub_answers=False):\n",
        "  if make_sub_answers:\n",
        "    # if answers are longer than one word, make sure a predictions is correct if it coresponds to the complete 1: or :-1 sub word\n",
        "    # *e.g.* if the correct answer contains a prefix such as \"the\", or \"a\"\n",
        "    given_answers = given_answers + get_sub_answers(given_answers, begin=1) + get_sub_answers(given_answers, end=-1)\n",
        "  answers = []\n",
        "  for answer in given_answers:\n",
        "    alias = answer.replace('_', ' ').lower()\n",
        "    alias = ''.join(c if c not in PUNCTUATION_SET_TO_EXCLUDE else ' ' for c in alias)\n",
        "    answers.append(' '.join(alias.split()).strip())\n",
        "  return set(answers)"
      ],
      "execution_count": 9,
      "outputs": []
    },
    {
      "cell_type": "code",
      "metadata": {
        "id": "l5KD7eKaYXdH"
      },
      "source": [
        "def get_best_valid_start_end_idx(start_scores, end_scores, top_k=1, max_size=100):\n",
        "    best_start_scores, best_start_idx = jax.lax.top_k(start_scores, top_k)\n",
        "    best_end_scores, best_end_idx = jax.lax.top_k(end_scores, top_k)\n",
        "\n",
        "    widths = best_end_idx[:, None] - best_start_idx[None, :]\n",
        "    mask = jnp.logical_or(widths < 0, widths > max_size)\n",
        "    scores = (best_end_scores[:, None] + best_start_scores[None, :]) - (1e8 * mask)\n",
        "    best_score = jnp.argmax(scores).item()\n",
        "\n",
        "    return best_start_idx[best_score % top_k], best_end_idx[best_score // top_k]"
      ],
      "execution_count": 26,
      "outputs": []
    },
    {
      "cell_type": "code",
      "metadata": {
        "id": "-rSFgoWeKXyj"
      },
      "source": [
        "import jax\n",
        "import jax.numpy as jnp\n",
        "\n",
        "@jax.jit\n",
        "def forward(*args, **kwargs):\n",
        "  start_logits, end_logits, pooled_logits = model(*args, **kwargs)\n",
        "  return start_logits, end_logits, jnp.argmax(pooled_logits, axis=-1)\n",
        "\n",
        "def evaluate(example):\n",
        "    # encode question and context so that they are seperated by a tokenizer.sep_token and cut at max_length\n",
        "    inputs = tokenizer(example[\"question\"], example[\"context\"], return_tensors=\"jax\", max_length=4096, padding=\"max_length\", truncation=True)\n",
        "\n",
        "    start_scores, end_scores, category = forward(**inputs)\n",
        "\n",
        "    predicted_category = CATEGORY_MAPPING[category.item()]\n",
        "\n",
        "    example['targets'] = example['long'] + example['short']\n",
        "    if example['category'] in ['yes', 'no', 'null']:\n",
        "      example['targets'] = [example['category']]\n",
        "    example['has_tgt'] = example['category'] != 'null'\n",
        "    # Now target can be: \"yes\", \"no\", \"null\", \"list of long & short answers\"\n",
        "\n",
        "    if predicted_category in ['yes', 'no', 'null']:\n",
        "        example['output'] = [predicted_category]\n",
        "        example['match'] = example['output'] == example['targets']\n",
        "        example['has_pred'] = predicted_category != 'null'\n",
        "        return example\n",
        "\n",
        "    max_size = 38 if predicted_category == \"short\" else 1024\n",
        "    start_score, end_score = get_best_valid_start_end_idx(start_scores[0], end_scores[0], top_k=8, max_size=max_size)\n",
        "\n",
        "    input_ids = inputs[\"input_ids\"][0].tolist()\n",
        "    example[\"output\"] = [tokenizer.decode(input_ids[start_score: end_score+1])]\n",
        "\n",
        "    answers = expand_to_aliases(example[\"targets\"], make_sub_answers=True)\n",
        "    predictions = expand_to_aliases(example[\"output\"])\n",
        "\n",
        "    # if there is a common element, it's a exact match\n",
        "    example[\"match\"] = len(list(answers & predictions)) > 0\n",
        "    example[\"has_pred\"] = predicted_category != 'null' and len(predictions) > 0\n",
        "\n",
        "    return example"
      ],
      "execution_count": 24,
      "outputs": []
    },
    {
      "cell_type": "code",
      "metadata": {
        "id": "vG8-p763FjaN",
        "colab": {
          "base_uri": "https://localhost:8080/"
        },
        "outputId": "9f416f09-ffc4-45fb-b04b-11a5a2b0c6a7"
      },
      "source": [
        "import numpy as np\n",
        "from train_nq_flax import FlaxBigBirdForNaturalQuestions\n",
        "from params import CATEGORY_MAPPING\n",
        "from transformers import BigBirdTokenizerFast\n",
        "\n",
        "CATEGORY_MAPPING = {v: k for k, v in CATEGORY_MAPPING.items()}\n",
        "CATEGORY_MAPPING"
      ],
      "execution_count": 13,
      "outputs": [
        {
          "output_type": "execute_result",
          "data": {
            "text/plain": [
              "{0: 'null', 1: 'short', 2: 'long', 3: 'yes', 4: 'no'}"
            ]
          },
          "metadata": {
            "tags": []
          },
          "execution_count": 13
        }
      ]
    },
    {
      "cell_type": "code",
      "metadata": {
        "colab": {
          "base_uri": "https://localhost:8080/",
          "height": 262,
          "referenced_widgets": [
            "d98d3e9cbd284dad81a316bea751210c",
            "d560bef304e342f398b94de5a44966da",
            "e9b50bcb17c84eab8fdb76a5e4fce223",
            "d64928b78e4743939fa517fc3d926587",
            "5a4a0451ac1344bcb954ea0e4ac8a69a",
            "b137623ce69041299ce5c60fc26b1369",
            "602ada2051dc440abd0d8c7756c1e148",
            "778b5b0c5c974e3ca5d6d0e21cd3867b",
            "58f0eb3753d44e9e99e545dda1b700c8",
            "5de37bcdbbdc406e87f3caf34e3ebce5",
            "03d1db51a9c14bbdab3055fa5581f0af",
            "fc9b82cc2e844d29b714313730dd83cb",
            "bdda06b9bbe148a1bae0c3fb1aeb0e50",
            "7e88d5ae1e1441f5824cd306cb4a7428",
            "9fa48e79962e4e36b69265db44f9a985",
            "42ccb1ef8b8449d0af5192881f2068dc",
            "59a706e0357046fda506015239b693ac",
            "e8f6ba3bb37b4ff3a52e568e9497a7f5",
            "52ca1ecd38a64ea698c89c75cedf9c5c",
            "2b10a7e2a2d24808adce010acf63e944",
            "4f97e91bc45a4ba79ef5ed56cb9fddb8",
            "43e152d79b364eb3a74ac5f0589ee980",
            "8a3a0ca47ddb4d79bb45c2a61f19083e",
            "2340472b1ee940699b03c011a7e5f078",
            "cdb5d7430e9d4b92ac62b1f9703b71d4",
            "1680df0d996e43818b4f2cb5e90f7a3e",
            "eeb910875c754b6ba10acf23c6e3849c",
            "a4a494a2d0554923926bfe1d68ab66d1",
            "2e0607c61add495fb836eae144fef5ea",
            "d50b08e2cf1046a694e40094d0b8d7e5",
            "cad3117442cd4604af0213187c27a90f",
            "bade14acf4ac4d0eb871cdf7e1dea371",
            "add4ae9c405c454bb88412b51fcd3b85",
            "bf3280bfab904984a5d71709189eb164",
            "72f328933a4f42be817c21cdeea0bef7",
            "b97c0c275a854b4fa5089e9ac898d016",
            "7174f13c4d034c19986ba9f72da16cf4",
            "93fbb035e8ad42bf9331221910703005",
            "dd6fed7170a843e0aace088d009c0cdb",
            "2aa0d2f5217d40e98b2a4ccf48e01cd3"
          ]
        },
        "id": "FgBtSb7XKfU7",
        "outputId": "a4b17bef-6fb8-4baa-ad8b-63b4fa41cd52"
      },
      "source": [
        "MODEL_ID = \"vasudevgupta/flax-bigbird-natural-questions\"\n",
        "revision = \"27680077ca5a94aae7db1f8ef43da176d3719819\"\n",
        "\n",
        "model = FlaxBigBirdForNaturalQuestions.from_pretrained(MODEL_ID, revision=revision)\n",
        "tokenizer = BigBirdTokenizerFast.from_pretrained(MODEL_ID, revision=revision)"
      ],
      "execution_count": 14,
      "outputs": [
        {
          "output_type": "display_data",
          "data": {
            "application/vnd.jupyter.widget-view+json": {
              "model_id": "d98d3e9cbd284dad81a316bea751210c",
              "version_minor": 0,
              "version_major": 2
            },
            "text/plain": [
              "HBox(children=(FloatProgress(value=0.0, description='Downloading', max=788.0, style=ProgressStyle(description_…"
            ]
          },
          "metadata": {
            "tags": []
          }
        },
        {
          "output_type": "stream",
          "text": [
            "\n"
          ],
          "name": "stdout"
        },
        {
          "output_type": "display_data",
          "data": {
            "application/vnd.jupyter.widget-view+json": {
              "model_id": "58f0eb3753d44e9e99e545dda1b700c8",
              "version_minor": 0,
              "version_major": 2
            },
            "text/plain": [
              "HBox(children=(FloatProgress(value=0.0, description='Downloading', max=528800098.0, style=ProgressStyle(descri…"
            ]
          },
          "metadata": {
            "tags": []
          }
        },
        {
          "output_type": "stream",
          "text": [
            "\n"
          ],
          "name": "stdout"
        },
        {
          "output_type": "display_data",
          "data": {
            "application/vnd.jupyter.widget-view+json": {
              "model_id": "59a706e0357046fda506015239b693ac",
              "version_minor": 0,
              "version_major": 2
            },
            "text/plain": [
              "HBox(children=(FloatProgress(value=0.0, description='Downloading', max=845731.0, style=ProgressStyle(descripti…"
            ]
          },
          "metadata": {
            "tags": []
          }
        },
        {
          "output_type": "stream",
          "text": [
            "\n"
          ],
          "name": "stdout"
        },
        {
          "output_type": "display_data",
          "data": {
            "application/vnd.jupyter.widget-view+json": {
              "model_id": "cdb5d7430e9d4b92ac62b1f9703b71d4",
              "version_minor": 0,
              "version_major": 2
            },
            "text/plain": [
              "HBox(children=(FloatProgress(value=0.0, description='Downloading', max=775.0, style=ProgressStyle(description_…"
            ]
          },
          "metadata": {
            "tags": []
          }
        },
        {
          "output_type": "stream",
          "text": [
            "\n"
          ],
          "name": "stdout"
        },
        {
          "output_type": "display_data",
          "data": {
            "application/vnd.jupyter.widget-view+json": {
              "model_id": "add4ae9c405c454bb88412b51fcd3b85",
              "version_minor": 0,
              "version_major": 2
            },
            "text/plain": [
              "HBox(children=(FloatProgress(value=0.0, description='Downloading', max=1277.0, style=ProgressStyle(description…"
            ]
          },
          "metadata": {
            "tags": []
          }
        },
        {
          "output_type": "stream",
          "text": [
            "\n"
          ],
          "name": "stdout"
        }
      ]
    },
    {
      "cell_type": "code",
      "metadata": {
        "id": "GWiMuSiMK85d",
        "colab": {
          "base_uri": "https://localhost:8080/"
        },
        "outputId": "dde09602-ad13-44b0-9582-eaa98a80ced4"
      },
      "source": [
        "from functools import partial\n",
        "\n",
        "def evaluate_print(example, verbose=False):\n",
        "  example = evaluate(example)\n",
        "  if verbose:\n",
        "    print(\"TARGET\", example[\"short\"] if len(example[\"short\"]) > 0 else example['long'])\n",
        "    print(\"PREDICTION\", example[\"output\"], end=\"\\n\\n\")\n",
        "  return example\n",
        "\n",
        "short_validation_dataset = short_validation_dataset.map(partial(evaluate_print, verbose=False))"
      ],
      "execution_count": 27,
      "outputs": [
        {
          "output_type": "stream",
          "text": [
            "TARGET ['Iltutmish', 'Qutab Ud-Din-Aibak', 'Qutub-ud-din Aibak', \"Aibak's successor and son-in-law Iltutmish\", 'Firoz Shah Tughlaq', 'Qutab-ud-din Aibak']\n",
            "PREDICTION ['Qutab Ud - Din - Aibak']\n",
            "\n",
            "TARGET ['The Ministry of Tourism was a ministry of the Government of Pakistan . It was established to develop the tourism industry in Pakistan . It was abolished after the eighteenth amendment to the Constitution of Pakistan was passed . Its main objectives and functions were largely transferred to the Pakistan Tourism Development Corporation ( PTDC ) .']\n",
            "PREDICTION ['The Ministry of Tourism']\n",
            "\n",
            "TARGET ['Edd Kimber']\n",
            "PREDICTION ['Edd Kimber']\n",
            "\n",
            "TARGET ['Keyshia Cole', 'Guordan Banks and Jessyca Wilson of R&B duo The Righterz', 'Jessyca Wilson', 'Guordan Banks', 'Darhyl Camper, Jr.']\n",
            "PREDICTION ['Guordan Banks']\n",
            "\n",
            "TARGET ['Bosco', 'Merrimen', 'Levi']\n",
            "PREDICTION ['Levi and Bosco']\n",
            "\n",
            "TARGET ['Barry Bonds']\n",
            "PREDICTION ['Barry Bonds']\n",
            "\n",
            "TARGET ['MacFarlane']\n",
            "PREDICTION ['Charles Durning']\n",
            "\n",
            "TARGET ['seven']\n",
            "PREDICTION ['seven']\n",
            "\n",
            "TARGET ['\"victory\", i.e. \"she who brings victory\"', '\"she who brings victory\"', 'she who brings victory']\n",
            "PREDICTION ['she who brings victory']\n",
            "\n",
            "TARGET [\"$2 million in 2011, with a winner's share of $315,600\", \"fixed in United States dollars, was $2 million in 2011, with a winner's share of $315,600\", '$2 million in 2011']\n",
            "PREDICTION ['$2 million']\n",
            "\n",
            "TARGET ['England and Wales']\n",
            "PREDICTION ['England']\n",
            "\n",
            "TARGET ['the drama series Gunsmoke']\n",
            "PREDICTION [\"The title refers to the expression `` Get out of Dodge '', an exhortation that on the drama series Gunsmoke was sometimes given to villains whom the heroes wanted out of Dodge City, Kansas. Get Outta Dodge was the first album with new bassist Tom Kennedy, who replaced Graham Evans. The album was a Juno Award nominee for Best Alternative Album at the Juno Awards of 1998.\"]\n",
            "\n",
            "TARGET ['1923']\n",
            "PREDICTION ['1923']\n",
            "\n",
            "TARGET ['Arvind Subramanian']\n",
            "PREDICTION ['Arvind Subramanian Residence North Block, Secretariat Building, New Delhi Appointer Minister of Finance Succession Siddharth Tiwari The Chief Economic Adviser']\n",
            "\n",
            "TARGET ['May 8, 2014', '2010']\n",
            "PREDICTION ['May 8, 2014']\n",
            "\n",
            "TARGET ['Steve Earle']\n",
            "PREDICTION [\"`` Way Down in the Hole '' is a song written by the singer - songwriter Tom Waits\"]\n",
            "\n",
            "TARGET ['the Four Seasons']\n",
            "PREDICTION ['Gerry Polci']\n",
            "\n",
            "TARGET ['Daryl Lefever', 'Pete Shilaimon', 'Mickey Liddell', 'Cindy Bond', 'Kevin Downes', 'Raymond Harris', 'Joe Knopp']\n",
            "PREDICTION ['Cindy Bond']\n",
            "\n",
            "TARGET ['the fourth C key from left', 'the fourth C key from left on a standard 88-key piano keyboard']\n",
            "PREDICTION ['the fourth C key from left on a standard 88 - key piano keyboard']\n",
            "\n",
            "TARGET [\"In 1997 , Houghton released his eponymous debut album for BMG / RCA , which sold 200,000 copies and earned him a gold disc . The first single from the album , a cover version of the song `` Wind Beneath My Wings '' , reached No. 3 on the UK Singles Chart , while his rendition of Lionel Richie 's 1982 song `` Truly '' reached # 23 in 1998 .\"]\n",
            "PREDICTION [\"Houghton's television credits include regular roles in London's Burning, BUGS, Holby City and Bernard's Watch, a guest role in Doctors and an appearance on French National Television singing the title role in The Phantom of the Opera. Houghton spent time in Ireland playing several roles in a film workshop for new and established directors, including Stephen Frears and Jude Kelly. He is also patron of Footloose Stage School. In January 2011, it was revealed he would join the cast of Coronation Street as a love interest for Sally Webster. His first appearance on screen was in February 2011 and his last on 4 November 2011. Music career ( edit ) In 1997, Houghton released his eponymous debut album for BMG / RCA, which sold 200,000 copies and earned him a gold disc. The first single from the album, a cover version of the song `` Wind Beneath My Wings '', reached No. 3 on the UK Singles Chart, while his rendition of Lionel Richie's 1982 song `` Truly '' reached # 23 in 1998. Houghton was also the first winner of a Stars in Their Eyes celebrity episode, impersonating Tony Hadley of Spandau Ballet and singing the hit song `` Gold ''.\"]\n",
            "\n",
            "TARGET ['Phototropism is the growth of an organism which responds to a light stimulus . It is most often observed in plants , but can also occur in other organisms such as fungi . The cells on the plant that are farthest from the light have a chemical called auxin that reacts when phototropism occurs . This causes the plant to have elongated cells on the farthest side from the light . Phototropism is one of the many plant tropisms or movements which respond to external stimuli . Growth towards a light source is called positive phototropism , while growth away from light is called negative phototropism ( skototropism ) . Most plant shoots exhibit positive phototropism , and rearrange their chloroplasts in the leaves to maximize photosynthetic energy and promote growth . Roots usually exhibit negative phototropism , although gravitropism may play a larger role in root behavior and growth . Some vine shoot tips exhibit negative phototropism , which allows them to grow towards dark , solid objects and climb them . The combination of phototropism and gravitropism allow plants to grow in the correct direction .']\n",
            "PREDICTION ['Phototropism is the growth of an organism which responds to a light stimulus. It is most often observed in plants, but can also occur in other organisms such as fungi. The cells on the plant that are farthest from the light have a chemical called auxin that reacts when phototropism occurs. This causes the plant to have elongated cells on the farthest side from the light.']\n",
            "\n",
            "TARGET ['%SystemRoot%\\\\System32\\\\drivers\\\\etc\\\\hosts']\n",
            "PREDICTION ['SystemRoot %']\n",
            "\n",
            "TARGET ['Cabinet of Nigeria : 11 November 2015 -- Present Portrait Portfolio Incumbent Term President Commander - in - chief of the Nigerian Armed Forces Minister of Petroleum Muhammadu Buhari 2015 -- Vice President Yemi Osinbajo 2015 -- Minister of Justice Attorney General Abubakar Malami 2015 -- Minister of Foreign Affairs Geoffrey Onyeama 2015 -- Minister of Finance Folake Adeosun 2015 -- Minister of Defence Mansur Dan Ali 2015 -- Minister of Education Adamu Adamu 2015 -- Minister of Industry , Trade and Investment Okechukwu Enelamah 2015 -- Minister of Labour and Employment Chris Ngige 2015 -- Minister of Federal Capital Territory Mohammed Musa Bello 2015 -- Minister of Science and Technology Ogbonnaya Onu 2015 -- Minister of Solid Minerals John Kayode Fayemi 2015 -- Minister of Interior Abdulrahman Bello Dambazau 2015 -- Minister of Budget and National Planning Udoma Udo Udoma 2015 -- Minister of Power , Works and Housing Babatunde Fashola 2015 -- Minister of Agriculture and Rural Development Audu Ogbeh 2015 -- Minister of Transportation Rotimi Amaechi 2015 -- Minister of Health Isaac Adewole 2015 -- Minister of Women Affairs Aisha Alhassan 2015 -- Minister of Niger Delta Usani Uguru Usani 2015 -- Minister of Information Lai Mohammed 2015 -- Minister of Environment Amina J. Mohammed 2015 -- 2016 Minister of Water Resources Suleiman Adamu Kazaure 2015 -- Minister of Youth and Sports Solomon Dalong 2015 -- Minister of State for Aviation Sirika Hadi 2015 -- Minister of State for Environment Ibrahim Jibrin 2015 -- Minister of State for Foreign Affairs Khadija Bukar Abba Ibrahim 2015 -- Minister of State for Solid Minerals Bawa Bwari Abubakar 2015 -- Minister of State for Health Osagie Ehanire 2015 -- Minister of State for Niger Delta Omole Daramola 2015 -- Minister of State for Power , Works and Housing Mustapha Baba Shauri 2015 -- Minister of State for Power , Works and Housing Suleiman Hassan 2017 -- Minister of State for Education Anthony Onwuka 2015 -- Minister of State for Agriculture and Rural Development Heineken Lokpobiri 2015 -- Minister of State for Labour and Employment Stephen Ocheni 2017 -- * * Minister of State for Budget and National Planning Zainab Ahmed 2015 -- Minister for Communication Adebayo Shittu 2015 -- Minister of State for Industry , Trade and Investment Aisha Abubakar 2015 -- Minister of State for Petroleum Emmanuel Ibe Kachikwu 2015 --']\n",
            "PREDICTION ['Cabinet of Nigeria : 11 November 2015 -- Present Portrait Portfolio Incumbent Term President Commander - in - chief of the Nigerian Armed Forces Minister of Petroleum Muhammadu Buhari 2015 -- Vice President Yemi Osinbajo 2015 -- Minister of Justice Attorney General Abubakar Malami 2015 -- Minister of Foreign Affairs Geoffrey Onyeama 2015 -- Minister of Finance Folake Adeosun 2015 -- Minister of Defence Mansur Dan Ali 2015 -- Minister of Education Adamu Adamu 2015 -- Minister of Industry, Trade and Investment Okechukwu Enelamah 2015 -- Minister of Labour and Employment Chris Ngige 2015 -- Minister of Federal Capital Territory Mohammed Musa Bello 2015 -- Minister of Science and Technology Ogbonnaya Onu 2015 -- Minister of Solid Minerals John Kayode Fayemi 2015 -- Minister of Interior Abdulrahman Bello Dambazau 2015 -- Minister of Budget and National Planning Udoma Udo Udoma 2015 -- Minister of Power, Works and Housing Babatunde Fashola 2015 -- Minister of Agriculture and Rural Development Audu Ogbeh 2015 -- Minister of Transportation Rotimi Amaechi 2015 -- Minister of Health Isaac Adewole 2015 -- Minister of Women Affairs Aisha Alhassan 2015 -- Minister of Niger Delta Usani Uguru Usani 2015 -- Minister of Information Lai Mohammed 2015 -- Minister of Environment Amina J. Mohammed 2015 -- 2016 Minister of Water Resources Suleiman Adamu Kazaure 2015 -- Minister of Youth and Sports Solomon Dalong 2015 -- Minister of State for Aviation Sirika Hadi 2015 -- Minister of State for Environment Ibrahim Jibrin 2015 -- Minister of State for Foreign Affairs Khadija Bukar Abba Ibrahim 2015 -- Minister of State for Solid Minerals Bawa Bwari Abubakar 2015 -- Minister of State for Health Osagie Ehanire 2015 -- Minister of State for Niger Delta Omole Daramola 2015 -- Minister of State for Power, Works and Housing Mustapha Baba Shauri 2015 -- Minister of State for Power, Works and Housing Suleiman Hassan 2017 -- Minister of State for Education Anthony Onwuka 2015 -- Minister of State for Agriculture and Rural Development Heineken Lokpobiri 2015 -- Minister of State for Labour and Employment Stephen Ocheni 2017 -- * * Minister of State for Budget and National Planning Zainab Ahmed 2015 -- Minister for Communication Adebayo Shittu 2015 -- Minister of State for Industry, Trade and Investment Aisha Abubakar 2015 -- Minister of State for Petroleum Emmanuel Ibe Kachikwu 2015 -- Predecessor, James Ocholi Died in Office']\n",
            "\n",
            "TARGET [\"Although butchers may label top round steak or roast `` London broil '' , the term does not refer to a specific cut of meat but to a method of preparation and cookery .\"]\n",
            "PREDICTION ['broiling marinated beef']\n",
            "\n",
            "TARGET ['devised by Leonard Nimoy, who portrayed the half-Vulcan character Mr. Spock on the original Star Trek television series']\n",
            "PREDICTION ['The Vulcan salute was devised by Leonard Nimoy']\n",
            "\n",
            "TARGET ['possibly brought from the Byzantine Empire (as Μανουήλ) to Spain and Portugal, where it has been used since at least the 13th century']\n",
            "PREDICTION ['Manuel is a male given name originating in the Hebrew']\n",
            "\n",
            "TARGET ['The higher the vapor pressure of a liquid at a given temperature']\n",
            "PREDICTION [\"In chemistry and physics, volatility is quantified by the tendency of a substance to vaporize. Volatility is directly related to a substance's vapor pressure. At a given temperature, a substance with higher vapor pressure vaporizes more readily than a substance with a lower vapor pressure. The term is primarily written to be applied to liquids ; however, it may be used to describe the process of sublimation which is associated with solid substances, such as dry ice ( solid carbon dioxide ) and osmium tetroxide ( OsO ), which can change directly from the solid state to a vapor, without becoming liquid.\"]\n",
            "\n",
            "TARGET ['\"The Price of Love\" (performed by Roger Daltrey)', '\"Water Fountain\" (performed by David Foster)', '\"Heaven and the Heartaches\" (performed by Taxxi)', '\"Riskin\\' a Romance\" (performed by Bananarama)', '\"I Burn for You\" (performed by Danny Peck and Nancy Shanks)', '\"Sometimes the Good Guys Finish First\" (performed by Pat Benatar)', '\"The Secret of My Success\" (performed by Night Ranger)', '\"3 Themes\" (performed by David Foster)', '\"Don\\'t Ask the Reason Why\" (performed by Restless Heart)', '\"Gazebo\" (performed by David Foster)']\n",
            "PREDICTION [\"`` The Secret of My Success '' ( performed by Night Ranger ) `` Sometimes the Good Guys Finish First '' ( performed by Pat Benatar ) `` I Burn for You '' ( performed by Danny Peck and Nancy Shanks ) `` Riskin'a Romance '' ( performed by Bananarama ) `` Gazebo '' ( performed by David Foster ) `` The Price of Love '' ( performed by Roger Daltrey ) `` Water Fountain '' ( performed by David Foster ) `` Don't Ask the Reason Why '' ( performed by Restless Heart ) `` 3 Themes '' ( performed by David Foster ) `` Heaven and the Heartaches ''\"]\n",
            "\n",
            "TARGET ['Jack Nicklaus']\n",
            "PREDICTION ['Jack Nicklaus']\n",
            "\n",
            "TARGET ['Fourth Revised Edition', '2003', '\"Fourth Revised Edition\" ISBN 0-06-015547-7']\n",
            "PREDICTION ['G665']\n",
            "\n",
            "TARGET ['mashed potato', 'minced meat']\n",
            "PREDICTION ['ground beef']\n",
            "\n",
            "TARGET ['May 29, 2018']\n",
            "PREDICTION ['May 29, 2018']\n",
            "\n",
            "TARGET ['Chromium ( II ) sulfate refers to inorganic compounds with the chemical formula CrSO n H O. Several closely related hydrated salts are known . The pentahydrate is a blue solid that dissolves readily in water . Solutions of chromium ( II ) are easily oxidized by air to Cr ( III ) species . Solutions of Cr ( II ) are used as specialized reducing agents of value in organic synthesis .']\n",
            "PREDICTION ['Chromium ( II ) sulfate refers to inorganic compounds with the chemical formula CrSO n H O. Several closely related hydrated salts are known. The pentahydrate is a blue solid that dissolves readily in water. Solutions of chromium ( II ) are easily oxidized by air to Cr ( III ) species. Solutions of Cr ( II ) are used as specialized reducing agents of value in organic synthesis. The salt is produced by treating chromium metal with aqueous sulfuric acid : Cr + H SO + 5 H O <unk> CrSO 5 H O + H It can be produced through the reaction of sulfate salts and chromium ( II ) acetate or, for in situ use, the reduction of chromium ( III ) sulfate with zinc.']\n",
            "\n",
            "TARGET ['Appointed']\n",
            "PREDICTION ['State / territory Name Title Name of Office Elected / Appointed Alabama Jim L. Ridling Commissioner Alabama Department of Insurance Appointed Alaska Lori K. Wing - Heier Director Alaska Division of Insurance Appointed American Samoa Peter Fuimaono Commissioner Office of the Governor Appointed Arizona Leslie Hess Interim Director Arizona Department of Insurance Appointed Arkansas Allen W. Kerr Commissioner Arkansas Insurance Department Appointed California Dave Jones Commissioner California Department of Insurance Elected Colorado Marguerite Salazar Commissioner Colorado Division of Insurance Appointed Connecticut Katharine L. Wade Commissioner Connecticut Insurance Department Appointed Delaware Trinidad Navarro Commissioner Delaware Department of Insurance Elected District of Columbia Stephen C. Taylor Commissioner District of Columbia Department of Insurance, Securities, and Banking Appointed Florida David Altmaier Commissioner Florida Office of Insurance Regulation Appointed Georgia Ralph Hudgens Commissioner Office of Insurance and Safety Fire Commissioner Elected Guam Artemio B. Ilagan Commissioner Guam Department of Revenue and Taxation Appointed Hawaii Gordon I. Ito Commissioner Hawaii Insurance Division Appointed Idaho Dean Cameron Director Idaho Department of Insurance Appointed Illinois Jennifer Hammer Director Illinois Department of Insurance Appointed Indiana Stephen W. Robertson Commissioner Indiana Department of Insurance Appointed Iowa Doug Ommen Commissioner Iowa Insurance Division Appointed Kansas Ken Selzer Commissioner Kansas Insurance Department Elected Kentucky Bryan Maynard Commissioner Kentucky Department of Insurance Appointed Louisiana James J. Donelon Commissioner Louisiana Department of Insurance Elected Maine Eric A. Cioppa Superintendent Maine Bureau of Insurance Appointed Maryland Al Redmer Jr. Commissioner Maryland Insurance Administration Appointed Massachusetts Gary D. Anderson Acting Commissioner Massachusetts Division of Insurance Appointed Michigan Patrick M. Mcpharlin Director Michigan Department of Insurance and Financial Services Appointed Minnesota Mike Rothman Commissioner Minnesota Department of Commerce Appointed Mississippi Mike Chaney Commissioner Mississippi Insurance Department Elected Missouri Chlora Lindley - Myers Acting Director Missouri Department of Insurance, Financial Institutions and Professional Registration Appointed Montana Matthew Rosendale Commissioner Montana Office of the Commissioner of Securities and Insurance Elected Nebraska Bruce R. Ramge Director Nebraska Department of Insurance Appointed Nevada Barbara D. Richardson Commissioner Nevada Division of Insurance Appointed New Hampshire Roger A. Sevigny Commissioner New Hampshire Insurance Department Appointed New Jersey Richard J. Badolato Commissioner New Jersey Department of Banking and Insurance Appointed New Mexico John G. Franchini Superintendent New Mexico Office of Superintendent of Insurance Appointed New York Maria T. Vullo Superintendent New York State Department of Financial Services Appointed North Carolina Mike Causey Commissioner North Carolina Department of Insurance Elected North Dakota John Godfread Commissioner North Dakota Insurance Department Elected Northern Mariana Islands Mark O. Rabauliman Secretary of Commerce Office of the Insurance Commissioner Appointed Ohio Jillian Froment Director Ohio Department of Insurance Appointed Oklahoma John D. Doak Commissioner Oklahoma Insurance Department Elected Oregon Laura Cali Robison Commissioner Oregon Insurance Division Appointed Pennsylvania Teresa Miller Commissioner Pennsylvania Insurance Department Appointed Puerto Rico Javier Rivera Rios Commissioner Office of the Commissioner of Insurance Appointed Rhode Island Elizabeth Kelleher Dwyer Superintendent Rhode Island Division of Insurance Appointed South Carolina Raymond G. Farmer Director South Carolina Department of Insurance Appointed South Dakota Larry Deiter Director South Dakota Division of Insurance Appointed Tennessee Julie Mix McPeak Commissioner Tennessee Department of Commerce and Insurance Appointed Texas David Mattax Commissioner Texas Department of Insurance Appointed Utah Todd E. Kiser Commissioner Utah Insurance Department Appointed U.S. Virgin Islands Osbert Potter Lt. Governor / Commissioner Division of Banking and Insurance Elected Vermont Michael S. Pieciak Commissioner Vermont Department of Financial Regulation Appointed Virginia Jacqueline K. Cunningham Commissioner Virginia Bureau of Insurance Appointed Washington Mike Kreidler Commissioner Washington Office of the Insurance Commissioner Elected West Virginia Allan L. McVey Commissioner West Virginia Offices of the Insurance Commissioner Appointed Wisconsin Ted Nickel Commissioner Wisconsin Office of the Commissioner of Insurance Appointed Wyoming Tom Glause Commissioner Wyoming Insurance Department Appointed']\n",
            "\n",
            "TARGET ['Start date End date Heavenly Branch 4 February 1935 23 January 1936 Wood Pig 22 January 1947 9 February 1948 Fire Pig 8 February 1959 27 January 1960 Earth Pig 27 January 1971 14 February 1972 Metal Pig 13 February 1983 1 February 1984 Water Pig 31 January 1995 18 February 1996 Wood Pig 18 February 2007 6 February 2008 Fire Pig 5 February 2019 24 January 2020 Earth Pig 23 January 2031 10 February 2032 Metal Pig 10 February 2043 29 January 2044 Water Pig']\n",
            "PREDICTION [\"People born within these date ranges can be said to have been born in the `` Year of the Pig '', while also bearing the following elemental sign : Since the Chinese zodiac follows the Lunar calendar, it does not coincide with the Gregorian calendar years or months. Thus, a person born on February 9, 1899 still belongs to the preceding zodiac ( i.e. the Dog ) while those born on January 31, 1900 already belongs to the following zodiac ( i.e. the Rat ).\"]\n",
            "\n",
            "TARGET [\"Michel'le Studio album by Michel'le Released October 23 , 1989 Recorded 1988 - 1989 Genre New jack swing soul R&B hip hop Length 45 : 28 Label Ruthless Atco Atlantic Producer Eazy - E ( exec . ) Dr. Dre L.A. Dre ( co - . ) Michel'le chronology Michel'le ( 1989 ) Hung Jury ( 1998 ) Hung Jury 1998 Singles from Michel'le `` No More Lies '' Released : 1989 `` Nicety '' Released : 1990 `` Keep Watchin ' '' Released : 1990 `` Something in My Heart '' Released : 1990 `` If ? '' Released : 1991\", \"`` Something in My Heart '' Released : 1990\"]\n",
            "PREDICTION ['October 23, 1989']\n",
            "\n",
            "TARGET ['British singer-songwriter Gary Barlow']\n",
            "PREDICTION ['Gary Barlow']\n",
            "\n",
            "TARGET ['Bill Russell']\n",
            "PREDICTION ['Bill Russell']\n",
            "\n",
            "TARGET ['Andy Warhol']\n",
            "PREDICTION ['Andy Warhol']\n",
            "\n",
            "TARGET ['the college football player judged by a panel of sportscasters, sportswriters, and National Collegiate Athletic Association head coaches and the membership of the Maxwell Football Club to be the best all-around in the United States']\n",
            "PREDICTION [\"Year Player School Ref 1937 Clint Frank Yale 1938 Davey O'Brien TCU 1939 Nile Kinnick Iowa 1940 Tom Harmon Michigan 1941 Bill Dudley Virginia 1942 Paul Governali Columbia 1943 Bob Odell Pennsylvania 1944 Glenn Davis Army 1945 Doc Blanchard Army 1946 Charley Trippi Georgia 1947 Doak Walker SMU 1948 Chuck Bednarik Pennsylvania 1949 Leon Hart Notre Dame 1950 Reds Bagnell Pennsylvania 1951 Dick Kazmaier Princeton 1952 Johnny Lattner Notre Dame 1953 Johnny Lattner Notre Dame 1954 Ron Beagle Navy 1955 Howard Cassady Ohio State 1956 Tommy McDonald Oklahoma 1957 Bob Reifsnyder Navy 1958 Pete Dawkins Army 1959 Richie Lucas Penn State 1960 Joe Bellino Navy 1961 Bob Ferguson Ohio State 1962 Terry Baker Oregon State 1963 Roger Staubach Navy 1964 Glenn Ressler Penn State 1965 Tommy Nobis Texas 1966 Jim Lynch Notre Dame 1967 Gary Beban UCLA 1968 O.J. Simpson USC 1969 Mike Reid Penn State 1970 Jim Plunkett Stanford 1971 Ed Marinaro Cornell 1972 Brad Van Pelt Michigan State 1973 John Cappelletti Penn State Steve Joachim Temple Archie Griffin Ohio State 1976 Tony Dorsett Pittsburgh 1977 Ross Browner Notre Dame 1978 Chuck Fusina Penn State 1979 Charles White USC 1980 Hugh Green Pittsburgh 1981 Marcus Allen USC 1982 Herschel Walker Georgia Mike Rozier Nebraska 1984 Doug Flutie Boston College 1985 Chuck Long Iowa 1986 Vinny Testaverde Miami Don McPherson Syracuse Barry Sanders Oklahoma State Anthony Thompson Indiana Ty Detmer BYU 1991 Desmond Howard Michigan Gino Torretta Miami Charlie Ward Florida State Kerry Collins Penn State 1995 Eddie George Ohio State Danny Wuerffel Florida Peyton Manning Tennessee 1998 Ricky Williams Texas 1999 Ron Dayne Wisconsin 2000 Drew Brees Purdue Ken Dorsey Miami 2002 Larry Johnson Penn State 2003 Eli Manning Ole Miss Jason White Oklahoma 2005 Vince Young Texas 2006 Brady Quinn Notre Dame 2007 Tim Tebow Florida 2008 Tim Tebow Florida 2009 Colt McCoy Texas Cam Newton Auburn 2011 Andrew Luck Stanford 2012 Manti Te'o Notre Dame 2013 AJ McCarron Alabama 2014 Marcus Mariota Oregon 2015 Derrick Henry Alabama 2016 Lamar Jackson Louisville 2017 Baker Mayfield Oklahoma\"]\n",
            "\n",
            "TARGET ['2010', '1984']\n",
            "PREDICTION ['2010']\n",
            "\n",
            "TARGET ['He put her in a pumpkin shell And there he kept her very well .']\n",
            "PREDICTION ['Peter']\n",
            "\n",
            "TARGET ['a former sexual or romantic partner', 'someone with whom a person was once associated, in a relationship']\n",
            "PREDICTION [\"In social relationships, an ex ( plural is exes ) is someone with whom a person was once associated, in a relationship, marriage, or once talked to. As a prefix, ex - can refer to a variety of different relationships ; for example, one might refer to a music group's ex-guitarist, or someone's ex-friend. When used alone, ex as a noun is assumed to refer to a former sexual or romantic partner, especially a former spouse. This often has a derogatory tinge, especially if it refers to unrequited feelings.\"]\n",
            "\n",
            "TARGET [\"No . Title Performer ( s ) Length 1 . `` Overture '' ( Score ) Alan Menken 3 : 05 2 . `` Main Title : Prologue Pt. 1 '' Hattie Morahan ( narration ) 0 : 42 3 . `` Aria '' Audra McDonald 1 : 02 4 . `` Main Title : Prologue Pt. 2 '' Hattie Morahan ( narration ) 2 : 21 5 . `` Belle '' Emma Watson , Luke Evans , Ensemble 5 : 33 6 . `` How Does a Moment Last Forever ( Music Box ) '' Kevin Kline 1 : 03 7 . `` Belle ( Reprise ) '' Emma Watson 1 : 15 8 . `` Gaston '' Luke Evans , Josh Gad , Ensemble 4 : 25 9 . `` Be Our Guest '' Ewan McGregor , Emma Thompson , Gugu Mbatha - Raw and Ian McKellen 4 : 48 10 . `` Days in the Sun '' Adam Mitchell , Stanley Tucci , Ewan McGregor , Gugu Mbatha - Raw , Emma Thompson , Audra McDonald , Emma Watson , Ian McKellen , Clive Rowe 2 : 40 11 . `` Something There '' Emma Watson , Dan Stevens , Emma Thompson , Nathan Mack , Ian McKellen , Ewan McGregor , Gugu Mbatha - Raw 2 : 54 12 . `` How Does a Moment Last Forever ( Montmartre ) '' Emma Watson 1 : 55 13 . `` Beauty and the Beast '' Emma Thompson 3 : 19 14 . `` Evermore '' Dan Stevens 3 : 14 15 . `` The Mob Song '' Luke Evans , Josh Gad , Ensemble , Emma Watson , Ian McKellen , Stanley Tucci , Nathan Mack , Gugu Mbatha - Raw , Ewan McGregor , Gerard Horan , Haydn Gwynne 2 : 28 16 . `` Beauty and the Beast ( Finale ) '' Audra McDonald , Emma Thompson , Ensemble 2 : 14 17 . `` How Does a Moment Last Forever '' Celine Dion 3 : 37 18 . `` Beauty and the Beast '' Ariana Grande & John Legend 3 : 47 19 . `` Evermore '' Josh Groban 3 : 09 Total length : 53 : 31\", \"The album , largely based on material from Disney 's 1991 animated version , features songs and instrumental score composed by Alan Menken with lyrics by Howard Ashman and three new songs composed by Alan Menken with lyrics by Tim Rice . The songs feature vocal performances by the film 's ensemble cast including Emma Watson , Dan Stevens , Luke Evans , Kevin Kline , Josh Gad , Ewan McGregor , Stanley Tucci , Audra McDonald , Gugu Mbatha - Raw , Nathan Mack , Ian McKellen , and Emma Thompson .\"]\n",
            "PREDICTION [\"No. Title Performer ( s ) Length 1. `` Overture '' ( Score ) Alan Menken 3 : 05 2. `` Main Title : Prologue Pt. 1 '' Hattie Morahan ( narration ) 0 : 42 3. `` Aria '' Audra McDonald 1 : 02 4. `` Main Title : Prologue Pt. 2 '' Hattie Morahan ( narration ) 2 : 21 5. `` Belle '' Emma Watson, Luke Evans, Ensemble 5 : 33 6. `` How Does a Moment Last Forever ( Music Box ) '' Kevin Kline 1 : 03 7. `` Belle ( Reprise ) '' Emma Watson 1 : 15 8. `` Gaston '' Luke Evans, Josh Gad, Ensemble 4 : 25 9. `` Be Our Guest '' Ewan McGregor, Emma Thompson, Gugu Mbatha - Raw and Ian McKellen 4 : 48 10. `` Days in the Sun '' Adam Mitchell, Stanley Tucci, Ewan McGregor, Gugu Mbatha - Raw, Emma Thompson, Audra McDonald, Emma Watson, Ian McKellen, Clive Rowe 2 : 40 11. `` Something There '' Emma Watson, Dan Stevens, Emma Thompson, Nathan Mack, Ian McKellen, Ewan McGregor, Gugu Mbatha - Raw 2 : 54 12. `` How Does a Moment Last Forever ( Montmartre ) '' Emma Watson 1 : 55 13. `` Beauty and the Beast '' Emma Thompson 3 : 19 14. `` Evermore '' Dan Stevens 3 : 14 15. `` The Mob Song '' Luke Evans, Josh Gad, Ensemble, Emma Watson, Ian McKellen, Stanley Tucci, Nathan Mack, Gugu Mbatha - Raw, Ewan McGregor, Gerard Horan, Haydn Gwynne 2 : 28 16. `` Beauty and the Beast ( Finale ) '' Audra McDonald, Emma Thompson, Ensemble 2 : 14 17. `` How Does a Moment Last Forever '' Celine Dion 3 : 37 18. `` Beauty and the Beast '' Ariana Grande & John Legend 3 : 47 19. `` Evermore '' Josh Groban 3 : 09 Total length : 53 : 31\"]\n",
            "\n",
            "TARGET ['31 March 2018']\n",
            "PREDICTION ['31 March 2018']\n",
            "\n",
            "TARGET ['in Pechoggin, Wisconsin', 'Wisconsin', 'at a lake resort in Pechoggin, Wisconsin', 'a lake resort in Pechoggin, Wisconsin']\n",
            "PREDICTION ['Wisconsin']\n",
            "\n",
            "TARGET ['2026']\n",
            "PREDICTION ['2026']\n",
            "\n",
            "\n"
          ],
          "name": "stdout"
        }
      ]
    },
    {
      "cell_type": "code",
      "metadata": {
        "id": "a5hs_Ym4Lc-2",
        "colab": {
          "base_uri": "https://localhost:8080/",
          "height": 83,
          "referenced_widgets": [
            "845adf1876534a48901d905ed28ef8c0",
            "aa1ad0b797ee429e8688c1049391e3bf",
            "3270cfea813d40688a589f8dc3db122d",
            "86949f5fdbef4702a5d1798b0a41a93a",
            "1494a2d267014b38bf4ffd1dc2cc1c76",
            "5eae8a7197424cc9a1ded3bbb926f514",
            "9992e9a708af414fa7ce28732af484bf",
            "e8140e8709024ecb8ed7ede87f4ef9ac"
          ]
        },
        "outputId": "eb6e4a51-c6b5-4107-957c-ab1004eb8b6a"
      },
      "source": [
        "total = len(short_validation_dataset)\n",
        "matched = len(short_validation_dataset.filter(lambda x: x[\"match\"] == 1))\n",
        "print(\"EM score:\", (matched / total)*100, \"%\")"
      ],
      "execution_count": 28,
      "outputs": [
        {
          "output_type": "display_data",
          "data": {
            "application/vnd.jupyter.widget-view+json": {
              "model_id": "845adf1876534a48901d905ed28ef8c0",
              "version_minor": 0,
              "version_major": 2
            },
            "text/plain": [
              "HBox(children=(FloatProgress(value=0.0, max=2.0), HTML(value='')))"
            ]
          },
          "metadata": {
            "tags": []
          }
        },
        {
          "output_type": "stream",
          "text": [
            "\n",
            "EM score: 38.562808557323095 %\n"
          ],
          "name": "stdout"
        }
      ]
    },
    {
      "cell_type": "markdown",
      "metadata": {
        "id": "tyql0RUKVP-G"
      },
      "source": [
        "We are getting **Exact Match ~ 47.45** 💥💥\n",
        "<!-- # this f1 is as per official nq script from here (https://github.com/google-research-datasets/natural-questions/blob/master/nq_eval.py)\n",
        "has_pred = len(short_validation_dataset.filter(lambda x: x[\"has_pred\"]))\n",
        "has_tgt = len(short_validation_dataset.filter(lambda x: x[\"has_tgt\"]))\n",
        "matched = len(short_validation_dataset.filter(lambda x: x[\"match\"]))\n",
        "precision = matched / has_pred\n",
        "recall = matched / has_tgt\n",
        "print(\"F1 score:\", 2*precision*recall / (precision + recall)) -->"
      ]
    },
    {
      "cell_type": "code",
      "metadata": {
        "id": "8GFcWmv-QFMB"
      },
      "source": [
        ""
      ],
      "execution_count": null,
      "outputs": []
    }
  ]
}