{
 "metadata": {
  "language_info": {
   "codemirror_mode": {
    "name": "ipython",
    "version": 3
   },
   "file_extension": ".py",
   "mimetype": "text/x-python",
   "name": "python",
   "nbconvert_exporter": "python",
   "pygments_lexer": "ipython3",
   "version": "3.7.3-final"
  },
  "orig_nbformat": 2,
  "kernelspec": {
   "name": "python373jvsc74a57bd031f2aee4e71d21fbe5cf8b01ff0e069b9275f58929596ceb00d14d90e3e16cd6",
   "display_name": "Python 3.7.3 64-bit"
  },
  "metadata": {
   "interpreter": {
    "hash": "31f2aee4e71d21fbe5cf8b01ff0e069b9275f58929596ceb00d14d90e3e16cd6"
   }
  }
 },
 "nbformat": 4,
 "nbformat_minor": 2,
 "cells": [
  {
   "cell_type": "code",
   "execution_count": 2,
   "metadata": {},
   "outputs": [],
   "source": [
    "import torch\n",
    "from transformers import BigBirdForQuestionAnswering, BigBirdTokenizer"
   ]
  },
  {
   "cell_type": "code",
   "execution_count": 4,
   "metadata": {},
   "outputs": [
    {
     "output_type": "stream",
     "name": "stderr",
     "text": [
      "Downloading: 100%|██████████| 846k/846k [00:01<00:00, 842kB/s] \n",
      "Downloading: 100%|██████████| 775/775 [00:00<00:00, 200kB/s]\n",
      "Downloading: 100%|██████████| 943/943 [00:00<00:00, 212kB/s]\n"
     ]
    }
   ],
   "source": [
    "model_id = \"google/bigbird-base-trivia-itc\"\n",
    "model = BigBirdForQuestionAnswering.from_pretrained(model_id, block_size=16, num_random_blocks=3)\n",
    "tokenizer = BigBirdTokenizer.from_pretrained(model_id)"
   ]
  },
  {
   "cell_type": "code",
   "execution_count": 37,
   "metadata": {},
   "outputs": [],
   "source": [
    "context = \"🤗 Transformers (formerly known as pytorch-transformers and pytorch-pretrained-bert) provides general-purpose architectures (BERT, GPT-2, RoBERTa, XLM, DistilBert, XLNet…) for Natural Language Understanding (NLU) and Natural Language Generation (NLG) with over 32+ pretrained models in 100+ languages and deep interoperability between TensorFlow 2.0 and PyTorch. Extractive Question Answering is the task of extracting an answer from a text given a question. An example of a question answering dataset is the SQuAD dataset\""
   ]
  },
  {
   "cell_type": "code",
   "execution_count": 38,
   "metadata": {},
   "outputs": [],
   "source": [
    "def get_answer(question, context):\n",
    "    encoding = tokenizer(question, context, return_tensors=\"pt\", max_length=128, padding=\"max_length\", truncation=True)\n",
    "    input_ids = encoding.input_ids\n",
    "    attention_mask = encoding.attention_mask\n",
    "\n",
    "    with torch.no_grad():\n",
    "        start_scores, end_scores = model(input_ids=input_ids, attention_mask=attention_mask).to_tuple()\n",
    "\n",
    "    # Let's take the most likely token using `argmax` and retrieve the answer\n",
    "    all_tokens = tokenizer.convert_ids_to_tokens(encoding[\"input_ids\"][0].tolist())\n",
    "\n",
    "    answer_tokens = all_tokens[torch.argmax(start_scores): torch.argmax(end_scores)+1]\n",
    "    answer = tokenizer.decode(tokenizer.convert_tokens_to_ids(answer_tokens))\n",
    "\n",
    "    return answer"
   ]
  },
  {
   "cell_type": "code",
   "execution_count": 39,
   "metadata": {},
   "outputs": [
    {
     "output_type": "execute_result",
     "data": {
      "text/plain": [
       "'32'"
      ]
     },
     "metadata": {},
     "execution_count": 39
    }
   ],
   "source": [
    "question = \"How many pretrained models are available in 🤗 Transformers?\"\n",
    "get_answer(question, context)"
   ]
  },
  {
   "cell_type": "code",
   "execution_count": null,
   "metadata": {},
   "outputs": [],
   "source": []
  },
  {
   "cell_type": "code",
   "execution_count": 3,
   "metadata": {},
   "outputs": [],
   "source": [
    "import torch\n",
    "from transformers import BigBirdPegasusForConditionalGeneration, BigBirdPegasusTokenizer"
   ]
  },
  {
   "cell_type": "code",
   "execution_count": 32,
   "metadata": {},
   "outputs": [],
   "source": [
    "model_id = \"vasudevgupta/bigbird-pegasus-large-bigpatent\"\n",
    "model = BigBirdPegasusForConditionalGeneration.from_pretrained(model_id, attention_type=\"original_full\")\n",
    "tokenizer = BigBirdPegasusTokenizer.from_pretrained(model_id)"
   ]
  },
  {
   "cell_type": "code",
   "execution_count": 33,
   "metadata": {},
   "outputs": [],
   "source": [
    "article = \"\"\"Punjab Kings new recruit Shahrukh Khan was spotted having a conversation with MS Dhoni after Chennai Super Kings cruised to a six-wicket win at the Wankhede Stadium on Friday. \n",
    "Khan made 47 off 36 balls and helped his side cross 100 after Deepak Chahar's four-for ran through Punjab's top-order. In the end, PBKS managed to gather only 106 for eight after reeling at 27 for five, and an attacking 66-run stand between Moeen Ali and Faf du Plessis helped CSK register their first victory of the season. \n",
    "After the win, skipper Dhoni, playing his 200th match for the Chennai-based outfit, was spotted passing tips to Shahrukh. The picture instantly went viral on social space after the official Twitter handle of IPL shared it after the match. Chennai Super Kings' official Twitter handle also shared a picture of a young Shahrukh and praised the 25-year-old's knock. Shahrukh had won the best all-rounder award at a Chennai Super Kings junior tournament when he was around 14.\n",
    "\"Lion forever! Well played Shahrukh, our Junior Super King, now a Punjab King,\" tweeted the franchise. \n",
    "Shahrukh, who has been entrusted with the task of finishing off matches for Punjab Kings, said that he has the ability to adapt and skills to bat anywhere.\n",
    "\"My role is playing down the order as a finisher but you don't expect to go out and blast in every game because there will be situations where the team bundles out and you need to take responsibility and see the team through,\" he said at the post-match press conference.\n",
    "Known for his big-hitting prowess, the Tamil Nadu batsman struck jackpot with  INR 5.25 crore bid from Punjab Kings in the mini-auction earlier this year. \n",
    "\"I'm branded as a complete finisher. I am a good batsman, I was batting up the order for Tamil Nadu for a couple of years.So, I've been batting at the top order. I've the skill in me to bat and see the team through in tough situations.\n",
    "\"I think I've really developed my game as a finisher in the last couple of years but still, my core game is still with me- See the ball and play normal cricketing shots,\" he added.\"\"\""
   ]
  },
  {
   "cell_type": "code",
   "execution_count": 34,
   "metadata": {},
   "outputs": [
    {
     "output_type": "execute_result",
     "data": {
      "text/plain": [
       "'Punjab Kings new recruit Shahrukh Khan was spotted having a conversation with MS Dhoni after Chennai Super Kings cruised to a six-wicket win at the Wankhede Stadium on Friday. Khan made 47 off 36 balls and helped his side cross 100 after Deepak Chahar\\'s four-for ran through Punjab\\'s top-order. In the end, PBKS managed to gather only 106 for eight after reeling at 27 for five, and an attacking 66-run stand between Moeen Ali and Faf du Plessis helped CSK register their first victory of the season. After the win, skipper Dhoni, playing his 200th match for the Chennai-based outfit, was spotted passing tips to Shahrukh. The picture instantly went viral on social space after the official Twitter handle of IPL shared it after the match. Chennai Super Kings\\' official Twitter handle also shared a picture of a young Shahrukh and praised the 25-year-old\\'s knock. Shahrukh had won the best all-rounder award at a Chennai Super Kings junior tournament when he was around 14. \"Lion forever! Well played Shahrukh, our Junior Super King, now a Punjab King,\" tweeted the franchise. Shahrukh, who has been entrusted with the task of finishing off matches for Punjab Kings, said that he has the ability to adapt and skills to bat anywhere. \"My role is playing down the order as a finisher but you don\\'t expect to go out and blast in every game because there will be situations where the team bundles out and you need to take responsibility and see the team through,\" he said at the post-match press conference. Known for his big-hitting prowess, the Tamil Nadu batsman struck jackpot with INR 5.25 crore bid from Punjab Kings in the mini-auction earlier this year. \"I\\'m branded as a complete finisher. I am a good batsman, I was batting up the order for Tamil Nadu for a couple of years.So, I\\'ve been batting at the top order. I\\'ve the skill in me to bat and see the team through in tough situations. \"I think I\\'ve really developed my game as a finisher in the last couple of years but still, my core game is still with me- See the ball and play normal cricketing shots,\" he added.'"
      ]
     },
     "metadata": {},
     "execution_count": 34
    }
   ],
   "source": [
    "inputs = tokenizer(article, max_length=512, padding=\"max_length\", return_tensors=\"pt\")\n",
    "input_ids = inputs.input_ids\n",
    "attention_mask = inputs.attention_mask\n",
    "tokenizer.decode(input_ids.tolist()[0])"
   ]
  },
  {
   "cell_type": "code",
   "execution_count": 35,
   "metadata": {},
   "outputs": [
    {
     "output_type": "execute_result",
     "data": {
      "text/plain": [
       "512"
      ]
     },
     "metadata": {},
     "execution_count": 35
    }
   ],
   "source": [
    "len(input_ids[0])"
   ]
  },
  {
   "cell_type": "code",
   "execution_count": 36,
   "metadata": {},
   "outputs": [],
   "source": [
    "device = torch.device(\"cuda:0\") if torch.cuda.is_available() else torch.device(\"cpu\")\n",
    "model.to(device)\n",
    "o = model.generate(input_ids.to(device), attention_mask=attention_mask.to(device))"
   ]
  },
  {
   "cell_type": "code",
   "execution_count": 37,
   "metadata": {},
   "outputs": [
    {
     "output_type": "execute_result",
     "data": {
      "text/plain": [
       "['<s> The the “ The The The The The The The The The A “ the the the the the']"
      ]
     },
     "metadata": {},
     "execution_count": 37
    }
   ],
   "source": [
    "tokenizer.batch_decode(o.cpu())"
   ]
  },
  {
   "cell_type": "code",
   "execution_count": null,
   "metadata": {},
   "outputs": [],
   "source": []
  }
 ]
}